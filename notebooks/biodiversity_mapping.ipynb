{
  "cells": [
    {
      "cell_type": "markdown",
      "metadata": {
        "colab_type": "text",
        "id": "view-in-github"
      },
      "source": [
        "<a href=\"https://colab.research.google.com/github/iobis/pyobis/blob/main/notebooks/biodiversity_mapping.ipynb\" target=\"_parent\"><img src=\"https://colab.research.google.com/assets/colab-badge.svg\" alt=\"Open In Colab\"/></a>"
      ]
    },
    {
      "cell_type": "markdown",
      "metadata": {
        "id": "W7oiUBur5zyK"
      },
      "source": [
        "## Biodiversity mapping\n",
        "\n",
        "Search for the order Scleractinia and extract all records. We will use `pyobis` to fetch data and then visualize."
      ]
    },
    {
      "cell_type": "markdown",
      "metadata": {
        "id": "e-C3ZweHpG9D"
      },
      "source": [
        "Searching the order [Scleractinia](https://www.marinespecies.org/aphia.php?p=taxdetails&id=1363) and drill down to all species.\n",
        "\n",
        "AphiaID 1363 (urn:lsid:marinespecies.org:taxname:1363)"
      ]
    },
    {
      "cell_type": "markdown",
      "metadata": {
        "id": "f7OHskpx5-R6"
      },
      "source": [
        "## installing pyobis"
      ]
    },
    {
      "cell_type": "code",
      "execution_count": 1,
      "metadata": {
        "id": "ZFTNtZ_55whv"
      },
      "outputs": [],
      "source": [
        "try:\n",
        "  import pyobis\n",
        "except:\n",
        "  %pip -q install pyobis\n",
        "  import pyobis"
      ]
    },
    {
      "cell_type": "markdown",
      "metadata": {
        "id": "1xuzuA--pG27"
      },
      "source": [
        "## importing modules"
      ]
    },
    {
      "cell_type": "code",
      "execution_count": 2,
      "metadata": {
        "id": "5DdYlj-E6CvC"
      },
      "outputs": [],
      "source": [
        "from matplotlib import pyplot as plt\n",
        "import pandas as pd\n",
        "import numpy as np\n",
        "import seaborn as sns\n",
        "%matplotlib inline"
      ]
    },
    {
      "cell_type": "code",
      "execution_count": 3,
      "metadata": {
        "id": "LrDVvIlZz4O4"
      },
      "outputs": [],
      "source": [
        "try:\n",
        "  import geoplot\n",
        "except:\n",
        "  %pip -q install geoplot\n",
        "  import geoplot"
      ]
    },
    {
      "cell_type": "code",
      "execution_count": 4,
      "metadata": {
        "id": "9L2FdrEPYn2R"
      },
      "outputs": [],
      "source": [
        "try:\n",
        "  import geopandas as gpd\n",
        "except:\n",
        "  %pip -q install geopandas\n",
        "  import geopandas as gpd"
      ]
    },
    {
      "cell_type": "code",
      "execution_count": 5,
      "metadata": {
        "id": "rdh9fKc46NfQ"
      },
      "outputs": [],
      "source": [
        "from pyobis.occurrences import OccQuery"
      ]
    },
    {
      "cell_type": "markdown",
      "metadata": {
        "id": "3NLXlX6z4Dom"
      },
      "source": [
        "**Known Bug**: Need to reinstall shapely on Google Colab since it causes crash. And then restart once."
      ]
    },
    {
      "cell_type": "code",
      "execution_count": 6,
      "metadata": {
        "colab": {
          "base_uri": "https://localhost:8080/",
          "height": 575
        },
        "id": "DdvHJk6e3sOq",
        "outputId": "3b142706-5694-4db4-c395-37efd6a00cb3"
      },
      "outputs": [
        {
          "name": "stdout",
          "output_type": "stream",
          "text": [
            "Found existing installation: Shapely 1.8.4\n",
            "Uninstalling Shapely-1.8.4:\n",
            "  Would remove:\n",
            "    /usr/local/lib/python3.7/dist-packages/Shapely-1.8.4.dist-info/*\n",
            "    /usr/local/lib/python3.7/dist-packages/Shapely.libs/libgeos-35e678a0.so.3.10.3\n",
            "    /usr/local/lib/python3.7/dist-packages/Shapely.libs/libgeos_c-c8ec7514.so.1.16.1\n",
            "    /usr/local/lib/python3.7/dist-packages/shapely/*\n",
            "Proceed (y/n)? y\n",
            "  Successfully uninstalled Shapely-1.8.4\n",
            "Looking in indexes: https://pypi.org/simple, https://us-python.pkg.dev/colab-wheels/public/simple/\n",
            "Collecting shapely\n",
            "  Downloading Shapely-1.8.4.tar.gz (199 kB)\n",
            "\u001b[K     |████████████████████████████████| 199 kB 3.3 MB/s \n",
            "\u001b[?25h  Installing build dependencies ... \u001b[?25l\u001b[?25hdone\n",
            "\u001b[33m  WARNING: Missing build requirements in pyproject.toml for shapely from https://files.pythonhosted.org/packages/b5/9a/625d4fc91ef85873801a16700840786117df4c016162a4532c998a7fe6bc/Shapely-1.8.4.tar.gz#sha256=a195e51caafa218291f2cbaa3fef69fd3353c93ec4b65b2a4722c4cf40c3198c.\u001b[0m\n",
            "\u001b[33m  WARNING: The project does not specify a build backend, and pip cannot fall back to setuptools without 'wheel'.\u001b[0m\n",
            "  Getting requirements to build wheel ... \u001b[?25l\u001b[?25hdone\n",
            "  Installing backend dependencies ... \u001b[?25l\u001b[?25hdone\n",
            "    Preparing wheel metadata ... \u001b[?25l\u001b[?25hdone\n",
            "Building wheels for collected packages: shapely\n",
            "  Building wheel for shapely (PEP 517) ... \u001b[?25l\u001b[?25hdone\n",
            "  Created wheel for shapely: filename=Shapely-1.8.4-cp37-cp37m-linux_x86_64.whl size=669423 sha256=5cd2a878c5a9a011d0ec52f57602d5642db06755fa2c30352921c0b2cd87297a\n",
            "  Stored in directory: /root/.cache/pip/wheels/0b/f0/55/139a0ab07fbf91378f9b7062842aee4d4bb3566a1fc30ac7a4\n",
            "Successfully built shapely\n",
            "Installing collected packages: shapely\n",
            "Successfully installed shapely-1.8.4\n"
          ]
        },
        {
          "data": {
            "application/vnd.colab-display-data+json": {
              "pip_warning": {
                "packages": [
                  "shapely"
                ]
              }
            }
          },
          "metadata": {},
          "output_type": "display_data"
        }
      ],
      "source": [
        "!pip uninstall shapely\n",
        "!pip install shapely --no-binary shapely"
      ]
    },
    {
      "cell_type": "markdown",
      "metadata": {
        "id": "89uXfTSm6Au_"
      },
      "source": [
        "### importing other modules\n",
        "The below modules will be used when querying through the dynamic map (utilising widgets)."
      ]
    },
    {
      "cell_type": "code",
      "execution_count": 12,
      "metadata": {
        "id": "5WK-0HLg-ljK"
      },
      "outputs": [],
      "source": [
        "from ipywidgets import interact, interactive, fixed, interact_manual\n",
        "import ipywidgets as widgets"
      ]
    },
    {
      "cell_type": "markdown",
      "metadata": {
        "id": "rCVnFeCy6VYY"
      },
      "source": [
        "## grabbing the data"
      ]
    },
    {
      "cell_type": "markdown",
      "metadata": {
        "id": "iklzj4df4sqH"
      },
      "source": [
        "Since our analysis will be highly dependent on the depth parameter, we will choose only non NaN values."
      ]
    },
    {
      "cell_type": "code",
      "execution_count": 6,
      "metadata": {
        "id": "YKT--reaqNx8"
      },
      "outputs": [],
      "source": [
        "occ = OccQuery()"
      ]
    },
    {
      "cell_type": "markdown",
      "metadata": {
        "id": "_115M3yGqt9H"
      },
      "source": [
        "Let us also define the specific range of depth we are interested in."
      ]
    },
    {
      "cell_type": "code",
      "execution_count": 7,
      "metadata": {
        "id": "DDedmWueqyqM"
      },
      "outputs": [],
      "source": [
        "STARTDEPTH = 0\n",
        "ENDDEPTH = 30"
      ]
    },
    {
      "cell_type": "code",
      "execution_count": 8,
      "metadata": {
        "colab": {
          "base_uri": "https://localhost:8080/"
        },
        "id": "Qr3PzdxV6XJw",
        "outputId": "4433a8b3-e90c-43fa-f6a9-3089883628ef"
      },
      "outputs": [
        {
          "name": "stdout",
          "output_type": "stream",
          "text": [
            "\n",
            "Fetched 526647 records.\n"
          ]
        }
      ],
      "source": [
        "# it returns a pandas DataFrame object\n",
        "# Scleractinia == taxon 1363\n",
        "df = occ.search(taxonid=1363, startdepth=STARTDEPTH, enddepth=ENDDEPTH)"
      ]
    },
    {
      "cell_type": "code",
      "execution_count": null,
      "metadata": {
        "colab": {
          "base_uri": "https://localhost:8080/",
          "height": 351
        },
        "id": "1ubH91yUrGqC",
        "outputId": "cba83150-1ebc-4137-e918-220318ad416c"
      },
      "outputs": [
        {
          "data": {
            "text/html": [
              "\n",
              "  <div id=\"df-2a65356b-7c72-4a5d-92a3-47252dab8882\">\n",
              "    <div class=\"colab-df-container\">\n",
              "      <div>\n",
              "<style scoped>\n",
              "    .dataframe tbody tr th:only-of-type {\n",
              "        vertical-align: middle;\n",
              "    }\n",
              "\n",
              "    .dataframe tbody tr th {\n",
              "        vertical-align: top;\n",
              "    }\n",
              "\n",
              "    .dataframe thead th {\n",
              "        text-align: right;\n",
              "    }\n",
              "</style>\n",
              "<table border=\"1\" class=\"dataframe\">\n",
              "  <thead>\n",
              "    <tr style=\"text-align: right;\">\n",
              "      <th></th>\n",
              "      <th>brackish</th>\n",
              "      <th>date_year</th>\n",
              "      <th>scientificNameID</th>\n",
              "      <th>year</th>\n",
              "      <th>scientificName</th>\n",
              "      <th>coordinateUncertaintyInMeters</th>\n",
              "      <th>absence</th>\n",
              "      <th>dropped</th>\n",
              "      <th>genusid</th>\n",
              "      <th>aphiaID</th>\n",
              "      <th>...</th>\n",
              "      <th>forma</th>\n",
              "      <th>formaid</th>\n",
              "      <th>materialSampleID</th>\n",
              "      <th>taxonConceptID</th>\n",
              "      <th>infraspecificEpithet</th>\n",
              "      <th>recordedByID</th>\n",
              "      <th>variety</th>\n",
              "      <th>varietyid</th>\n",
              "      <th>sex</th>\n",
              "      <th>establishmentMeans</th>\n",
              "    </tr>\n",
              "  </thead>\n",
              "  <tbody>\n",
              "    <tr>\n",
              "      <th>0</th>\n",
              "      <td>False</td>\n",
              "      <td>2009.0</td>\n",
              "      <td>urn:lsid:marinespecies.org:taxname:206938</td>\n",
              "      <td>2009</td>\n",
              "      <td>Pocillopora</td>\n",
              "      <td>100.0</td>\n",
              "      <td>False</td>\n",
              "      <td>False</td>\n",
              "      <td>206938.0</td>\n",
              "      <td>206938</td>\n",
              "      <td>...</td>\n",
              "      <td>NaN</td>\n",
              "      <td>NaN</td>\n",
              "      <td>NaN</td>\n",
              "      <td>NaN</td>\n",
              "      <td>NaN</td>\n",
              "      <td>NaN</td>\n",
              "      <td>NaN</td>\n",
              "      <td>NaN</td>\n",
              "      <td>NaN</td>\n",
              "      <td>NaN</td>\n",
              "    </tr>\n",
              "    <tr>\n",
              "      <th>1</th>\n",
              "      <td>False</td>\n",
              "      <td>2008.0</td>\n",
              "      <td>urn:lsid:marinespecies.org:taxname:207470</td>\n",
              "      <td>2008</td>\n",
              "      <td>Leptastrea purpurea</td>\n",
              "      <td>100.0</td>\n",
              "      <td>False</td>\n",
              "      <td>False</td>\n",
              "      <td>204278.0</td>\n",
              "      <td>207470</td>\n",
              "      <td>...</td>\n",
              "      <td>NaN</td>\n",
              "      <td>NaN</td>\n",
              "      <td>NaN</td>\n",
              "      <td>NaN</td>\n",
              "      <td>NaN</td>\n",
              "      <td>NaN</td>\n",
              "      <td>NaN</td>\n",
              "      <td>NaN</td>\n",
              "      <td>NaN</td>\n",
              "      <td>NaN</td>\n",
              "    </tr>\n",
              "    <tr>\n",
              "      <th>2</th>\n",
              "      <td>False</td>\n",
              "      <td>2000.0</td>\n",
              "      <td>urn:lsid:marinespecies.org:taxname:291119</td>\n",
              "      <td>2000</td>\n",
              "      <td>Stephanocoenia intersepta</td>\n",
              "      <td>NaN</td>\n",
              "      <td>False</td>\n",
              "      <td>False</td>\n",
              "      <td>267860.0</td>\n",
              "      <td>291119</td>\n",
              "      <td>...</td>\n",
              "      <td>NaN</td>\n",
              "      <td>NaN</td>\n",
              "      <td>NaN</td>\n",
              "      <td>NaN</td>\n",
              "      <td>NaN</td>\n",
              "      <td>NaN</td>\n",
              "      <td>NaN</td>\n",
              "      <td>NaN</td>\n",
              "      <td>NaN</td>\n",
              "      <td>NaN</td>\n",
              "    </tr>\n",
              "    <tr>\n",
              "      <th>3</th>\n",
              "      <td>False</td>\n",
              "      <td>2009.0</td>\n",
              "      <td>urn:lsid:marinespecies.org:taxname:291119</td>\n",
              "      <td>2009</td>\n",
              "      <td>Stephanocoenia intersepta</td>\n",
              "      <td>NaN</td>\n",
              "      <td>False</td>\n",
              "      <td>False</td>\n",
              "      <td>267860.0</td>\n",
              "      <td>291119</td>\n",
              "      <td>...</td>\n",
              "      <td>NaN</td>\n",
              "      <td>NaN</td>\n",
              "      <td>NaN</td>\n",
              "      <td>NaN</td>\n",
              "      <td>NaN</td>\n",
              "      <td>NaN</td>\n",
              "      <td>NaN</td>\n",
              "      <td>NaN</td>\n",
              "      <td>NaN</td>\n",
              "      <td>NaN</td>\n",
              "    </tr>\n",
              "    <tr>\n",
              "      <th>4</th>\n",
              "      <td>False</td>\n",
              "      <td>2010.0</td>\n",
              "      <td>urn:lsid:marinespecies.org:taxname:207225</td>\n",
              "      <td>2010</td>\n",
              "      <td>Porites lobata</td>\n",
              "      <td>100.0</td>\n",
              "      <td>False</td>\n",
              "      <td>False</td>\n",
              "      <td>206485.0</td>\n",
              "      <td>207225</td>\n",
              "      <td>...</td>\n",
              "      <td>NaN</td>\n",
              "      <td>NaN</td>\n",
              "      <td>NaN</td>\n",
              "      <td>NaN</td>\n",
              "      <td>NaN</td>\n",
              "      <td>NaN</td>\n",
              "      <td>NaN</td>\n",
              "      <td>NaN</td>\n",
              "      <td>NaN</td>\n",
              "      <td>NaN</td>\n",
              "    </tr>\n",
              "  </tbody>\n",
              "</table>\n",
              "<p>5 rows × 173 columns</p>\n",
              "</div>\n",
              "      <button class=\"colab-df-convert\" onclick=\"convertToInteractive('df-2a65356b-7c72-4a5d-92a3-47252dab8882')\"\n",
              "              title=\"Convert this dataframe to an interactive table.\"\n",
              "              style=\"display:none;\">\n",
              "        \n",
              "  <svg xmlns=\"http://www.w3.org/2000/svg\" height=\"24px\"viewBox=\"0 0 24 24\"\n",
              "       width=\"24px\">\n",
              "    <path d=\"M0 0h24v24H0V0z\" fill=\"none\"/>\n",
              "    <path d=\"M18.56 5.44l.94 2.06.94-2.06 2.06-.94-2.06-.94-.94-2.06-.94 2.06-2.06.94zm-11 1L8.5 8.5l.94-2.06 2.06-.94-2.06-.94L8.5 2.5l-.94 2.06-2.06.94zm10 10l.94 2.06.94-2.06 2.06-.94-2.06-.94-.94-2.06-.94 2.06-2.06.94z\"/><path d=\"M17.41 7.96l-1.37-1.37c-.4-.4-.92-.59-1.43-.59-.52 0-1.04.2-1.43.59L10.3 9.45l-7.72 7.72c-.78.78-.78 2.05 0 2.83L4 21.41c.39.39.9.59 1.41.59.51 0 1.02-.2 1.41-.59l7.78-7.78 2.81-2.81c.8-.78.8-2.07 0-2.86zM5.41 20L4 18.59l7.72-7.72 1.47 1.35L5.41 20z\"/>\n",
              "  </svg>\n",
              "      </button>\n",
              "      \n",
              "  <style>\n",
              "    .colab-df-container {\n",
              "      display:flex;\n",
              "      flex-wrap:wrap;\n",
              "      gap: 12px;\n",
              "    }\n",
              "\n",
              "    .colab-df-convert {\n",
              "      background-color: #E8F0FE;\n",
              "      border: none;\n",
              "      border-radius: 50%;\n",
              "      cursor: pointer;\n",
              "      display: none;\n",
              "      fill: #1967D2;\n",
              "      height: 32px;\n",
              "      padding: 0 0 0 0;\n",
              "      width: 32px;\n",
              "    }\n",
              "\n",
              "    .colab-df-convert:hover {\n",
              "      background-color: #E2EBFA;\n",
              "      box-shadow: 0px 1px 2px rgba(60, 64, 67, 0.3), 0px 1px 3px 1px rgba(60, 64, 67, 0.15);\n",
              "      fill: #174EA6;\n",
              "    }\n",
              "\n",
              "    [theme=dark] .colab-df-convert {\n",
              "      background-color: #3B4455;\n",
              "      fill: #D2E3FC;\n",
              "    }\n",
              "\n",
              "    [theme=dark] .colab-df-convert:hover {\n",
              "      background-color: #434B5C;\n",
              "      box-shadow: 0px 1px 3px 1px rgba(0, 0, 0, 0.15);\n",
              "      filter: drop-shadow(0px 1px 2px rgba(0, 0, 0, 0.3));\n",
              "      fill: #FFFFFF;\n",
              "    }\n",
              "  </style>\n",
              "\n",
              "      <script>\n",
              "        const buttonEl =\n",
              "          document.querySelector('#df-2a65356b-7c72-4a5d-92a3-47252dab8882 button.colab-df-convert');\n",
              "        buttonEl.style.display =\n",
              "          google.colab.kernel.accessAllowed ? 'block' : 'none';\n",
              "\n",
              "        async function convertToInteractive(key) {\n",
              "          const element = document.querySelector('#df-2a65356b-7c72-4a5d-92a3-47252dab8882');\n",
              "          const dataTable =\n",
              "            await google.colab.kernel.invokeFunction('convertToInteractive',\n",
              "                                                     [key], {});\n",
              "          if (!dataTable) return;\n",
              "\n",
              "          const docLinkHtml = 'Like what you see? Visit the ' +\n",
              "            '<a target=\"_blank\" href=https://colab.research.google.com/notebooks/data_table.ipynb>data table notebook</a>'\n",
              "            + ' to learn more about interactive tables.';\n",
              "          element.innerHTML = '';\n",
              "          dataTable['output_type'] = 'display_data';\n",
              "          await google.colab.output.renderOutput(dataTable, element);\n",
              "          const docLink = document.createElement('div');\n",
              "          docLink.innerHTML = docLinkHtml;\n",
              "          element.appendChild(docLink);\n",
              "        }\n",
              "      </script>\n",
              "    </div>\n",
              "  </div>\n",
              "  "
            ],
            "text/plain": [
              "  brackish  date_year                           scientificNameID  year  \\\n",
              "0    False     2009.0  urn:lsid:marinespecies.org:taxname:206938  2009   \n",
              "1    False     2008.0  urn:lsid:marinespecies.org:taxname:207470  2008   \n",
              "2    False     2000.0  urn:lsid:marinespecies.org:taxname:291119  2000   \n",
              "3    False     2009.0  urn:lsid:marinespecies.org:taxname:291119  2009   \n",
              "4    False     2010.0  urn:lsid:marinespecies.org:taxname:207225  2010   \n",
              "\n",
              "              scientificName coordinateUncertaintyInMeters absence dropped  \\\n",
              "0                Pocillopora                         100.0   False   False   \n",
              "1        Leptastrea purpurea                         100.0   False   False   \n",
              "2  Stephanocoenia intersepta                           NaN   False   False   \n",
              "3  Stephanocoenia intersepta                           NaN   False   False   \n",
              "4             Porites lobata                         100.0   False   False   \n",
              "\n",
              "    genusid aphiaID  ...  forma formaid materialSampleID taxonConceptID  \\\n",
              "0  206938.0  206938  ...    NaN     NaN              NaN            NaN   \n",
              "1  204278.0  207470  ...    NaN     NaN              NaN            NaN   \n",
              "2  267860.0  291119  ...    NaN     NaN              NaN            NaN   \n",
              "3  267860.0  291119  ...    NaN     NaN              NaN            NaN   \n",
              "4  206485.0  207225  ...    NaN     NaN              NaN            NaN   \n",
              "\n",
              "   infraspecificEpithet recordedByID  variety varietyid  sex  \\\n",
              "0                   NaN          NaN      NaN       NaN  NaN   \n",
              "1                   NaN          NaN      NaN       NaN  NaN   \n",
              "2                   NaN          NaN      NaN       NaN  NaN   \n",
              "3                   NaN          NaN      NaN       NaN  NaN   \n",
              "4                   NaN          NaN      NaN       NaN  NaN   \n",
              "\n",
              "  establishmentMeans  \n",
              "0                NaN  \n",
              "1                NaN  \n",
              "2                NaN  \n",
              "3                NaN  \n",
              "4                NaN  \n",
              "\n",
              "[5 rows x 173 columns]"
            ]
          },
          "execution_count": 9,
          "metadata": {},
          "output_type": "execute_result"
        }
      ],
      "source": [
        "# let's see what we got\n",
        "df.head()"
      ]
    },
    {
      "cell_type": "markdown",
      "metadata": {
        "id": "94lFSDeOsWUx"
      },
      "source": [
        "## visualization\n",
        "\n",
        "### 1. year-wise distribution\n",
        "Let us see the year-wise distribution of records."
      ]
    },
    {
      "cell_type": "code",
      "execution_count": 9,
      "metadata": {
        "id": "_HHgWdWSx5DA"
      },
      "outputs": [],
      "source": [
        "# setting up seaborn\n",
        "sns.set(style=\"darkgrid\", rc={'figure.figsize':(25,8)})\n",
        "# getting the basemap\n",
        "countries = gpd.read_file(gpd.datasets.get_path(\"naturalearth_lowres\"))"
      ]
    },
    {
      "cell_type": "code",
      "execution_count": null,
      "metadata": {
        "colab": {
          "base_uri": "https://localhost:8080/",
          "height": 520
        },
        "id": "VWz23cYWt4ds",
        "outputId": "5334c0cf-0b67-486a-ab99-29dabcf6dd68"
      },
      "outputs": [
        {
          "data": {
            "image/png": "[encoded data removed]",
            "text/plain": [
              "<Figure size 1440x576 with 1 Axes>"
            ]
          },
          "metadata": {},
          "output_type": "display_data"
        }
      ],
      "source": [
        "ax = df.groupby(\"year\").date_mid.count().plot.bar(figsize = (20,8))"
      ]
    },
    {
      "cell_type": "markdown",
      "metadata": {
        "id": "kzZgN4mHQmrc"
      },
      "source": [
        "We can see from the plot that 2010 has got the highest number of records. Although there is a lot of variation yet the number of records has risen significatly after 1995 in comparison to the earlier years where the data is almost negligible."
      ]
    },
    {
      "cell_type": "markdown",
      "metadata": {
        "id": "K5DxuBtysbZp"
      },
      "source": [
        "### based on point density"
      ]
    },
    {
      "cell_type": "code",
      "execution_count": 9,
      "metadata": {
        "id": "LNHRWtDv1mbI"
      },
      "outputs": [],
      "source": [
        "# convert to a GeoDataFrame\n",
        "gdf = gpd.GeoDataFrame(\n",
        "    df, geometry=gpd.points_from_xy(df.decimalLongitude, df.decimalLatitude),\n",
        "    crs=\"EPSG:4326\")"
      ]
    },
    {
      "cell_type": "code",
      "execution_count": 10,
      "metadata": {
        "id": "Wt7HmQXE_c4-"
      },
      "outputs": [],
      "source": [
        "from matplotlib import rcParams\n",
        "rcParams[\"figure.figsize\"] = (15,10)"
      ]
    },
    {
      "cell_type": "code",
      "execution_count": 11,
      "metadata": {
        "colab": {
          "base_uri": "https://localhost:8080/"
        },
        "id": "nzQ82_IyX5uL",
        "outputId": "14493c56-2eb9-4605-a9ea-899b99bb3b60"
      },
      "outputs": [
        {
          "name": "stdout",
          "output_type": "stream",
          "text": [
            "\u001b[?25l\r\u001b[K     |█████▌                          | 10 kB 20.8 MB/s eta 0:00:01\r\u001b[K     |███████████                     | 20 kB 13.7 MB/s eta 0:00:01\r\u001b[K     |████████████████▋               | 30 kB 7.8 MB/s eta 0:00:01\r\u001b[K     |██████████████████████          | 40 kB 3.5 MB/s eta 0:00:01\r\u001b[K     |███████████████████████████▋    | 51 kB 3.9 MB/s eta 0:00:01\r\u001b[K     |████████████████████████████████| 59 kB 2.8 MB/s \n",
            "\u001b[?25h"
          ]
        }
      ],
      "source": [
        "try:\n",
        "  import regionmask\n",
        "except:\n",
        "  %pip -q install regionmask\n",
        "  import regionmask"
      ]
    },
    {
      "cell_type": "code",
      "execution_count": 12,
      "metadata": {
        "id": "kG8TM29cYEAM"
      },
      "outputs": [],
      "source": [
        "basins = regionmask.defined_regions.natural_earth_v5_0_0.ocean_basins_50.to_geodataframe()\n",
        "basins = basins.dissolve()"
      ]
    },
    {
      "cell_type": "code",
      "execution_count": 15,
      "metadata": {
        "colab": {
          "base_uri": "https://localhost:8080/",
          "height": 757
        },
        "id": "dmiDd2t17afU",
        "outputId": "2bfaefaa-e876-4019-ef86-c46ce9073c55"
      },
      "outputs": [
        {
          "name": "stderr",
          "output_type": "stream",
          "text": [
            "/usr/local/lib/python3.7/dist-packages/geoplot/geoplot.py:709: UserWarning: Could not set plot extent successfully due to numerical instability. Try setting extent manually. Defaulting to a global extent.\n",
            "  'Could not set plot extent successfully due to numerical instability. '\n",
            "/usr/local/lib/python3.7/dist-packages/cartopy/crs.py:228: ShapelyDeprecationWarning: __len__ for multi-part geometries is deprecated and will be removed in Shapely 2.0. Check the length of the `geoms` property instead to get the  number of parts of a multi-part geometry.\n",
            "  if len(multi_line_string) > 1:\n",
            "/usr/local/lib/python3.7/dist-packages/cartopy/crs.py:280: ShapelyDeprecationWarning: Iteration over multi-part geometries is deprecated and will be removed in Shapely 2.0. Use the `geoms` property to access the constituent parts of a multi-part geometry.\n",
            "  for line in multi_line_string:\n",
            "/usr/local/lib/python3.7/dist-packages/cartopy/crs.py:347: ShapelyDeprecationWarning: __len__ for multi-part geometries is deprecated and will be removed in Shapely 2.0. Check the length of the `geoms` property instead to get the  number of parts of a multi-part geometry.\n",
            "  if len(p_mline) > 0:\n",
            "/usr/local/lib/python3.7/dist-packages/cartopy/crs.py:228: ShapelyDeprecationWarning: __len__ for multi-part geometries is deprecated and will be removed in Shapely 2.0. Check the length of the `geoms` property instead to get the  number of parts of a multi-part geometry.\n",
            "  if len(multi_line_string) > 1:\n",
            "/usr/local/lib/python3.7/dist-packages/cartopy/crs.py:280: ShapelyDeprecationWarning: Iteration over multi-part geometries is deprecated and will be removed in Shapely 2.0. Use the `geoms` property to access the constituent parts of a multi-part geometry.\n",
            "  for line in multi_line_string:\n",
            "/usr/local/lib/python3.7/dist-packages/cartopy/crs.py:347: ShapelyDeprecationWarning: __len__ for multi-part geometries is deprecated and will be removed in Shapely 2.0. Check the length of the `geoms` property instead to get the  number of parts of a multi-part geometry.\n",
            "  if len(p_mline) > 0:\n",
            "/usr/local/lib/python3.7/dist-packages/cartopy/crs.py:239: ShapelyDeprecationWarning: Iteration over multi-part geometries is deprecated and will be removed in Shapely 2.0. Use the `geoms` property to access the constituent parts of a multi-part geometry.\n",
            "  line_strings = list(multi_line_string)\n",
            "/usr/local/lib/python3.7/dist-packages/cartopy/crs.py:239: ShapelyDeprecationWarning: __len__ for multi-part geometries is deprecated and will be removed in Shapely 2.0. Check the length of the `geoms` property instead to get the  number of parts of a multi-part geometry.\n",
            "  line_strings = list(multi_line_string)\n",
            "/usr/local/lib/python3.7/dist-packages/cartopy/crs.py:385: ShapelyDeprecationWarning: Iteration over multi-part geometries is deprecated and will be removed in Shapely 2.0. Use the `geoms` property to access the constituent parts of a multi-part geometry.\n",
            "  line_strings.extend(multi_line_string)\n",
            "/usr/local/lib/python3.7/dist-packages/cartopy/crs.py:385: ShapelyDeprecationWarning: __len__ for multi-part geometries is deprecated and will be removed in Shapely 2.0. Check the length of the `geoms` property instead to get the  number of parts of a multi-part geometry.\n",
            "  line_strings.extend(multi_line_string)\n"
          ]
        },
        {
          "data": {
            "image/png": "[encoded data removed]",
            "text/plain": [
              "<Figure size 576x432 with 1 Axes>"
            ]
          },
          "metadata": {},
          "output_type": "display_data"
        }
      ],
      "source": [
        "ax = geoplot.polyplot(countries, projection=geoplot.crs.WebMercator())\n",
        "geoplot.kdeplot(gdf, cmap='Reds', shade=True, clip=basins, ax=ax);"
      ]
    },
    {
      "cell_type": "markdown",
      "metadata": {
        "id": "D9x_SpSSshMB"
      },
      "source": [
        "### with latitude and longitude stacked side-by-side"
      ]
    },
    {
      "cell_type": "code",
      "execution_count": 10,
      "metadata": {
        "colab": {
          "base_uri": "https://localhost:8080/",
          "height": 578
        },
        "id": "22RAJLvOABC4",
        "outputId": "41afccde-4f70-4af7-f08d-b103f343dbf7"
      },
      "outputs": [
        {
          "data": {
            "image/png": "[encoded data removed]",
            "text/plain": [
              "<Figure size 1224x655.2 with 4 Axes>"
            ]
          },
          "metadata": {},
          "output_type": "display_data"
        }
      ],
      "source": [
        "f, axes = plt.subplots(2, 2, figsize=(17,9.1), gridspec_kw={'width_ratios': [16, 1], 'height_ratios': [1, 8.7]})\n",
        "df[\"decimalLongitude\"].astype(int).plot.hist(ax=axes[0][0], bins=50, range=(-180, 180))\n",
        "axes[0][0].set_title(\"Longitude\")\n",
        "\n",
        "axes[0][1].set_facecolor('white')\n",
        "axes[0][1].tick_params(left=False, bottom=False, labelbottom=False, labelleft=False)\n",
        "\n",
        "countries.plot(color=\"lightgrey\", figsize=(16, 8.4), ax = axes[1][0])\n",
        "sns.scatterplot(data=df, x=\"decimalLongitude\", y=\"decimalLatitude\", linewidth=0, ax=axes[1][0])\n",
        "\n",
        "axes[1][0].set_xlim(-180,180)\n",
        "axes[1][0].set_ylim(-90, 90)\n",
        "axes[1][0].set_title(\"Occurrence Records with heatmap based point density.\")\n",
        "axes[1][0].set_xlabel(\"\")\n",
        "axes[1][0].set_ylabel(\"\")\n",
        "df[\"decimalLatitude\"].astype(int).plot.hist(orientation='horizontal', ax=axes[1][1], bins=50, range=(-90, 90))\n",
        "\n",
        "axes[1][1].set_title(\"Latitude\")\n",
        "plt.show()"
      ]
    },
    {
      "cell_type": "markdown",
      "metadata": {
        "id": "98BiCP9Lskuw"
      },
      "source": [
        "--------------------\n",
        "--------------------"
      ]
    },
    {
      "cell_type": "markdown",
      "metadata": {
        "id": "ETZg15qkAubW"
      },
      "source": [
        "## Dynamic Plot"
      ]
    },
    {
      "cell_type": "code",
      "execution_count": 13,
      "metadata": {
        "id": "wJ7eFPgkxyf9"
      },
      "outputs": [],
      "source": [
        "# defining areas of outputs\n",
        "map_out = widgets.Output(layout={'border': '1px solid black', 'padding': '0 4px 15px 4px'})\n",
        "map_out.append_stdout('map output\\n')\n",
        "\n",
        "graph_out = widgets.Output(layout={'border': '1px solid black', 'padding': '0 0 15px 4px'})\n",
        "graph_out.append_stdout('graph output\\n')\n",
        "\n",
        "zoom_out = widgets.Output(layout={'border': '1px solid black', 'padding': '0 4px 15px 0'})\n",
        "zoom_out.append_stdout('set a (lat, lon) to view zoom view\\n')"
      ]
    },
    {
      "cell_type": "code",
      "execution_count": 14,
      "metadata": {
        "id": "atnnXpPv6jcQ"
      },
      "outputs": [],
      "source": [
        "# setting the buttons and fields\n",
        "taxonInput = widgets.IntText(description=\"Enter Taxon ID\", value = 1363)\n",
        "taxonButton = widgets.Button(description=\"Fetch Data\")\n",
        "graph = widgets.Button(description=\"Show graph\")\n",
        "map = widgets.Button(description=\"Show map\")\n",
        "zoom_button = widgets.Button(description=\"Open zoomed\")\n",
        "ilats = widgets.IntText(description=\"Lat.\")\n",
        "ilons = widgets.IntText(description=\"Long.\")\n",
        "zoom = widgets.IntText(description=\"Zoom by:\", value=20)"
      ]
    },
    {
      "cell_type": "code",
      "execution_count": 15,
      "metadata": {
        "id": "HtjLJpbQx2H9"
      },
      "outputs": [],
      "source": [
        "# defining click events\n",
        "def on_taxon_updated(b):\n",
        "  req = occ.search(taxonid = taxonInput.value, startdepth = -2000)\n",
        "  df = pd.DataFrame(req[\"results\"])\n",
        "\n",
        "@map_out.capture()\n",
        "def on_map_clicked(b):\n",
        "  map_out.clear_output()\n",
        "  countries.plot(color=\"grey\", figsize=(11,6))\n",
        "  plt.title(\"records\")\n",
        "  wmap = plt.scatter(data=df, x=\"decimalLongitude\", y=\"decimalLatitude\", c=df[\"depth\"], cmap=\"coolwarm\")\n",
        "  plt.xlabel(\"\")\n",
        "  plt.ylabel(\"\")\n",
        "  plt.colorbar(wmap)\n",
        "  plt.show()\n",
        "\n",
        "@zoom_out.capture()\n",
        "def on_zoom_clicked(b):\n",
        "  zoom_out.clear_output()\n",
        "  ax = countries.plot(color=\"lightgrey\")\n",
        "  plt.scatter(data=df, x=\"decimalLongitude\", y=\"decimalLatitude\", c=df[\"depth\"], cmap=\"coolwarm\")\n",
        "  plt.rc('figure',figsize=(5,5))\n",
        "  plt.xlabel(\"\")\n",
        "  plt.ylabel(\"\")\n",
        "  plt.title(f\"zoomed around {ilons.value, ilats.value}\")\n",
        "  ax.set_xlim(ilons.value-zoom.value,ilons.value+zoom.value)\n",
        "  ax.set_ylim(ilats.value-zoom.value,ilats.value+zoom.value)\n",
        "  plt.show()\n",
        "\n",
        "@graph_out.capture()\n",
        "def on_graph_clicked(b):\n",
        "  graph_out.clear_output()\n",
        "  plt.figure(figsize=(5,2.2))\n",
        "  plt.title(\"records histogram\");\n",
        "  sns.histplot(df[\"decimalLatitude\"].astype(int), kde=True)\n",
        "  plt.figure(figsize=(5,2.2))\n",
        "  sns.histplot(df[\"decimalLongitude\"].astype(int), kde=True)\n",
        "  graph_out.append_stdout(plt.show())\n",
        "\n",
        "taxonButton.on_click(on_taxon_updated)\n",
        "graph.on_click(on_graph_clicked)\n",
        "map.on_click(on_map_clicked)\n",
        "zoom_button.on_click(on_zoom_clicked)"
      ]
    },
    {
      "cell_type": "markdown",
      "metadata": {
        "id": "2myez2wvxmPt"
      },
      "source": [
        "Let's see the widgets."
      ]
    },
    {
      "cell_type": "code",
      "execution_count": 16,
      "metadata": {
        "colab": {
          "base_uri": "https://localhost:8080/",
          "height": 486,
          "referenced_widgets": [
            "b0ed97ee7bc14774982ff59ad09f8772",
            "85f6ac6bc3264f18bbf2dca00da9cc65",
            "aa372582e2ad4b38b6b39979293b6ef6",
            "631d3bdcd1f643dbad960d926818c33e",
            "c545521632094a0e95fbe4e3e711a092",
            "28b549829dab49c6b56163d201a74333",
            "b60b2f4f19c6477a92b5e9df951e8961",
            "420ce755ebc142ed9fc27a26a3c4d8b6",
            "5156d897c1ef49af8836a4a7fa186735",
            "8db93be55978426cb7d519a1ac531a01",
            "54b1f1ad7617468aa7eb6b7dddfa39f5",
            "c81042f4bcad4be88fdeed16da8e664f",
            "a52cf1a8051641e2a34e1636dfe8bf37",
            "8cc8015259804f82bd098c6b630bbe01",
            "c25cd2eadfe74079b9db11a129554737",
            "f2aa1eec70b04499af23a68e290289e7",
            "ae873bfc46e74ef7aee82f62bae71143",
            "a474096899494e3c9b69c048e80ecb43",
            "918ae83f4db74dcbb9fd80de94d6e6da",
            "c002b48d57d24c0f914e5dae6cc07ff7",
            "0d72ff996f4d4bbbbfb8d3782229811a",
            "249a5da5cfa94a0aaf5b457aac3819b0",
            "5cc41f106a0e4af191e4cea0685aeaf2",
            "c5058e2af86d47509876c684739727ae",
            "21c29fa6e10d43658fdf76fe6a0d31e1",
            "f4d6df8b876e43ce84d336fb3f713e06",
            "2f08e8a9b783423d8e5d5896d9faa7f2",
            "90fcb5580e6c4bbe9f89b6c735694ccc",
            "ec5523556fa84d98ac3ea615e66b557c",
            "18302eb20c2c42deab1072128aa7b37b",
            "9a1aa0e42fd645fe996d8c8b250a94c8",
            "e1e8ac3f7af74b13a854fd5b91377e10",
            "08fd2053e7b74c7a8a6a90792c56eb82",
            "bfb7eed201d04200a9dc5fb1a6771d4b",
            "d4ff8bb5880b44ffb340692fbae45dcc",
            "686a494efffc48128d82728383e683d6",
            "b1fe445e525e4e7687853eabb95a8101",
            "03c5110bfe3b48fd8d01a096430233f8",
            "8fecb4b3b8c44476ae4f9358ca3b4a0f",
            "d018b8a98bce4639a2b9a89e055e530f",
            "b77095d38e674efcb1ae04ddca9a723c",
            "a84fd4e103e244f785638fab3fb36524",
            "e11f328b3d554e0bb9efb3b654be0039",
            "540e2aed4cd345b09b8571a0ef765d5c"
          ]
        },
        "id": "TwG-OOwOxlgd",
        "outputId": "0fdcc0c2-a950-496e-b3db-838970d894a1"
      },
      "outputs": [
        {
          "data": {
            "application/vnd.jupyter.widget-view+json": {
              "model_id": "b0ed97ee7bc14774982ff59ad09f8772",
              "version_major": 2,
              "version_minor": 0
            },
            "text/plain": [
              "VBox(children=(HBox(children=(IntText(value=127405, description='Enter Taxon ID'), Button(description='Fetch D…"
            ]
          },
          "metadata": {},
          "output_type": "display_data"
        }
      ],
      "source": [
        "widgets.VBox([\n",
        "    widgets.HBox([\n",
        "        taxonInput, taxonButton\n",
        "    ]),\n",
        "    widgets.VBox([\n",
        "      widgets.HBox([zoom_out, map_out, graph_out]),\n",
        "        widgets.VBox([\n",
        "          widgets.HBox([ilons,ilats, zoom]),\n",
        "            widgets.HBox([map, zoom_button, graph])\n",
        "      ])\n",
        "  ])\n",
        "])"
      ]
    }
  ],
  "metadata": {
    "colab": {
      "authorship_tag": "ABX9TyNV4UlUCoeyskMIoe43e7/b",
      "collapsed_sections": [],
      "include_colab_link": true,
      "provenance": []
    },
    "kernelspec": {
      "display_name": "Python 3.8.10 64-bit",
      "language": "python",
      "name": "python3"
    },
    "language_info": {
      "name": "python",
      "version": "3.8.10"
    },
    "vscode": {
      "interpreter": {
        "hash": "916dbcbb3f70747c44a77c7bcd40155683ae19c65e1c03b4aa3499c5328201f1"
      }
    },
    "widgets": {
      "application/vnd.jupyter.widget-state+json": {
        "03c5110bfe3b48fd8d01a096430233f8": {
          "model_module": "@jupyter-widgets/base",
          "model_module_version": "1.2.0",
          "model_name": "LayoutModel",
          "state": {
            "_model_module": "@jupyter-widgets/base",
            "_model_module_version": "1.2.0",
            "_model_name": "LayoutModel",
            "_view_count": null,
            "_view_module": "@jupyter-widgets/base",
            "_view_module_version": "1.2.0",
            "_view_name": "LayoutView",
            "align_content": null,
            "align_items": null,
            "align_self": null,
            "border": null,
            "bottom": null,
            "display": null,
            "flex": null,
            "flex_flow": null,
            "grid_area": null,
            "grid_auto_columns": null,
            "grid_auto_flow": null,
            "grid_auto_rows": null,
            "grid_column": null,
            "grid_gap": null,
            "grid_row": null,
            "grid_template_areas": null,
            "grid_template_columns": null,
            "grid_template_rows": null,
            "height": null,
            "justify_content": null,
            "justify_items": null,
            "left": null,
            "margin": null,
            "max_height": null,
            "max_width": null,
            "min_height": null,
            "min_width": null,
            "object_fit": null,
            "object_position": null,
            "order": null,
            "overflow": null,
            "overflow_x": null,
            "overflow_y": null,
            "padding": null,
            "right": null,
            "top": null,
            "visibility": null,
            "width": null
          }
        },
        "08fd2053e7b74c7a8a6a90792c56eb82": {
          "model_module": "@jupyter-widgets/controls",
          "model_module_version": "1.5.0",
          "model_name": "DescriptionStyleModel",
          "state": {
            "_model_module": "@jupyter-widgets/controls",
            "_model_module_version": "1.5.0",
            "_model_name": "DescriptionStyleModel",
            "_view_count": null,
            "_view_module": "@jupyter-widgets/base",
            "_view_module_version": "1.2.0",
            "_view_name": "StyleView",
            "description_width": ""
          }
        },
        "0d72ff996f4d4bbbbfb8d3782229811a": {
          "model_module": "@jupyter-widgets/base",
          "model_module_version": "1.2.0",
          "model_name": "LayoutModel",
          "state": {
            "_model_module": "@jupyter-widgets/base",
            "_model_module_version": "1.2.0",
            "_model_name": "LayoutModel",
            "_view_count": null,
            "_view_module": "@jupyter-widgets/base",
            "_view_module_version": "1.2.0",
            "_view_name": "LayoutView",
            "align_content": null,
            "align_items": null,
            "align_self": null,
            "border": null,
            "bottom": null,
            "display": null,
            "flex": null,
            "flex_flow": null,
            "grid_area": null,
            "grid_auto_columns": null,
            "grid_auto_flow": null,
            "grid_auto_rows": null,
            "grid_column": null,
            "grid_gap": null,
            "grid_row": null,
            "grid_template_areas": null,
            "grid_template_columns": null,
            "grid_template_rows": null,
            "height": null,
            "justify_content": null,
            "justify_items": null,
            "left": null,
            "margin": null,
            "max_height": null,
            "max_width": null,
            "min_height": null,
            "min_width": null,
            "object_fit": null,
            "object_position": null,
            "order": null,
            "overflow": null,
            "overflow_x": null,
            "overflow_y": null,
            "padding": null,
            "right": null,
            "top": null,
            "visibility": null,
            "width": null
          }
        },
        "18302eb20c2c42deab1072128aa7b37b": {
          "model_module": "@jupyter-widgets/base",
          "model_module_version": "1.2.0",
          "model_name": "LayoutModel",
          "state": {
            "_model_module": "@jupyter-widgets/base",
            "_model_module_version": "1.2.0",
            "_model_name": "LayoutModel",
            "_view_count": null,
            "_view_module": "@jupyter-widgets/base",
            "_view_module_version": "1.2.0",
            "_view_name": "LayoutView",
            "align_content": null,
            "align_items": null,
            "align_self": null,
            "border": null,
            "bottom": null,
            "display": null,
            "flex": null,
            "flex_flow": null,
            "grid_area": null,
            "grid_auto_columns": null,
            "grid_auto_flow": null,
            "grid_auto_rows": null,
            "grid_column": null,
            "grid_gap": null,
            "grid_row": null,
            "grid_template_areas": null,
            "grid_template_columns": null,
            "grid_template_rows": null,
            "height": null,
            "justify_content": null,
            "justify_items": null,
            "left": null,
            "margin": null,
            "max_height": null,
            "max_width": null,
            "min_height": null,
            "min_width": null,
            "object_fit": null,
            "object_position": null,
            "order": null,
            "overflow": null,
            "overflow_x": null,
            "overflow_y": null,
            "padding": null,
            "right": null,
            "top": null,
            "visibility": null,
            "width": null
          }
        },
        "21c29fa6e10d43658fdf76fe6a0d31e1": {
          "model_module": "@jupyter-widgets/base",
          "model_module_version": "1.2.0",
          "model_name": "LayoutModel",
          "state": {
            "_model_module": "@jupyter-widgets/base",
            "_model_module_version": "1.2.0",
            "_model_name": "LayoutModel",
            "_view_count": null,
            "_view_module": "@jupyter-widgets/base",
            "_view_module_version": "1.2.0",
            "_view_name": "LayoutView",
            "align_content": null,
            "align_items": null,
            "align_self": null,
            "border": null,
            "bottom": null,
            "display": null,
            "flex": null,
            "flex_flow": null,
            "grid_area": null,
            "grid_auto_columns": null,
            "grid_auto_flow": null,
            "grid_auto_rows": null,
            "grid_column": null,
            "grid_gap": null,
            "grid_row": null,
            "grid_template_areas": null,
            "grid_template_columns": null,
            "grid_template_rows": null,
            "height": null,
            "justify_content": null,
            "justify_items": null,
            "left": null,
            "margin": null,
            "max_height": null,
            "max_width": null,
            "min_height": null,
            "min_width": null,
            "object_fit": null,
            "object_position": null,
            "order": null,
            "overflow": null,
            "overflow_x": null,
            "overflow_y": null,
            "padding": null,
            "right": null,
            "top": null,
            "visibility": null,
            "width": null
          }
        },
        "249a5da5cfa94a0aaf5b457aac3819b0": {
          "model_module": "@jupyter-widgets/controls",
          "model_module_version": "1.5.0",
          "model_name": "IntTextModel",
          "state": {
            "_dom_classes": [],
            "_model_module": "@jupyter-widgets/controls",
            "_model_module_version": "1.5.0",
            "_model_name": "IntTextModel",
            "_view_count": null,
            "_view_module": "@jupyter-widgets/controls",
            "_view_module_version": "1.5.0",
            "_view_name": "IntTextView",
            "continuous_update": false,
            "description": "Long.",
            "description_tooltip": null,
            "disabled": false,
            "layout": "IPY_MODEL_18302eb20c2c42deab1072128aa7b37b",
            "step": 1,
            "style": "IPY_MODEL_9a1aa0e42fd645fe996d8c8b250a94c8",
            "value": 90
          }
        },
        "28b549829dab49c6b56163d201a74333": {
          "model_module": "@jupyter-widgets/controls",
          "model_module_version": "1.5.0",
          "model_name": "ButtonModel",
          "state": {
            "_dom_classes": [],
            "_model_module": "@jupyter-widgets/controls",
            "_model_module_version": "1.5.0",
            "_model_name": "ButtonModel",
            "_view_count": null,
            "_view_module": "@jupyter-widgets/controls",
            "_view_module_version": "1.5.0",
            "_view_name": "ButtonView",
            "button_style": "",
            "description": "Fetch Data",
            "disabled": false,
            "icon": "",
            "layout": "IPY_MODEL_a52cf1a8051641e2a34e1636dfe8bf37",
            "style": "IPY_MODEL_8cc8015259804f82bd098c6b630bbe01",
            "tooltip": ""
          }
        },
        "2f08e8a9b783423d8e5d5896d9faa7f2": {
          "model_module": "@jupyter-widgets/controls",
          "model_module_version": "1.5.0",
          "model_name": "ButtonModel",
          "state": {
            "_dom_classes": [],
            "_model_module": "@jupyter-widgets/controls",
            "_model_module_version": "1.5.0",
            "_model_name": "ButtonModel",
            "_view_count": null,
            "_view_module": "@jupyter-widgets/controls",
            "_view_module_version": "1.5.0",
            "_view_name": "ButtonView",
            "button_style": "",
            "description": "Open zoomed",
            "disabled": false,
            "icon": "",
            "layout": "IPY_MODEL_03c5110bfe3b48fd8d01a096430233f8",
            "style": "IPY_MODEL_8fecb4b3b8c44476ae4f9358ca3b4a0f",
            "tooltip": ""
          }
        },
        "420ce755ebc142ed9fc27a26a3c4d8b6": {
          "model_module": "@jupyter-widgets/controls",
          "model_module_version": "1.5.0",
          "model_name": "HBoxModel",
          "state": {
            "_dom_classes": [],
            "_model_module": "@jupyter-widgets/controls",
            "_model_module_version": "1.5.0",
            "_model_name": "HBoxModel",
            "_view_count": null,
            "_view_module": "@jupyter-widgets/controls",
            "_view_module_version": "1.5.0",
            "_view_name": "HBoxView",
            "box_style": "",
            "children": [
              "IPY_MODEL_c25cd2eadfe74079b9db11a129554737",
              "IPY_MODEL_f2aa1eec70b04499af23a68e290289e7",
              "IPY_MODEL_ae873bfc46e74ef7aee82f62bae71143"
            ],
            "layout": "IPY_MODEL_a474096899494e3c9b69c048e80ecb43"
          }
        },
        "5156d897c1ef49af8836a4a7fa186735": {
          "model_module": "@jupyter-widgets/controls",
          "model_module_version": "1.5.0",
          "model_name": "VBoxModel",
          "state": {
            "_dom_classes": [],
            "_model_module": "@jupyter-widgets/controls",
            "_model_module_version": "1.5.0",
            "_model_name": "VBoxModel",
            "_view_count": null,
            "_view_module": "@jupyter-widgets/controls",
            "_view_module_version": "1.5.0",
            "_view_name": "VBoxView",
            "box_style": "",
            "children": [
              "IPY_MODEL_918ae83f4db74dcbb9fd80de94d6e6da",
              "IPY_MODEL_c002b48d57d24c0f914e5dae6cc07ff7"
            ],
            "layout": "IPY_MODEL_0d72ff996f4d4bbbbfb8d3782229811a"
          }
        },
        "540e2aed4cd345b09b8571a0ef765d5c": {
          "model_module": "@jupyter-widgets/base",
          "model_module_version": "1.2.0",
          "model_name": "LayoutModel",
          "state": {
            "_model_module": "@jupyter-widgets/base",
            "_model_module_version": "1.2.0",
            "_model_name": "LayoutModel",
            "_view_count": null,
            "_view_module": "@jupyter-widgets/base",
            "_view_module_version": "1.2.0",
            "_view_name": "LayoutView",
            "align_content": null,
            "align_items": null,
            "align_self": null,
            "border": "1px solid black",
            "bottom": null,
            "display": null,
            "flex": null,
            "flex_flow": null,
            "grid_area": null,
            "grid_auto_columns": null,
            "grid_auto_flow": null,
            "grid_auto_rows": null,
            "grid_column": null,
            "grid_gap": null,
            "grid_row": null,
            "grid_template_areas": null,
            "grid_template_columns": null,
            "grid_template_rows": null,
            "height": null,
            "justify_content": null,
            "justify_items": null,
            "left": null,
            "margin": null,
            "max_height": null,
            "max_width": null,
            "min_height": null,
            "min_width": null,
            "object_fit": null,
            "object_position": null,
            "order": null,
            "overflow": null,
            "overflow_x": null,
            "overflow_y": null,
            "padding": "0 0 15px 4px",
            "right": null,
            "top": null,
            "visibility": null,
            "width": null
          }
        },
        "54b1f1ad7617468aa7eb6b7dddfa39f5": {
          "model_module": "@jupyter-widgets/base",
          "model_module_version": "1.2.0",
          "model_name": "LayoutModel",
          "state": {
            "_model_module": "@jupyter-widgets/base",
            "_model_module_version": "1.2.0",
            "_model_name": "LayoutModel",
            "_view_count": null,
            "_view_module": "@jupyter-widgets/base",
            "_view_module_version": "1.2.0",
            "_view_name": "LayoutView",
            "align_content": null,
            "align_items": null,
            "align_self": null,
            "border": null,
            "bottom": null,
            "display": null,
            "flex": null,
            "flex_flow": null,
            "grid_area": null,
            "grid_auto_columns": null,
            "grid_auto_flow": null,
            "grid_auto_rows": null,
            "grid_column": null,
            "grid_gap": null,
            "grid_row": null,
            "grid_template_areas": null,
            "grid_template_columns": null,
            "grid_template_rows": null,
            "height": null,
            "justify_content": null,
            "justify_items": null,
            "left": null,
            "margin": null,
            "max_height": null,
            "max_width": null,
            "min_height": null,
            "min_width": null,
            "object_fit": null,
            "object_position": null,
            "order": null,
            "overflow": null,
            "overflow_x": null,
            "overflow_y": null,
            "padding": null,
            "right": null,
            "top": null,
            "visibility": null,
            "width": null
          }
        },
        "5cc41f106a0e4af191e4cea0685aeaf2": {
          "model_module": "@jupyter-widgets/controls",
          "model_module_version": "1.5.0",
          "model_name": "IntTextModel",
          "state": {
            "_dom_classes": [],
            "_model_module": "@jupyter-widgets/controls",
            "_model_module_version": "1.5.0",
            "_model_name": "IntTextModel",
            "_view_count": null,
            "_view_module": "@jupyter-widgets/controls",
            "_view_module_version": "1.5.0",
            "_view_name": "IntTextView",
            "continuous_update": false,
            "description": "Lat.",
            "description_tooltip": null,
            "disabled": false,
            "layout": "IPY_MODEL_e1e8ac3f7af74b13a854fd5b91377e10",
            "step": 1,
            "style": "IPY_MODEL_08fd2053e7b74c7a8a6a90792c56eb82",
            "value": -10
          }
        },
        "631d3bdcd1f643dbad960d926818c33e": {
          "model_module": "@jupyter-widgets/base",
          "model_module_version": "1.2.0",
          "model_name": "LayoutModel",
          "state": {
            "_model_module": "@jupyter-widgets/base",
            "_model_module_version": "1.2.0",
            "_model_name": "LayoutModel",
            "_view_count": null,
            "_view_module": "@jupyter-widgets/base",
            "_view_module_version": "1.2.0",
            "_view_name": "LayoutView",
            "align_content": null,
            "align_items": null,
            "align_self": null,
            "border": null,
            "bottom": null,
            "display": null,
            "flex": null,
            "flex_flow": null,
            "grid_area": null,
            "grid_auto_columns": null,
            "grid_auto_flow": null,
            "grid_auto_rows": null,
            "grid_column": null,
            "grid_gap": null,
            "grid_row": null,
            "grid_template_areas": null,
            "grid_template_columns": null,
            "grid_template_rows": null,
            "height": null,
            "justify_content": null,
            "justify_items": null,
            "left": null,
            "margin": null,
            "max_height": null,
            "max_width": null,
            "min_height": null,
            "min_width": null,
            "object_fit": null,
            "object_position": null,
            "order": null,
            "overflow": null,
            "overflow_x": null,
            "overflow_y": null,
            "padding": null,
            "right": null,
            "top": null,
            "visibility": null,
            "width": null
          }
        },
        "686a494efffc48128d82728383e683d6": {
          "model_module": "@jupyter-widgets/base",
          "model_module_version": "1.2.0",
          "model_name": "LayoutModel",
          "state": {
            "_model_module": "@jupyter-widgets/base",
            "_model_module_version": "1.2.0",
            "_model_name": "LayoutModel",
            "_view_count": null,
            "_view_module": "@jupyter-widgets/base",
            "_view_module_version": "1.2.0",
            "_view_name": "LayoutView",
            "align_content": null,
            "align_items": null,
            "align_self": null,
            "border": null,
            "bottom": null,
            "display": null,
            "flex": null,
            "flex_flow": null,
            "grid_area": null,
            "grid_auto_columns": null,
            "grid_auto_flow": null,
            "grid_auto_rows": null,
            "grid_column": null,
            "grid_gap": null,
            "grid_row": null,
            "grid_template_areas": null,
            "grid_template_columns": null,
            "grid_template_rows": null,
            "height": null,
            "justify_content": null,
            "justify_items": null,
            "left": null,
            "margin": null,
            "max_height": null,
            "max_width": null,
            "min_height": null,
            "min_width": null,
            "object_fit": null,
            "object_position": null,
            "order": null,
            "overflow": null,
            "overflow_x": null,
            "overflow_y": null,
            "padding": null,
            "right": null,
            "top": null,
            "visibility": null,
            "width": null
          }
        },
        "85f6ac6bc3264f18bbf2dca00da9cc65": {
          "model_module": "@jupyter-widgets/controls",
          "model_module_version": "1.5.0",
          "model_name": "HBoxModel",
          "state": {
            "_dom_classes": [],
            "_model_module": "@jupyter-widgets/controls",
            "_model_module_version": "1.5.0",
            "_model_name": "HBoxModel",
            "_view_count": null,
            "_view_module": "@jupyter-widgets/controls",
            "_view_module_version": "1.5.0",
            "_view_name": "HBoxView",
            "box_style": "",
            "children": [
              "IPY_MODEL_c545521632094a0e95fbe4e3e711a092",
              "IPY_MODEL_28b549829dab49c6b56163d201a74333"
            ],
            "layout": "IPY_MODEL_b60b2f4f19c6477a92b5e9df951e8961"
          }
        },
        "8cc8015259804f82bd098c6b630bbe01": {
          "model_module": "@jupyter-widgets/controls",
          "model_module_version": "1.5.0",
          "model_name": "ButtonStyleModel",
          "state": {
            "_model_module": "@jupyter-widgets/controls",
            "_model_module_version": "1.5.0",
            "_model_name": "ButtonStyleModel",
            "_view_count": null,
            "_view_module": "@jupyter-widgets/base",
            "_view_module_version": "1.2.0",
            "_view_name": "StyleView",
            "button_color": null,
            "font_weight": ""
          }
        },
        "8db93be55978426cb7d519a1ac531a01": {
          "model_module": "@jupyter-widgets/base",
          "model_module_version": "1.2.0",
          "model_name": "LayoutModel",
          "state": {
            "_model_module": "@jupyter-widgets/base",
            "_model_module_version": "1.2.0",
            "_model_name": "LayoutModel",
            "_view_count": null,
            "_view_module": "@jupyter-widgets/base",
            "_view_module_version": "1.2.0",
            "_view_name": "LayoutView",
            "align_content": null,
            "align_items": null,
            "align_self": null,
            "border": null,
            "bottom": null,
            "display": null,
            "flex": null,
            "flex_flow": null,
            "grid_area": null,
            "grid_auto_columns": null,
            "grid_auto_flow": null,
            "grid_auto_rows": null,
            "grid_column": null,
            "grid_gap": null,
            "grid_row": null,
            "grid_template_areas": null,
            "grid_template_columns": null,
            "grid_template_rows": null,
            "height": null,
            "justify_content": null,
            "justify_items": null,
            "left": null,
            "margin": null,
            "max_height": null,
            "max_width": null,
            "min_height": null,
            "min_width": null,
            "object_fit": null,
            "object_position": null,
            "order": null,
            "overflow": null,
            "overflow_x": null,
            "overflow_y": null,
            "padding": null,
            "right": null,
            "top": null,
            "visibility": null,
            "width": null
          }
        },
        "8fecb4b3b8c44476ae4f9358ca3b4a0f": {
          "model_module": "@jupyter-widgets/controls",
          "model_module_version": "1.5.0",
          "model_name": "ButtonStyleModel",
          "state": {
            "_model_module": "@jupyter-widgets/controls",
            "_model_module_version": "1.5.0",
            "_model_name": "ButtonStyleModel",
            "_view_count": null,
            "_view_module": "@jupyter-widgets/base",
            "_view_module_version": "1.2.0",
            "_view_name": "StyleView",
            "button_color": null,
            "font_weight": ""
          }
        },
        "90fcb5580e6c4bbe9f89b6c735694ccc": {
          "model_module": "@jupyter-widgets/controls",
          "model_module_version": "1.5.0",
          "model_name": "ButtonModel",
          "state": {
            "_dom_classes": [],
            "_model_module": "@jupyter-widgets/controls",
            "_model_module_version": "1.5.0",
            "_model_name": "ButtonModel",
            "_view_count": null,
            "_view_module": "@jupyter-widgets/controls",
            "_view_module_version": "1.5.0",
            "_view_name": "ButtonView",
            "button_style": "",
            "description": "Show graph",
            "disabled": false,
            "icon": "",
            "layout": "IPY_MODEL_d018b8a98bce4639a2b9a89e055e530f",
            "style": "IPY_MODEL_b77095d38e674efcb1ae04ddca9a723c",
            "tooltip": ""
          }
        },
        "918ae83f4db74dcbb9fd80de94d6e6da": {
          "model_module": "@jupyter-widgets/controls",
          "model_module_version": "1.5.0",
          "model_name": "HBoxModel",
          "state": {
            "_dom_classes": [],
            "_model_module": "@jupyter-widgets/controls",
            "_model_module_version": "1.5.0",
            "_model_name": "HBoxModel",
            "_view_count": null,
            "_view_module": "@jupyter-widgets/controls",
            "_view_module_version": "1.5.0",
            "_view_name": "HBoxView",
            "box_style": "",
            "children": [
              "IPY_MODEL_249a5da5cfa94a0aaf5b457aac3819b0",
              "IPY_MODEL_5cc41f106a0e4af191e4cea0685aeaf2",
              "IPY_MODEL_c5058e2af86d47509876c684739727ae"
            ],
            "layout": "IPY_MODEL_21c29fa6e10d43658fdf76fe6a0d31e1"
          }
        },
        "9a1aa0e42fd645fe996d8c8b250a94c8": {
          "model_module": "@jupyter-widgets/controls",
          "model_module_version": "1.5.0",
          "model_name": "DescriptionStyleModel",
          "state": {
            "_model_module": "@jupyter-widgets/controls",
            "_model_module_version": "1.5.0",
            "_model_name": "DescriptionStyleModel",
            "_view_count": null,
            "_view_module": "@jupyter-widgets/base",
            "_view_module_version": "1.2.0",
            "_view_name": "StyleView",
            "description_width": ""
          }
        },
        "a474096899494e3c9b69c048e80ecb43": {
          "model_module": "@jupyter-widgets/base",
          "model_module_version": "1.2.0",
          "model_name": "LayoutModel",
          "state": {
            "_model_module": "@jupyter-widgets/base",
            "_model_module_version": "1.2.0",
            "_model_name": "LayoutModel",
            "_view_count": null,
            "_view_module": "@jupyter-widgets/base",
            "_view_module_version": "1.2.0",
            "_view_name": "LayoutView",
            "align_content": null,
            "align_items": null,
            "align_self": null,
            "border": null,
            "bottom": null,
            "display": null,
            "flex": null,
            "flex_flow": null,
            "grid_area": null,
            "grid_auto_columns": null,
            "grid_auto_flow": null,
            "grid_auto_rows": null,
            "grid_column": null,
            "grid_gap": null,
            "grid_row": null,
            "grid_template_areas": null,
            "grid_template_columns": null,
            "grid_template_rows": null,
            "height": null,
            "justify_content": null,
            "justify_items": null,
            "left": null,
            "margin": null,
            "max_height": null,
            "max_width": null,
            "min_height": null,
            "min_width": null,
            "object_fit": null,
            "object_position": null,
            "order": null,
            "overflow": null,
            "overflow_x": null,
            "overflow_y": null,
            "padding": null,
            "right": null,
            "top": null,
            "visibility": null,
            "width": null
          }
        },
        "a52cf1a8051641e2a34e1636dfe8bf37": {
          "model_module": "@jupyter-widgets/base",
          "model_module_version": "1.2.0",
          "model_name": "LayoutModel",
          "state": {
            "_model_module": "@jupyter-widgets/base",
            "_model_module_version": "1.2.0",
            "_model_name": "LayoutModel",
            "_view_count": null,
            "_view_module": "@jupyter-widgets/base",
            "_view_module_version": "1.2.0",
            "_view_name": "LayoutView",
            "align_content": null,
            "align_items": null,
            "align_self": null,
            "border": null,
            "bottom": null,
            "display": null,
            "flex": null,
            "flex_flow": null,
            "grid_area": null,
            "grid_auto_columns": null,
            "grid_auto_flow": null,
            "grid_auto_rows": null,
            "grid_column": null,
            "grid_gap": null,
            "grid_row": null,
            "grid_template_areas": null,
            "grid_template_columns": null,
            "grid_template_rows": null,
            "height": null,
            "justify_content": null,
            "justify_items": null,
            "left": null,
            "margin": null,
            "max_height": null,
            "max_width": null,
            "min_height": null,
            "min_width": null,
            "object_fit": null,
            "object_position": null,
            "order": null,
            "overflow": null,
            "overflow_x": null,
            "overflow_y": null,
            "padding": null,
            "right": null,
            "top": null,
            "visibility": null,
            "width": null
          }
        },
        "a84fd4e103e244f785638fab3fb36524": {
          "model_module": "@jupyter-widgets/base",
          "model_module_version": "1.2.0",
          "model_name": "LayoutModel",
          "state": {
            "_model_module": "@jupyter-widgets/base",
            "_model_module_version": "1.2.0",
            "_model_name": "LayoutModel",
            "_view_count": null,
            "_view_module": "@jupyter-widgets/base",
            "_view_module_version": "1.2.0",
            "_view_name": "LayoutView",
            "align_content": null,
            "align_items": null,
            "align_self": null,
            "border": "1px solid black",
            "bottom": null,
            "display": null,
            "flex": null,
            "flex_flow": null,
            "grid_area": null,
            "grid_auto_columns": null,
            "grid_auto_flow": null,
            "grid_auto_rows": null,
            "grid_column": null,
            "grid_gap": null,
            "grid_row": null,
            "grid_template_areas": null,
            "grid_template_columns": null,
            "grid_template_rows": null,
            "height": null,
            "justify_content": null,
            "justify_items": null,
            "left": null,
            "margin": null,
            "max_height": null,
            "max_width": null,
            "min_height": null,
            "min_width": null,
            "object_fit": null,
            "object_position": null,
            "order": null,
            "overflow": null,
            "overflow_x": null,
            "overflow_y": null,
            "padding": "0 4px 15px 0",
            "right": null,
            "top": null,
            "visibility": null,
            "width": null
          }
        },
        "aa372582e2ad4b38b6b39979293b6ef6": {
          "model_module": "@jupyter-widgets/controls",
          "model_module_version": "1.5.0",
          "model_name": "VBoxModel",
          "state": {
            "_dom_classes": [],
            "_model_module": "@jupyter-widgets/controls",
            "_model_module_version": "1.5.0",
            "_model_name": "VBoxModel",
            "_view_count": null,
            "_view_module": "@jupyter-widgets/controls",
            "_view_module_version": "1.5.0",
            "_view_name": "VBoxView",
            "box_style": "",
            "children": [
              "IPY_MODEL_420ce755ebc142ed9fc27a26a3c4d8b6",
              "IPY_MODEL_5156d897c1ef49af8836a4a7fa186735"
            ],
            "layout": "IPY_MODEL_8db93be55978426cb7d519a1ac531a01"
          }
        },
        "ae873bfc46e74ef7aee82f62bae71143": {
          "model_module": "@jupyter-widgets/output",
          "model_module_version": "1.0.0",
          "model_name": "OutputModel",
          "state": {
            "_dom_classes": [],
            "_model_module": "@jupyter-widgets/output",
            "_model_module_version": "1.0.0",
            "_model_name": "OutputModel",
            "_view_count": null,
            "_view_module": "@jupyter-widgets/output",
            "_view_module_version": "1.0.0",
            "_view_name": "OutputView",
            "layout": "IPY_MODEL_540e2aed4cd345b09b8571a0ef765d5c",
            "msg_id": "",
            "outputs": [
              {
                "name": "stdout",
                "output_type": "stream",
                "text": "graph output\n"
              },
              {
                "name": "stdout",
                "output_type": "stream",
                "text": null
              }
            ]
          }
        },
        "b0ed97ee7bc14774982ff59ad09f8772": {
          "model_module": "@jupyter-widgets/controls",
          "model_module_version": "1.5.0",
          "model_name": "VBoxModel",
          "state": {
            "_dom_classes": [],
            "_model_module": "@jupyter-widgets/controls",
            "_model_module_version": "1.5.0",
            "_model_name": "VBoxModel",
            "_view_count": null,
            "_view_module": "@jupyter-widgets/controls",
            "_view_module_version": "1.5.0",
            "_view_name": "VBoxView",
            "box_style": "",
            "children": [
              "IPY_MODEL_85f6ac6bc3264f18bbf2dca00da9cc65",
              "IPY_MODEL_aa372582e2ad4b38b6b39979293b6ef6"
            ],
            "layout": "IPY_MODEL_631d3bdcd1f643dbad960d926818c33e"
          }
        },
        "b1fe445e525e4e7687853eabb95a8101": {
          "model_module": "@jupyter-widgets/controls",
          "model_module_version": "1.5.0",
          "model_name": "ButtonStyleModel",
          "state": {
            "_model_module": "@jupyter-widgets/controls",
            "_model_module_version": "1.5.0",
            "_model_name": "ButtonStyleModel",
            "_view_count": null,
            "_view_module": "@jupyter-widgets/base",
            "_view_module_version": "1.2.0",
            "_view_name": "StyleView",
            "button_color": null,
            "font_weight": ""
          }
        },
        "b60b2f4f19c6477a92b5e9df951e8961": {
          "model_module": "@jupyter-widgets/base",
          "model_module_version": "1.2.0",
          "model_name": "LayoutModel",
          "state": {
            "_model_module": "@jupyter-widgets/base",
            "_model_module_version": "1.2.0",
            "_model_name": "LayoutModel",
            "_view_count": null,
            "_view_module": "@jupyter-widgets/base",
            "_view_module_version": "1.2.0",
            "_view_name": "LayoutView",
            "align_content": null,
            "align_items": null,
            "align_self": null,
            "border": null,
            "bottom": null,
            "display": null,
            "flex": null,
            "flex_flow": null,
            "grid_area": null,
            "grid_auto_columns": null,
            "grid_auto_flow": null,
            "grid_auto_rows": null,
            "grid_column": null,
            "grid_gap": null,
            "grid_row": null,
            "grid_template_areas": null,
            "grid_template_columns": null,
            "grid_template_rows": null,
            "height": null,
            "justify_content": null,
            "justify_items": null,
            "left": null,
            "margin": null,
            "max_height": null,
            "max_width": null,
            "min_height": null,
            "min_width": null,
            "object_fit": null,
            "object_position": null,
            "order": null,
            "overflow": null,
            "overflow_x": null,
            "overflow_y": null,
            "padding": null,
            "right": null,
            "top": null,
            "visibility": null,
            "width": null
          }
        },
        "b77095d38e674efcb1ae04ddca9a723c": {
          "model_module": "@jupyter-widgets/controls",
          "model_module_version": "1.5.0",
          "model_name": "ButtonStyleModel",
          "state": {
            "_model_module": "@jupyter-widgets/controls",
            "_model_module_version": "1.5.0",
            "_model_name": "ButtonStyleModel",
            "_view_count": null,
            "_view_module": "@jupyter-widgets/base",
            "_view_module_version": "1.2.0",
            "_view_name": "StyleView",
            "button_color": null,
            "font_weight": ""
          }
        },
        "bfb7eed201d04200a9dc5fb1a6771d4b": {
          "model_module": "@jupyter-widgets/base",
          "model_module_version": "1.2.0",
          "model_name": "LayoutModel",
          "state": {
            "_model_module": "@jupyter-widgets/base",
            "_model_module_version": "1.2.0",
            "_model_name": "LayoutModel",
            "_view_count": null,
            "_view_module": "@jupyter-widgets/base",
            "_view_module_version": "1.2.0",
            "_view_name": "LayoutView",
            "align_content": null,
            "align_items": null,
            "align_self": null,
            "border": null,
            "bottom": null,
            "display": null,
            "flex": null,
            "flex_flow": null,
            "grid_area": null,
            "grid_auto_columns": null,
            "grid_auto_flow": null,
            "grid_auto_rows": null,
            "grid_column": null,
            "grid_gap": null,
            "grid_row": null,
            "grid_template_areas": null,
            "grid_template_columns": null,
            "grid_template_rows": null,
            "height": null,
            "justify_content": null,
            "justify_items": null,
            "left": null,
            "margin": null,
            "max_height": null,
            "max_width": null,
            "min_height": null,
            "min_width": null,
            "object_fit": null,
            "object_position": null,
            "order": null,
            "overflow": null,
            "overflow_x": null,
            "overflow_y": null,
            "padding": null,
            "right": null,
            "top": null,
            "visibility": null,
            "width": null
          }
        },
        "c002b48d57d24c0f914e5dae6cc07ff7": {
          "model_module": "@jupyter-widgets/controls",
          "model_module_version": "1.5.0",
          "model_name": "HBoxModel",
          "state": {
            "_dom_classes": [],
            "_model_module": "@jupyter-widgets/controls",
            "_model_module_version": "1.5.0",
            "_model_name": "HBoxModel",
            "_view_count": null,
            "_view_module": "@jupyter-widgets/controls",
            "_view_module_version": "1.5.0",
            "_view_name": "HBoxView",
            "box_style": "",
            "children": [
              "IPY_MODEL_f4d6df8b876e43ce84d336fb3f713e06",
              "IPY_MODEL_2f08e8a9b783423d8e5d5896d9faa7f2",
              "IPY_MODEL_90fcb5580e6c4bbe9f89b6c735694ccc"
            ],
            "layout": "IPY_MODEL_ec5523556fa84d98ac3ea615e66b557c"
          }
        },
        "c25cd2eadfe74079b9db11a129554737": {
          "model_module": "@jupyter-widgets/output",
          "model_module_version": "1.0.0",
          "model_name": "OutputModel",
          "state": {
            "_dom_classes": [],
            "_model_module": "@jupyter-widgets/output",
            "_model_module_version": "1.0.0",
            "_model_name": "OutputModel",
            "_view_count": null,
            "_view_module": "@jupyter-widgets/output",
            "_view_module_version": "1.0.0",
            "_view_name": "OutputView",
            "layout": "IPY_MODEL_a84fd4e103e244f785638fab3fb36524",
            "msg_id": "",
            "outputs": [
              {
                "data": {
                  "image/png": "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\n",
                  "text/plain": "<Figure size 360x360 with 1 Axes>"
                },
                "metadata": {},
                "output_type": "display_data"
              }
            ]
          }
        },
        "c5058e2af86d47509876c684739727ae": {
          "model_module": "@jupyter-widgets/controls",
          "model_module_version": "1.5.0",
          "model_name": "IntTextModel",
          "state": {
            "_dom_classes": [],
            "_model_module": "@jupyter-widgets/controls",
            "_model_module_version": "1.5.0",
            "_model_name": "IntTextModel",
            "_view_count": null,
            "_view_module": "@jupyter-widgets/controls",
            "_view_module_version": "1.5.0",
            "_view_name": "IntTextView",
            "continuous_update": false,
            "description": "Zoom by:",
            "description_tooltip": null,
            "disabled": false,
            "layout": "IPY_MODEL_bfb7eed201d04200a9dc5fb1a6771d4b",
            "step": 1,
            "style": "IPY_MODEL_d4ff8bb5880b44ffb340692fbae45dcc",
            "value": 30
          }
        },
        "c545521632094a0e95fbe4e3e711a092": {
          "model_module": "@jupyter-widgets/controls",
          "model_module_version": "1.5.0",
          "model_name": "IntTextModel",
          "state": {
            "_dom_classes": [],
            "_model_module": "@jupyter-widgets/controls",
            "_model_module_version": "1.5.0",
            "_model_name": "IntTextModel",
            "_view_count": null,
            "_view_module": "@jupyter-widgets/controls",
            "_view_module_version": "1.5.0",
            "_view_name": "IntTextView",
            "continuous_update": false,
            "description": "Enter Taxon ID",
            "description_tooltip": null,
            "disabled": false,
            "layout": "IPY_MODEL_54b1f1ad7617468aa7eb6b7dddfa39f5",
            "step": 1,
            "style": "IPY_MODEL_c81042f4bcad4be88fdeed16da8e664f",
            "value": 1363
          }
        },
        "c81042f4bcad4be88fdeed16da8e664f": {
          "model_module": "@jupyter-widgets/controls",
          "model_module_version": "1.5.0",
          "model_name": "DescriptionStyleModel",
          "state": {
            "_model_module": "@jupyter-widgets/controls",
            "_model_module_version": "1.5.0",
            "_model_name": "DescriptionStyleModel",
            "_view_count": null,
            "_view_module": "@jupyter-widgets/base",
            "_view_module_version": "1.2.0",
            "_view_name": "StyleView",
            "description_width": ""
          }
        },
        "d018b8a98bce4639a2b9a89e055e530f": {
          "model_module": "@jupyter-widgets/base",
          "model_module_version": "1.2.0",
          "model_name": "LayoutModel",
          "state": {
            "_model_module": "@jupyter-widgets/base",
            "_model_module_version": "1.2.0",
            "_model_name": "LayoutModel",
            "_view_count": null,
            "_view_module": "@jupyter-widgets/base",
            "_view_module_version": "1.2.0",
            "_view_name": "LayoutView",
            "align_content": null,
            "align_items": null,
            "align_self": null,
            "border": null,
            "bottom": null,
            "display": null,
            "flex": null,
            "flex_flow": null,
            "grid_area": null,
            "grid_auto_columns": null,
            "grid_auto_flow": null,
            "grid_auto_rows": null,
            "grid_column": null,
            "grid_gap": null,
            "grid_row": null,
            "grid_template_areas": null,
            "grid_template_columns": null,
            "grid_template_rows": null,
            "height": null,
            "justify_content": null,
            "justify_items": null,
            "left": null,
            "margin": null,
            "max_height": null,
            "max_width": null,
            "min_height": null,
            "min_width": null,
            "object_fit": null,
            "object_position": null,
            "order": null,
            "overflow": null,
            "overflow_x": null,
            "overflow_y": null,
            "padding": null,
            "right": null,
            "top": null,
            "visibility": null,
            "width": null
          }
        },
        "d4ff8bb5880b44ffb340692fbae45dcc": {
          "model_module": "@jupyter-widgets/controls",
          "model_module_version": "1.5.0",
          "model_name": "DescriptionStyleModel",
          "state": {
            "_model_module": "@jupyter-widgets/controls",
            "_model_module_version": "1.5.0",
            "_model_name": "DescriptionStyleModel",
            "_view_count": null,
            "_view_module": "@jupyter-widgets/base",
            "_view_module_version": "1.2.0",
            "_view_name": "StyleView",
            "description_width": ""
          }
        },
        "e11f328b3d554e0bb9efb3b654be0039": {
          "model_module": "@jupyter-widgets/base",
          "model_module_version": "1.2.0",
          "model_name": "LayoutModel",
          "state": {
            "_model_module": "@jupyter-widgets/base",
            "_model_module_version": "1.2.0",
            "_model_name": "LayoutModel",
            "_view_count": null,
            "_view_module": "@jupyter-widgets/base",
            "_view_module_version": "1.2.0",
            "_view_name": "LayoutView",
            "align_content": null,
            "align_items": null,
            "align_self": null,
            "border": "1px solid black",
            "bottom": null,
            "display": null,
            "flex": null,
            "flex_flow": null,
            "grid_area": null,
            "grid_auto_columns": null,
            "grid_auto_flow": null,
            "grid_auto_rows": null,
            "grid_column": null,
            "grid_gap": null,
            "grid_row": null,
            "grid_template_areas": null,
            "grid_template_columns": null,
            "grid_template_rows": null,
            "height": null,
            "justify_content": null,
            "justify_items": null,
            "left": null,
            "margin": null,
            "max_height": null,
            "max_width": null,
            "min_height": null,
            "min_width": null,
            "object_fit": null,
            "object_position": null,
            "order": null,
            "overflow": null,
            "overflow_x": null,
            "overflow_y": null,
            "padding": "0 4px 15px 4px",
            "right": null,
            "top": null,
            "visibility": null,
            "width": null
          }
        },
        "e1e8ac3f7af74b13a854fd5b91377e10": {
          "model_module": "@jupyter-widgets/base",
          "model_module_version": "1.2.0",
          "model_name": "LayoutModel",
          "state": {
            "_model_module": "@jupyter-widgets/base",
            "_model_module_version": "1.2.0",
            "_model_name": "LayoutModel",
            "_view_count": null,
            "_view_module": "@jupyter-widgets/base",
            "_view_module_version": "1.2.0",
            "_view_name": "LayoutView",
            "align_content": null,
            "align_items": null,
            "align_self": null,
            "border": null,
            "bottom": null,
            "display": null,
            "flex": null,
            "flex_flow": null,
            "grid_area": null,
            "grid_auto_columns": null,
            "grid_auto_flow": null,
            "grid_auto_rows": null,
            "grid_column": null,
            "grid_gap": null,
            "grid_row": null,
            "grid_template_areas": null,
            "grid_template_columns": null,
            "grid_template_rows": null,
            "height": null,
            "justify_content": null,
            "justify_items": null,
            "left": null,
            "margin": null,
            "max_height": null,
            "max_width": null,
            "min_height": null,
            "min_width": null,
            "object_fit": null,
            "object_position": null,
            "order": null,
            "overflow": null,
            "overflow_x": null,
            "overflow_y": null,
            "padding": null,
            "right": null,
            "top": null,
            "visibility": null,
            "width": null
          }
        },
        "ec5523556fa84d98ac3ea615e66b557c": {
          "model_module": "@jupyter-widgets/base",
          "model_module_version": "1.2.0",
          "model_name": "LayoutModel",
          "state": {
            "_model_module": "@jupyter-widgets/base",
            "_model_module_version": "1.2.0",
            "_model_name": "LayoutModel",
            "_view_count": null,
            "_view_module": "@jupyter-widgets/base",
            "_view_module_version": "1.2.0",
            "_view_name": "LayoutView",
            "align_content": null,
            "align_items": null,
            "align_self": null,
            "border": null,
            "bottom": null,
            "display": null,
            "flex": null,
            "flex_flow": null,
            "grid_area": null,
            "grid_auto_columns": null,
            "grid_auto_flow": null,
            "grid_auto_rows": null,
            "grid_column": null,
            "grid_gap": null,
            "grid_row": null,
            "grid_template_areas": null,
            "grid_template_columns": null,
            "grid_template_rows": null,
            "height": null,
            "justify_content": null,
            "justify_items": null,
            "left": null,
            "margin": null,
            "max_height": null,
            "max_width": null,
            "min_height": null,
            "min_width": null,
            "object_fit": null,
            "object_position": null,
            "order": null,
            "overflow": null,
            "overflow_x": null,
            "overflow_y": null,
            "padding": null,
            "right": null,
            "top": null,
            "visibility": null,
            "width": null
          }
        },
        "f2aa1eec70b04499af23a68e290289e7": {
          "model_module": "@jupyter-widgets/output",
          "model_module_version": "1.0.0",
          "model_name": "OutputModel",
          "state": {
            "_dom_classes": [],
            "_model_module": "@jupyter-widgets/output",
            "_model_module_version": "1.0.0",
            "_model_name": "OutputModel",
            "_view_count": null,
            "_view_module": "@jupyter-widgets/output",
            "_view_module_version": "1.0.0",
            "_view_name": "OutputView",
            "layout": "IPY_MODEL_e11f328b3d554e0bb9efb3b654be0039",
            "msg_id": "",
            "outputs": [
              {
                "data": {
                  "image/png": "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\n",
                  "text/plain": "<Figure size 792x432 with 2 Axes>"
                },
                "metadata": {},
                "output_type": "display_data"
              }
            ]
          }
        },
        "f4d6df8b876e43ce84d336fb3f713e06": {
          "model_module": "@jupyter-widgets/controls",
          "model_module_version": "1.5.0",
          "model_name": "ButtonModel",
          "state": {
            "_dom_classes": [],
            "_model_module": "@jupyter-widgets/controls",
            "_model_module_version": "1.5.0",
            "_model_name": "ButtonModel",
            "_view_count": null,
            "_view_module": "@jupyter-widgets/controls",
            "_view_module_version": "1.5.0",
            "_view_name": "ButtonView",
            "button_style": "",
            "description": "Show map",
            "disabled": false,
            "icon": "",
            "layout": "IPY_MODEL_686a494efffc48128d82728383e683d6",
            "style": "IPY_MODEL_b1fe445e525e4e7687853eabb95a8101",
            "tooltip": ""
          }
        }
      }
    }
  },
  "nbformat": 4,
  "nbformat_minor": 0
}
