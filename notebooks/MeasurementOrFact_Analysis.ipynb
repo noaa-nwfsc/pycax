{
  "cells": [
    {
      "cell_type": "markdown",
      "metadata": {
        "colab_type": "text",
        "id": "view-in-github"
      },
      "source": [
        "<a href=\"https://colab.research.google.com/github/iobis/pyobis/blob/main/notebooks/MeasurementOrFact_Analysis.ipynb\" target=\"_parent\"><img src=\"https://colab.research.google.com/assets/colab-badge.svg\" alt=\"Open In Colab\"/></a>"
      ]
    },
    {
      "cell_type": "markdown",
      "metadata": {
        "id": "ctTVMI2lUTAm"
      },
      "source": [
        "# MeasurementOrFacts Analysis\n",
        "\n",
        "MeasurementOrFacts is a measurement of or fact about an rdfs:Resource [http://www.w3.org/2000/01/rdf-schema#Resource](http://www.w3.org/2000/01/rdf-schema#Resource). Resources can be thought of as identifiable records or instances of classes and may include, but need not be limited to dwc:Occurrence, dwc:Organism, dwc:MaterialSample, dwc:Event, dwc:Location, dwc:GeologicalContext, dwc:Identification, or dwc:Taxon.\n",
        "\n",
        "\n",
        "For example, A MoF record can be the weight of an organism in grams. The number of placental scars. Surface water temperature in Celsius.\n",
        "\n",
        "> Read more about classifying and studying MeasurementOrFacts [here](https://dwc.tdwg.org/terms/#measurementorfact).\n",
        "\n",
        "\n",
        "We will use `pyobis` - python client for [OBIS (Ocean Biodiversity Information System)](https://obis.org) to fetch MoF records and analyse them.\n"
      ]
    },
    {
      "cell_type": "markdown",
      "metadata": {
        "id": "lT67iMqsUW4K"
      },
      "source": [
        "## Installing `pyobis`"
      ]
    },
    {
      "cell_type": "code",
      "execution_count": 1,
      "metadata": {
        "colab": {
          "base_uri": "https://localhost:8080/"
        },
        "id": "fyJZrI3hUNTD",
        "outputId": "e5861650-2332-4dd3-ac76-3ba6cac73889"
      },
      "outputs": [
        {
          "name": "stdout",
          "output_type": "stream",
          "text": [
            "  Installing build dependencies ... \u001b[?25l\u001b[?25hdone\n",
            "  Getting requirements to build wheel ... \u001b[?25l\u001b[?25hdone\n",
            "    Preparing wheel metadata ... \u001b[?25l\u001b[?25hdone\n",
            "  Building wheel for pyobis (PEP 517) ... \u001b[?25l\u001b[?25hdone\n"
          ]
        }
      ],
      "source": [
        "try:\n",
        "  import pyobis\n",
        "except:\n",
        "  !pip install -q \"git+https://github.com/iobis/pyobis.git\""
      ]
    },
    {
      "cell_type": "markdown",
      "metadata": {
        "id": "iNzcDvHgUaqr"
      },
      "source": [
        "### importing other modules"
      ]
    },
    {
      "cell_type": "code",
      "execution_count": 2,
      "metadata": {
        "id": "zfgUZdhZUeFb"
      },
      "outputs": [],
      "source": [
        "import pandas as pd\n",
        "import numpy as np\n",
        "from matplotlib import pyplot as plt\n",
        "%matplotlib inline\n",
        "import seaborn as sns"
      ]
    },
    {
      "cell_type": "code",
      "execution_count": 3,
      "metadata": {
        "id": "CDbA6N0NUpSr"
      },
      "outputs": [],
      "source": [
        "from pyobis.occurrences import OccQuery\n",
        "occ = OccQuery()"
      ]
    },
    {
      "cell_type": "markdown",
      "metadata": {
        "id": "JwYPWkmSUsxa"
      },
      "source": [
        "## Grabbing data\n",
        "\n",
        "Let us grab some MoF data for a species say *Egregia menziesii* commonly known as Feather boa kelp. This is an algae of the lower intertidal to subtidal zones."
      ]
    },
    {
      "cell_type": "code",
      "execution_count": 4,
      "metadata": {
        "colab": {
          "base_uri": "https://localhost:8080/",
          "height": 713
        },
        "id": "Lyx9EbRaXMoc",
        "outputId": "e29c0355-a588-4958-9fc1-b6fd1e520d02"
      },
      "outputs": [
        {
          "name": "stdout",
          "output_type": "stream",
          "text": [
            "\n",
            "Fetched 31046 records.\n"
          ]
        },
        {
          "data": {
            "text/html": [
              "\n",
              "  <div id=\"df-cfc856fa-1d70-4be9-aa5a-b9b6411dd9d4\">\n",
              "    <div class=\"colab-df-container\">\n",
              "      <div>\n",
              "<style scoped>\n",
              "    .dataframe tbody tr th:only-of-type {\n",
              "        vertical-align: middle;\n",
              "    }\n",
              "\n",
              "    .dataframe tbody tr th {\n",
              "        vertical-align: top;\n",
              "    }\n",
              "\n",
              "    .dataframe thead th {\n",
              "        text-align: right;\n",
              "    }\n",
              "</style>\n",
              "<table border=\"1\" class=\"dataframe\">\n",
              "  <thead>\n",
              "    <tr style=\"text-align: right;\">\n",
              "      <th></th>\n",
              "      <th>infraphylum</th>\n",
              "      <th>date_year</th>\n",
              "      <th>scientificNameID</th>\n",
              "      <th>scientificName</th>\n",
              "      <th>dropped</th>\n",
              "      <th>aphiaID</th>\n",
              "      <th>decimalLatitude</th>\n",
              "      <th>subclassid</th>\n",
              "      <th>infraphylumid</th>\n",
              "      <th>phylumid</th>\n",
              "      <th>...</th>\n",
              "      <th>measurementValueID</th>\n",
              "      <th>level</th>\n",
              "      <th>occurrenceID_y</th>\n",
              "      <th>measurementUnit</th>\n",
              "      <th>measurementDeterminedDate</th>\n",
              "      <th>measurementType</th>\n",
              "      <th>measurementUnitID</th>\n",
              "      <th>measurementTypeID</th>\n",
              "      <th>measurementID</th>\n",
              "      <th>measurementMethod</th>\n",
              "    </tr>\n",
              "  </thead>\n",
              "  <tbody>\n",
              "    <tr>\n",
              "      <th>0</th>\n",
              "      <td>Limnista</td>\n",
              "      <td>2009.0</td>\n",
              "      <td>urn:lsid:marinespecies.org:taxname:372502</td>\n",
              "      <td>Egregia menziesii</td>\n",
              "      <td>False</td>\n",
              "      <td>372502</td>\n",
              "      <td>36.944871</td>\n",
              "      <td>1304856.0</td>\n",
              "      <td>591205</td>\n",
              "      <td>345465</td>\n",
              "      <td>...</td>\n",
              "      <td>None</td>\n",
              "      <td>0</td>\n",
              "      <td>KEEN-TS-PISCO_subtidal-756777</td>\n",
              "      <td>number per sq metre</td>\n",
              "      <td>None</td>\n",
              "      <td>Individual Density</td>\n",
              "      <td>None</td>\n",
              "      <td>None</td>\n",
              "      <td>KEEN-TS-PISCO_subtidal-756777-indivudual-density</td>\n",
              "      <td>None</td>\n",
              "    </tr>\n",
              "    <tr>\n",
              "      <th>1</th>\n",
              "      <td>Limnista</td>\n",
              "      <td>2005.0</td>\n",
              "      <td>urn:lsid:marinespecies.org:taxname:372502</td>\n",
              "      <td>Egregia menziesii</td>\n",
              "      <td>False</td>\n",
              "      <td>372502</td>\n",
              "      <td>34.480842</td>\n",
              "      <td>1304856.0</td>\n",
              "      <td>591205</td>\n",
              "      <td>345465</td>\n",
              "      <td>...</td>\n",
              "      <td>None</td>\n",
              "      <td>0</td>\n",
              "      <td>KEEN-TS-PISCO_subtidal-272592</td>\n",
              "      <td>number per sq metre</td>\n",
              "      <td>None</td>\n",
              "      <td>Individual Density</td>\n",
              "      <td>None</td>\n",
              "      <td>None</td>\n",
              "      <td>KEEN-TS-PISCO_subtidal-272592-indivudual-density</td>\n",
              "      <td>None</td>\n",
              "    </tr>\n",
              "    <tr>\n",
              "      <th>2</th>\n",
              "      <td>Limnista</td>\n",
              "      <td>2009.0</td>\n",
              "      <td>urn:lsid:marinespecies.org:taxname:372502</td>\n",
              "      <td>Egregia menziesii</td>\n",
              "      <td>False</td>\n",
              "      <td>372502</td>\n",
              "      <td>34.402833</td>\n",
              "      <td>1304856.0</td>\n",
              "      <td>591205</td>\n",
              "      <td>345465</td>\n",
              "      <td>...</td>\n",
              "      <td>None</td>\n",
              "      <td>0</td>\n",
              "      <td>KEEN-TS-sbc_lter_longterm_community-6961</td>\n",
              "      <td>number per sq metre</td>\n",
              "      <td>None</td>\n",
              "      <td>Individual Density</td>\n",
              "      <td>None</td>\n",
              "      <td>None</td>\n",
              "      <td>KEEN-TS-sbc_lter_longterm_community-6961-indiv...</td>\n",
              "      <td>None</td>\n",
              "    </tr>\n",
              "    <tr>\n",
              "      <th>3</th>\n",
              "      <td>Limnista</td>\n",
              "      <td>2007.0</td>\n",
              "      <td>urn:lsid:marinespecies.org:taxname:372502</td>\n",
              "      <td>Egregia menziesii</td>\n",
              "      <td>False</td>\n",
              "      <td>372502</td>\n",
              "      <td>36.624220</td>\n",
              "      <td>1304856.0</td>\n",
              "      <td>591205</td>\n",
              "      <td>345465</td>\n",
              "      <td>...</td>\n",
              "      <td>None</td>\n",
              "      <td>0</td>\n",
              "      <td>KEEN-TS-PISCO_subtidal-318235</td>\n",
              "      <td>number per sq metre</td>\n",
              "      <td>None</td>\n",
              "      <td>Individual Density</td>\n",
              "      <td>None</td>\n",
              "      <td>None</td>\n",
              "      <td>KEEN-TS-PISCO_subtidal-318235-indivudual-density</td>\n",
              "      <td>None</td>\n",
              "    </tr>\n",
              "    <tr>\n",
              "      <th>4</th>\n",
              "      <td>Limnista</td>\n",
              "      <td>2010.0</td>\n",
              "      <td>urn:lsid:marinespecies.org:taxname:372502</td>\n",
              "      <td>Egregia menziesii</td>\n",
              "      <td>False</td>\n",
              "      <td>372502</td>\n",
              "      <td>33.981700</td>\n",
              "      <td>1304856.0</td>\n",
              "      <td>591205</td>\n",
              "      <td>345465</td>\n",
              "      <td>...</td>\n",
              "      <td>None</td>\n",
              "      <td>0</td>\n",
              "      <td>KEEN-TS-PISCO_subtidal-597774</td>\n",
              "      <td>number per sq metre</td>\n",
              "      <td>None</td>\n",
              "      <td>Individual Density</td>\n",
              "      <td>None</td>\n",
              "      <td>None</td>\n",
              "      <td>KEEN-TS-PISCO_subtidal-597774-indivudual-density</td>\n",
              "      <td>None</td>\n",
              "    </tr>\n",
              "    <tr>\n",
              "      <th>...</th>\n",
              "      <td>...</td>\n",
              "      <td>...</td>\n",
              "      <td>...</td>\n",
              "      <td>...</td>\n",
              "      <td>...</td>\n",
              "      <td>...</td>\n",
              "      <td>...</td>\n",
              "      <td>...</td>\n",
              "      <td>...</td>\n",
              "      <td>...</td>\n",
              "      <td>...</td>\n",
              "      <td>...</td>\n",
              "      <td>...</td>\n",
              "      <td>...</td>\n",
              "      <td>...</td>\n",
              "      <td>...</td>\n",
              "      <td>...</td>\n",
              "      <td>...</td>\n",
              "      <td>...</td>\n",
              "      <td>...</td>\n",
              "      <td>...</td>\n",
              "    </tr>\n",
              "    <tr>\n",
              "      <th>33411</th>\n",
              "      <td>Limnista</td>\n",
              "      <td>2011.0</td>\n",
              "      <td>urn:lsid:marinespecies.org:taxname:372502</td>\n",
              "      <td>Egregia menziesii</td>\n",
              "      <td>False</td>\n",
              "      <td>372502</td>\n",
              "      <td>36.128113</td>\n",
              "      <td>1304856.0</td>\n",
              "      <td>591205</td>\n",
              "      <td>345465</td>\n",
              "      <td>...</td>\n",
              "      <td>None</td>\n",
              "      <td>0</td>\n",
              "      <td>KEEN-TS-PISCO_subtidal-203523</td>\n",
              "      <td>number per sq metre</td>\n",
              "      <td>None</td>\n",
              "      <td>Individual Density</td>\n",
              "      <td>None</td>\n",
              "      <td>None</td>\n",
              "      <td>KEEN-TS-PISCO_subtidal-203523-indivudual-density</td>\n",
              "      <td>None</td>\n",
              "    </tr>\n",
              "    <tr>\n",
              "      <th>33412</th>\n",
              "      <td>Limnista</td>\n",
              "      <td>2008.0</td>\n",
              "      <td>urn:lsid:marinespecies.org:taxname:372502</td>\n",
              "      <td>Egregia menziesii</td>\n",
              "      <td>False</td>\n",
              "      <td>372502</td>\n",
              "      <td>35.175931</td>\n",
              "      <td>1304856.0</td>\n",
              "      <td>591205</td>\n",
              "      <td>345465</td>\n",
              "      <td>...</td>\n",
              "      <td>None</td>\n",
              "      <td>0</td>\n",
              "      <td>KEEN-TS-PISCO_subtidal-290870</td>\n",
              "      <td>number per sq metre</td>\n",
              "      <td>None</td>\n",
              "      <td>Individual Density</td>\n",
              "      <td>None</td>\n",
              "      <td>None</td>\n",
              "      <td>KEEN-TS-PISCO_subtidal-290870-indivudual-density</td>\n",
              "      <td>None</td>\n",
              "    </tr>\n",
              "    <tr>\n",
              "      <th>33413</th>\n",
              "      <td>Limnista</td>\n",
              "      <td>1999.0</td>\n",
              "      <td>urn:lsid:marinespecies.org:taxname:372502</td>\n",
              "      <td>Egregia menziesii</td>\n",
              "      <td>False</td>\n",
              "      <td>372502</td>\n",
              "      <td>36.525415</td>\n",
              "      <td>1304856.0</td>\n",
              "      <td>591205</td>\n",
              "      <td>345465</td>\n",
              "      <td>...</td>\n",
              "      <td>None</td>\n",
              "      <td>0</td>\n",
              "      <td>KEEN-TS-PISCO_subtidal-362565</td>\n",
              "      <td>number per sq metre</td>\n",
              "      <td>None</td>\n",
              "      <td>Individual Density</td>\n",
              "      <td>None</td>\n",
              "      <td>None</td>\n",
              "      <td>KEEN-TS-PISCO_subtidal-362565-indivudual-density</td>\n",
              "      <td>None</td>\n",
              "    </tr>\n",
              "    <tr>\n",
              "      <th>33414</th>\n",
              "      <td>Limnista</td>\n",
              "      <td>2004.0</td>\n",
              "      <td>urn:lsid:marinespecies.org:taxname:372502</td>\n",
              "      <td>Egregia menziesii</td>\n",
              "      <td>False</td>\n",
              "      <td>372502</td>\n",
              "      <td>36.621649</td>\n",
              "      <td>1304856.0</td>\n",
              "      <td>591205</td>\n",
              "      <td>345465</td>\n",
              "      <td>...</td>\n",
              "      <td>None</td>\n",
              "      <td>0</td>\n",
              "      <td>KEEN-TS-PISCO_subtidal-243758</td>\n",
              "      <td>number per sq metre</td>\n",
              "      <td>None</td>\n",
              "      <td>Individual Density</td>\n",
              "      <td>None</td>\n",
              "      <td>None</td>\n",
              "      <td>KEEN-TS-PISCO_subtidal-243758-indivudual-density</td>\n",
              "      <td>None</td>\n",
              "    </tr>\n",
              "    <tr>\n",
              "      <th>33415</th>\n",
              "      <td>Limnista</td>\n",
              "      <td>2011.0</td>\n",
              "      <td>urn:lsid:marinespecies.org:taxname:372502</td>\n",
              "      <td>Egregia menziesii</td>\n",
              "      <td>False</td>\n",
              "      <td>372502</td>\n",
              "      <td>35.184210</td>\n",
              "      <td>1304856.0</td>\n",
              "      <td>591205</td>\n",
              "      <td>345465</td>\n",
              "      <td>...</td>\n",
              "      <td>None</td>\n",
              "      <td>0</td>\n",
              "      <td>KEEN-TS-PISCO_subtidal-294718</td>\n",
              "      <td>number per sq metre</td>\n",
              "      <td>None</td>\n",
              "      <td>Individual Density</td>\n",
              "      <td>None</td>\n",
              "      <td>None</td>\n",
              "      <td>KEEN-TS-PISCO_subtidal-294718-indivudual-density</td>\n",
              "      <td>None</td>\n",
              "    </tr>\n",
              "  </tbody>\n",
              "</table>\n",
              "<p>33416 rows × 109 columns</p>\n",
              "</div>\n",
              "      <button class=\"colab-df-convert\" onclick=\"convertToInteractive('df-cfc856fa-1d70-4be9-aa5a-b9b6411dd9d4')\"\n",
              "              title=\"Convert this dataframe to an interactive table.\"\n",
              "              style=\"display:none;\">\n",
              "        \n",
              "  <svg xmlns=\"http://www.w3.org/2000/svg\" height=\"24px\"viewBox=\"0 0 24 24\"\n",
              "       width=\"24px\">\n",
              "    <path d=\"M0 0h24v24H0V0z\" fill=\"none\"/>\n",
              "    <path d=\"M18.56 5.44l.94 2.06.94-2.06 2.06-.94-2.06-.94-.94-2.06-.94 2.06-2.06.94zm-11 1L8.5 8.5l.94-2.06 2.06-.94-2.06-.94L8.5 2.5l-.94 2.06-2.06.94zm10 10l.94 2.06.94-2.06 2.06-.94-2.06-.94-.94-2.06-.94 2.06-2.06.94z\"/><path d=\"M17.41 7.96l-1.37-1.37c-.4-.4-.92-.59-1.43-.59-.52 0-1.04.2-1.43.59L10.3 9.45l-7.72 7.72c-.78.78-.78 2.05 0 2.83L4 21.41c.39.39.9.59 1.41.59.51 0 1.02-.2 1.41-.59l7.78-7.78 2.81-2.81c.8-.78.8-2.07 0-2.86zM5.41 20L4 18.59l7.72-7.72 1.47 1.35L5.41 20z\"/>\n",
              "  </svg>\n",
              "      </button>\n",
              "      \n",
              "  <style>\n",
              "    .colab-df-container {\n",
              "      display:flex;\n",
              "      flex-wrap:wrap;\n",
              "      gap: 12px;\n",
              "    }\n",
              "\n",
              "    .colab-df-convert {\n",
              "      background-color: #E8F0FE;\n",
              "      border: none;\n",
              "      border-radius: 50%;\n",
              "      cursor: pointer;\n",
              "      display: none;\n",
              "      fill: #1967D2;\n",
              "      height: 32px;\n",
              "      padding: 0 0 0 0;\n",
              "      width: 32px;\n",
              "    }\n",
              "\n",
              "    .colab-df-convert:hover {\n",
              "      background-color: #E2EBFA;\n",
              "      box-shadow: 0px 1px 2px rgba(60, 64, 67, 0.3), 0px 1px 3px 1px rgba(60, 64, 67, 0.15);\n",
              "      fill: #174EA6;\n",
              "    }\n",
              "\n",
              "    [theme=dark] .colab-df-convert {\n",
              "      background-color: #3B4455;\n",
              "      fill: #D2E3FC;\n",
              "    }\n",
              "\n",
              "    [theme=dark] .colab-df-convert:hover {\n",
              "      background-color: #434B5C;\n",
              "      box-shadow: 0px 1px 3px 1px rgba(0, 0, 0, 0.15);\n",
              "      filter: drop-shadow(0px 1px 2px rgba(0, 0, 0, 0.3));\n",
              "      fill: #FFFFFF;\n",
              "    }\n",
              "  </style>\n",
              "\n",
              "      <script>\n",
              "        const buttonEl =\n",
              "          document.querySelector('#df-cfc856fa-1d70-4be9-aa5a-b9b6411dd9d4 button.colab-df-convert');\n",
              "        buttonEl.style.display =\n",
              "          google.colab.kernel.accessAllowed ? 'block' : 'none';\n",
              "\n",
              "        async function convertToInteractive(key) {\n",
              "          const element = document.querySelector('#df-cfc856fa-1d70-4be9-aa5a-b9b6411dd9d4');\n",
              "          const dataTable =\n",
              "            await google.colab.kernel.invokeFunction('convertToInteractive',\n",
              "                                                     [key], {});\n",
              "          if (!dataTable) return;\n",
              "\n",
              "          const docLinkHtml = 'Like what you see? Visit the ' +\n",
              "            '<a target=\"_blank\" href=https://colab.research.google.com/notebooks/data_table.ipynb>data table notebook</a>'\n",
              "            + ' to learn more about interactive tables.';\n",
              "          element.innerHTML = '';\n",
              "          dataTable['output_type'] = 'display_data';\n",
              "          await google.colab.output.renderOutput(dataTable, element);\n",
              "          const docLink = document.createElement('div');\n",
              "          docLink.innerHTML = docLinkHtml;\n",
              "          element.appendChild(docLink);\n",
              "        }\n",
              "      </script>\n",
              "    </div>\n",
              "  </div>\n",
              "  "
            ],
            "text/plain": [
              "      infraphylum  date_year                           scientificNameID  \\\n",
              "0        Limnista     2009.0  urn:lsid:marinespecies.org:taxname:372502   \n",
              "1        Limnista     2005.0  urn:lsid:marinespecies.org:taxname:372502   \n",
              "2        Limnista     2009.0  urn:lsid:marinespecies.org:taxname:372502   \n",
              "3        Limnista     2007.0  urn:lsid:marinespecies.org:taxname:372502   \n",
              "4        Limnista     2010.0  urn:lsid:marinespecies.org:taxname:372502   \n",
              "...           ...        ...                                        ...   \n",
              "33411    Limnista     2011.0  urn:lsid:marinespecies.org:taxname:372502   \n",
              "33412    Limnista     2008.0  urn:lsid:marinespecies.org:taxname:372502   \n",
              "33413    Limnista     1999.0  urn:lsid:marinespecies.org:taxname:372502   \n",
              "33414    Limnista     2004.0  urn:lsid:marinespecies.org:taxname:372502   \n",
              "33415    Limnista     2011.0  urn:lsid:marinespecies.org:taxname:372502   \n",
              "\n",
              "          scientificName  dropped  aphiaID  decimalLatitude  subclassid  \\\n",
              "0      Egregia menziesii    False   372502        36.944871   1304856.0   \n",
              "1      Egregia menziesii    False   372502        34.480842   1304856.0   \n",
              "2      Egregia menziesii    False   372502        34.402833   1304856.0   \n",
              "3      Egregia menziesii    False   372502        36.624220   1304856.0   \n",
              "4      Egregia menziesii    False   372502        33.981700   1304856.0   \n",
              "...                  ...      ...      ...              ...         ...   \n",
              "33411  Egregia menziesii    False   372502        36.128113   1304856.0   \n",
              "33412  Egregia menziesii    False   372502        35.175931   1304856.0   \n",
              "33413  Egregia menziesii    False   372502        36.525415   1304856.0   \n",
              "33414  Egregia menziesii    False   372502        36.621649   1304856.0   \n",
              "33415  Egregia menziesii    False   372502        35.184210   1304856.0   \n",
              "\n",
              "       infraphylumid  phylumid  ...  measurementValueID level  \\\n",
              "0             591205    345465  ...                None     0   \n",
              "1             591205    345465  ...                None     0   \n",
              "2             591205    345465  ...                None     0   \n",
              "3             591205    345465  ...                None     0   \n",
              "4             591205    345465  ...                None     0   \n",
              "...              ...       ...  ...                 ...   ...   \n",
              "33411         591205    345465  ...                None     0   \n",
              "33412         591205    345465  ...                None     0   \n",
              "33413         591205    345465  ...                None     0   \n",
              "33414         591205    345465  ...                None     0   \n",
              "33415         591205    345465  ...                None     0   \n",
              "\n",
              "                                 occurrenceID_y      measurementUnit  \\\n",
              "0                 KEEN-TS-PISCO_subtidal-756777  number per sq metre   \n",
              "1                 KEEN-TS-PISCO_subtidal-272592  number per sq metre   \n",
              "2      KEEN-TS-sbc_lter_longterm_community-6961  number per sq metre   \n",
              "3                 KEEN-TS-PISCO_subtidal-318235  number per sq metre   \n",
              "4                 KEEN-TS-PISCO_subtidal-597774  number per sq metre   \n",
              "...                                         ...                  ...   \n",
              "33411             KEEN-TS-PISCO_subtidal-203523  number per sq metre   \n",
              "33412             KEEN-TS-PISCO_subtidal-290870  number per sq metre   \n",
              "33413             KEEN-TS-PISCO_subtidal-362565  number per sq metre   \n",
              "33414             KEEN-TS-PISCO_subtidal-243758  number per sq metre   \n",
              "33415             KEEN-TS-PISCO_subtidal-294718  number per sq metre   \n",
              "\n",
              "      measurementDeterminedDate     measurementType  measurementUnitID  \\\n",
              "0                          None  Individual Density               None   \n",
              "1                          None  Individual Density               None   \n",
              "2                          None  Individual Density               None   \n",
              "3                          None  Individual Density               None   \n",
              "4                          None  Individual Density               None   \n",
              "...                         ...                 ...                ...   \n",
              "33411                      None  Individual Density               None   \n",
              "33412                      None  Individual Density               None   \n",
              "33413                      None  Individual Density               None   \n",
              "33414                      None  Individual Density               None   \n",
              "33415                      None  Individual Density               None   \n",
              "\n",
              "      measurementTypeID                                      measurementID  \\\n",
              "0                  None   KEEN-TS-PISCO_subtidal-756777-indivudual-density   \n",
              "1                  None   KEEN-TS-PISCO_subtidal-272592-indivudual-density   \n",
              "2                  None  KEEN-TS-sbc_lter_longterm_community-6961-indiv...   \n",
              "3                  None   KEEN-TS-PISCO_subtidal-318235-indivudual-density   \n",
              "4                  None   KEEN-TS-PISCO_subtidal-597774-indivudual-density   \n",
              "...                 ...                                                ...   \n",
              "33411              None   KEEN-TS-PISCO_subtidal-203523-indivudual-density   \n",
              "33412              None   KEEN-TS-PISCO_subtidal-290870-indivudual-density   \n",
              "33413              None   KEEN-TS-PISCO_subtidal-362565-indivudual-density   \n",
              "33414              None   KEEN-TS-PISCO_subtidal-243758-indivudual-density   \n",
              "33415              None   KEEN-TS-PISCO_subtidal-294718-indivudual-density   \n",
              "\n",
              "      measurementMethod  \n",
              "0                  None  \n",
              "1                  None  \n",
              "2                  None  \n",
              "3                  None  \n",
              "4                  None  \n",
              "...                 ...  \n",
              "33411              None  \n",
              "33412              None  \n",
              "33413              None  \n",
              "33414              None  \n",
              "33415              None  \n",
              "\n",
              "[33416 rows x 109 columns]"
            ]
          },
          "execution_count": 4,
          "metadata": {},
          "output_type": "execute_result"
        }
      ],
      "source": [
        "data = occ.search(scientificname=\"Egregia menziesii\", mof=True, hasextensions=\"MeasurementOrFacts\")\n",
        "data"
      ]
    },
    {
      "cell_type": "markdown",
      "metadata": {
        "id": "9icqfSzsul-Y"
      },
      "source": [
        "This is some good data, 35688 records. Looks promising."
      ]
    },
    {
      "cell_type": "markdown",
      "metadata": {
        "id": "C-vsO9nGJj9s"
      },
      "source": [
        "### 0. Things behind the data\n",
        "We started this section heading with a zero specifically to seperate it out from the rest of the analysis we are going to perform later. It will be wiser to start looking at the dataset composition before moving on to the analysis part.\n"
      ]
    },
    {
      "cell_type": "code",
      "execution_count": 5,
      "metadata": {
        "id": "D5ihh2bzlDZC"
      },
      "outputs": [],
      "source": [
        "sns.set(rc = {'figure.figsize':(15,10)}, style=\"darkgrid\")"
      ]
    },
    {
      "cell_type": "code",
      "execution_count": 6,
      "metadata": {
        "colab": {
          "base_uri": "https://localhost:8080/",
          "height": 591
        },
        "id": "jWouJjqYJroc",
        "outputId": "889d9dc1-6179-4a17-c95b-feb42fd4699c"
      },
      "outputs": [
        {
          "data": {
            "image/png": "[encoded data removed]",
            "text/plain": [
              "<Figure size 1080x720 with 1 Axes>"
            ]
          },
          "metadata": {},
          "output_type": "display_data"
        }
      ],
      "source": [
        "data.groupby(\"dataset_id\").scientificName.count().plot.pie(autopct=\"%1.2f%%\")\n",
        "plt.title(\"records contribution by each dataset (UUID)\");"
      ]
    },
    {
      "cell_type": "markdown",
      "metadata": {
        "id": "GIlWEYqUNvRS"
      },
      "source": [
        "We can see that most of the data we have got for this species has been taken from one single source that accounts for nearly 89% of the total number of records. Therefore, the findings in this analysis might or might not be the complete picture."
      ]
    },
    {
      "cell_type": "markdown",
      "metadata": {
        "id": "6m4Z4gWcu5DA"
      },
      "source": [
        "So getting started, let us first see what kinds of measurements do we have."
      ]
    },
    {
      "cell_type": "code",
      "execution_count": 7,
      "metadata": {
        "colab": {
          "base_uri": "https://localhost:8080/"
        },
        "id": "j8JuRYL7w-pT",
        "outputId": "589f2921-56bd-4bfa-8785-a7332656d515"
      },
      "outputs": [
        {
          "data": {
            "text/plain": [
              "array(['Individual Density',\n",
              "       'Proportion coverage mean of biological entity specified elsewhere',\n",
              "       'Proportion coverage standard deviation of biological entity specified elsewhere',\n",
              "       'Proportion coverage standard error of biological entity specified elsewhere',\n",
              "       'cover', 'relief', 'substrate', 'visibility'], dtype=object)"
            ]
          },
          "execution_count": 7,
          "metadata": {},
          "output_type": "execute_result"
        }
      ],
      "source": [
        "data[\"measurementType\"].unique()"
      ]
    },
    {
      "cell_type": "markdown",
      "metadata": {
        "id": "5nLKYypOxCWM"
      },
      "source": [
        "### 1. individual density v/s years\n",
        "\n",
        "Let us first visualize how `individual density` is spread across years. For this we need to get the `year` first from the `eventDate`."
      ]
    },
    {
      "cell_type": "code",
      "execution_count": 8,
      "metadata": {
        "id": "a2MlycZnYUjZ"
      },
      "outputs": [],
      "source": [
        "data[\"nYear\"] = data[\"eventDate\"].str[:4].astype(int)"
      ]
    },
    {
      "cell_type": "code",
      "execution_count": 9,
      "metadata": {
        "id": "FmSNVOtQ0hmi"
      },
      "outputs": [],
      "source": [
        "sns.set(style='darkgrid', rc={'figure.figsize':(12,8)})"
      ]
    },
    {
      "cell_type": "code",
      "execution_count": 10,
      "metadata": {
        "colab": {
          "base_uri": "https://localhost:8080/",
          "height": 727
        },
        "id": "Th0JqtMBxP_n",
        "outputId": "e24c39c5-3515-4d54-86bf-a733a8af92ae"
      },
      "outputs": [
        {
          "name": "stderr",
          "output_type": "stream",
          "text": [
            "/usr/local/lib/python3.7/dist-packages/ipykernel_launcher.py:2: SettingWithCopyWarning: \n",
            "A value is trying to be set on a copy of a slice from a DataFrame.\n",
            "Try using .loc[row_indexer,col_indexer] = value instead\n",
            "\n",
            "See the caveats in the documentation: https://pandas.pydata.org/pandas-docs/stable/user_guide/indexing.html#returning-a-view-versus-a-copy\n",
            "  \n",
            "/usr/local/lib/python3.7/dist-packages/pandas/util/_decorators.py:311: SettingWithCopyWarning: \n",
            "A value is trying to be set on a copy of a slice from a DataFrame\n",
            "\n",
            "See the caveats in the documentation: https://pandas.pydata.org/pandas-docs/stable/user_guide/indexing.html#returning-a-view-versus-a-copy\n",
            "  return func(*args, **kwargs)\n"
          ]
        },
        {
          "data": {
            "image/png": "[encoded data removed]",
            "text/plain": [
              "<Figure size 864x576 with 1 Axes>"
            ]
          },
          "metadata": {},
          "output_type": "display_data"
        }
      ],
      "source": [
        "_ind_dens = data[data[\"measurementType\"]==\"Individual Density\"]\n",
        "_ind_dens[\"measurementValue\"] = _ind_dens.measurementValue.astype(float)\n",
        "_ind_dens.sort_values(by=\"eventDate\", inplace=True)\n",
        "_ind_dens[[\"measurementValue\",\"nYear\"]].groupby(\"nYear\").mean().plot.bar()\n",
        "plt.title(\"Mean Individual Density over years\")\n",
        "plt.xlabel(\"years\")\n",
        "plt.ylabel(\"mean density\");"
      ]
    },
    {
      "cell_type": "markdown",
      "metadata": {
        "id": "otkvkl0z04BG"
      },
      "source": [
        "From this plot we can see that \n",
        "+ the mean individual density over years reduced  significantly starting from 2001 untill it rebounded but to a lesser extent. This is interesting There might have been some efforts to save these kelps after their steep decline that lead to its rejuvenation. \n",
        "+ However, more recent records are missing."
      ]
    },
    {
      "cell_type": "markdown",
      "metadata": {
        "id": "Hynb5mo75obI"
      },
      "source": [
        "Now let us get back to where we started, we'll look again at the measurement types we have."
      ]
    },
    {
      "cell_type": "code",
      "execution_count": 11,
      "metadata": {
        "colab": {
          "base_uri": "https://localhost:8080/"
        },
        "id": "4GTrqqg5yGRn",
        "outputId": "dcef169b-58cf-403a-8377-1b6e5a6802ea"
      },
      "outputs": [
        {
          "data": {
            "text/plain": [
              "array(['Individual Density',\n",
              "       'Proportion coverage mean of biological entity specified elsewhere',\n",
              "       'Proportion coverage standard deviation of biological entity specified elsewhere',\n",
              "       'Proportion coverage standard error of biological entity specified elsewhere',\n",
              "       'cover', 'relief', 'substrate', 'visibility'], dtype=object)"
            ]
          },
          "execution_count": 11,
          "metadata": {},
          "output_type": "execute_result"
        }
      ],
      "source": [
        "data[\"measurementType\"].unique()"
      ]
    },
    {
      "cell_type": "markdown",
      "metadata": {
        "id": "k5eyIsuv5wKj"
      },
      "source": [
        "### 2. Analysing `cover` values\n",
        "\n",
        "We are going to analyse `cover` values for this we'll do some hard work. We will see what we did later."
      ]
    },
    {
      "cell_type": "code",
      "execution_count": 12,
      "metadata": {
        "id": "e4fWfkhq4HLN"
      },
      "outputs": [],
      "source": [
        "_cov_data = data[data[\"measurementType\"]=='cover']"
      ]
    },
    {
      "cell_type": "code",
      "execution_count": 13,
      "metadata": {
        "id": "i1GHUHyG4hBZ"
      },
      "outputs": [],
      "source": [
        "l=[]\n",
        "for i in _cov_data[\"measurementValue\"]:\n",
        "  l.append({x.strip().split(\"%\")[1].strip():x.strip().split(\"%\")[0] for x in i.split('|')})"
      ]
    },
    {
      "cell_type": "code",
      "execution_count": 14,
      "metadata": {
        "id": "PAfS9jBu4lad"
      },
      "outputs": [],
      "source": [
        "_new_cov = pd.DataFrame(l)"
      ]
    },
    {
      "cell_type": "markdown",
      "metadata": {
        "id": "zwDgbDH-413N"
      },
      "source": [
        "What we did in the previous 4 blocks of code can be summarised as:\n",
        "+ we got all data which had `cover` as `measurementType`\n",
        "+ we then saw that the `measurementValue` was a string with percentage composition seprated by `\"|\"`\n",
        "+ so we sperated all these values and converted into a dictionary containing keys as the parameter and the percentage value of the parameter as the key-value.\n",
        "+ we did this for every record and converted it into a kind of JSON data\n",
        "+ from this JSON data we made a pandas dataframe"
      ]
    },
    {
      "cell_type": "code",
      "execution_count": 15,
      "metadata": {
        "colab": {
          "base_uri": "https://localhost:8080/",
          "height": 467
        },
        "id": "3-b4V1Me4uDI",
        "outputId": "d7dac932-fab0-4f7d-a6a3-885a157289c8"
      },
      "outputs": [
        {
          "data": {
            "text/html": [
              "\n",
              "  <div id=\"df-ad0377db-efc4-45e6-86fd-21bbd0896a58\">\n",
              "    <div class=\"colab-df-container\">\n",
              "      <div>\n",
              "<style scoped>\n",
              "    .dataframe tbody tr th:only-of-type {\n",
              "        vertical-align: middle;\n",
              "    }\n",
              "\n",
              "    .dataframe tbody tr th {\n",
              "        vertical-align: top;\n",
              "    }\n",
              "\n",
              "    .dataframe thead th {\n",
              "        text-align: right;\n",
              "    }\n",
              "</style>\n",
              "<table border=\"1\" class=\"dataframe\">\n",
              "  <thead>\n",
              "    <tr style=\"text-align: right;\">\n",
              "      <th></th>\n",
              "      <th>crustose coralline</th>\n",
              "      <th>articulated coralline</th>\n",
              "      <th>encrusting red</th>\n",
              "      <th>red seaweed</th>\n",
              "      <th>brown seaweed</th>\n",
              "      <th>none</th>\n",
              "      <th>other brown seaweed</th>\n",
              "      <th>sessile invertebrates</th>\n",
              "      <th>mobile invertebrates</th>\n",
              "      <th>green seaweed</th>\n",
              "      <th>seagrasses</th>\n",
              "    </tr>\n",
              "  </thead>\n",
              "  <tbody>\n",
              "    <tr>\n",
              "      <th>0</th>\n",
              "      <td>16.7</td>\n",
              "      <td>10.0</td>\n",
              "      <td>3.3</td>\n",
              "      <td>46.7</td>\n",
              "      <td>6.7</td>\n",
              "      <td>16.7</td>\n",
              "      <td>NaN</td>\n",
              "      <td>NaN</td>\n",
              "      <td>NaN</td>\n",
              "      <td>NaN</td>\n",
              "      <td>NaN</td>\n",
              "    </tr>\n",
              "    <tr>\n",
              "      <th>1</th>\n",
              "      <td>6.7</td>\n",
              "      <td>20.0</td>\n",
              "      <td>3.3</td>\n",
              "      <td>40.0</td>\n",
              "      <td>NaN</td>\n",
              "      <td>13.3</td>\n",
              "      <td>16.7</td>\n",
              "      <td>NaN</td>\n",
              "      <td>NaN</td>\n",
              "      <td>NaN</td>\n",
              "      <td>NaN</td>\n",
              "    </tr>\n",
              "    <tr>\n",
              "      <th>2</th>\n",
              "      <td>6.7</td>\n",
              "      <td>3.3</td>\n",
              "      <td>NaN</td>\n",
              "      <td>16.7</td>\n",
              "      <td>NaN</td>\n",
              "      <td>53.3</td>\n",
              "      <td>6.7</td>\n",
              "      <td>13.3</td>\n",
              "      <td>NaN</td>\n",
              "      <td>NaN</td>\n",
              "      <td>NaN</td>\n",
              "    </tr>\n",
              "    <tr>\n",
              "      <th>3</th>\n",
              "      <td>20.0</td>\n",
              "      <td>20.0</td>\n",
              "      <td>3.3</td>\n",
              "      <td>20.0</td>\n",
              "      <td>6.7</td>\n",
              "      <td>10.0</td>\n",
              "      <td>20.0</td>\n",
              "      <td>NaN</td>\n",
              "      <td>NaN</td>\n",
              "      <td>NaN</td>\n",
              "      <td>NaN</td>\n",
              "    </tr>\n",
              "    <tr>\n",
              "      <th>4</th>\n",
              "      <td>30.0</td>\n",
              "      <td>NaN</td>\n",
              "      <td>3.3</td>\n",
              "      <td>13.3</td>\n",
              "      <td>3.3</td>\n",
              "      <td>13.3</td>\n",
              "      <td>NaN</td>\n",
              "      <td>36.7</td>\n",
              "      <td>NaN</td>\n",
              "      <td>NaN</td>\n",
              "      <td>NaN</td>\n",
              "    </tr>\n",
              "    <tr>\n",
              "      <th>...</th>\n",
              "      <td>...</td>\n",
              "      <td>...</td>\n",
              "      <td>...</td>\n",
              "      <td>...</td>\n",
              "      <td>...</td>\n",
              "      <td>...</td>\n",
              "      <td>...</td>\n",
              "      <td>...</td>\n",
              "      <td>...</td>\n",
              "      <td>...</td>\n",
              "      <td>...</td>\n",
              "    </tr>\n",
              "    <tr>\n",
              "      <th>529</th>\n",
              "      <td>6.7</td>\n",
              "      <td>20.0</td>\n",
              "      <td>10.0</td>\n",
              "      <td>20.0</td>\n",
              "      <td>6.7</td>\n",
              "      <td>16.7</td>\n",
              "      <td>6.7</td>\n",
              "      <td>13.3</td>\n",
              "      <td>NaN</td>\n",
              "      <td>NaN</td>\n",
              "      <td>NaN</td>\n",
              "    </tr>\n",
              "    <tr>\n",
              "      <th>530</th>\n",
              "      <td>10.0</td>\n",
              "      <td>23.3</td>\n",
              "      <td>6.7</td>\n",
              "      <td>23.3</td>\n",
              "      <td>6.7</td>\n",
              "      <td>13.3</td>\n",
              "      <td>3.3</td>\n",
              "      <td>13.3</td>\n",
              "      <td>NaN</td>\n",
              "      <td>NaN</td>\n",
              "      <td>NaN</td>\n",
              "    </tr>\n",
              "    <tr>\n",
              "      <th>531</th>\n",
              "      <td>23.3</td>\n",
              "      <td>30.0</td>\n",
              "      <td>13.3</td>\n",
              "      <td>16.7</td>\n",
              "      <td>NaN</td>\n",
              "      <td>10.0</td>\n",
              "      <td>NaN</td>\n",
              "      <td>6.7</td>\n",
              "      <td>NaN</td>\n",
              "      <td>NaN</td>\n",
              "      <td>NaN</td>\n",
              "    </tr>\n",
              "    <tr>\n",
              "      <th>532</th>\n",
              "      <td>20.0</td>\n",
              "      <td>6.7</td>\n",
              "      <td>NaN</td>\n",
              "      <td>20.0</td>\n",
              "      <td>3.3</td>\n",
              "      <td>40.0</td>\n",
              "      <td>NaN</td>\n",
              "      <td>10.0</td>\n",
              "      <td>NaN</td>\n",
              "      <td>NaN</td>\n",
              "      <td>NaN</td>\n",
              "    </tr>\n",
              "    <tr>\n",
              "      <th>533</th>\n",
              "      <td>10.0</td>\n",
              "      <td>30.0</td>\n",
              "      <td>NaN</td>\n",
              "      <td>36.7</td>\n",
              "      <td>NaN</td>\n",
              "      <td>23.3</td>\n",
              "      <td>NaN</td>\n",
              "      <td>NaN</td>\n",
              "      <td>NaN</td>\n",
              "      <td>NaN</td>\n",
              "      <td>NaN</td>\n",
              "    </tr>\n",
              "  </tbody>\n",
              "</table>\n",
              "<p>534 rows × 11 columns</p>\n",
              "</div>\n",
              "      <button class=\"colab-df-convert\" onclick=\"convertToInteractive('df-ad0377db-efc4-45e6-86fd-21bbd0896a58')\"\n",
              "              title=\"Convert this dataframe to an interactive table.\"\n",
              "              style=\"display:none;\">\n",
              "        \n",
              "  <svg xmlns=\"http://www.w3.org/2000/svg\" height=\"24px\"viewBox=\"0 0 24 24\"\n",
              "       width=\"24px\">\n",
              "    <path d=\"M0 0h24v24H0V0z\" fill=\"none\"/>\n",
              "    <path d=\"M18.56 5.44l.94 2.06.94-2.06 2.06-.94-2.06-.94-.94-2.06-.94 2.06-2.06.94zm-11 1L8.5 8.5l.94-2.06 2.06-.94-2.06-.94L8.5 2.5l-.94 2.06-2.06.94zm10 10l.94 2.06.94-2.06 2.06-.94-2.06-.94-.94-2.06-.94 2.06-2.06.94z\"/><path d=\"M17.41 7.96l-1.37-1.37c-.4-.4-.92-.59-1.43-.59-.52 0-1.04.2-1.43.59L10.3 9.45l-7.72 7.72c-.78.78-.78 2.05 0 2.83L4 21.41c.39.39.9.59 1.41.59.51 0 1.02-.2 1.41-.59l7.78-7.78 2.81-2.81c.8-.78.8-2.07 0-2.86zM5.41 20L4 18.59l7.72-7.72 1.47 1.35L5.41 20z\"/>\n",
              "  </svg>\n",
              "      </button>\n",
              "      \n",
              "  <style>\n",
              "    .colab-df-container {\n",
              "      display:flex;\n",
              "      flex-wrap:wrap;\n",
              "      gap: 12px;\n",
              "    }\n",
              "\n",
              "    .colab-df-convert {\n",
              "      background-color: #E8F0FE;\n",
              "      border: none;\n",
              "      border-radius: 50%;\n",
              "      cursor: pointer;\n",
              "      display: none;\n",
              "      fill: #1967D2;\n",
              "      height: 32px;\n",
              "      padding: 0 0 0 0;\n",
              "      width: 32px;\n",
              "    }\n",
              "\n",
              "    .colab-df-convert:hover {\n",
              "      background-color: #E2EBFA;\n",
              "      box-shadow: 0px 1px 2px rgba(60, 64, 67, 0.3), 0px 1px 3px 1px rgba(60, 64, 67, 0.15);\n",
              "      fill: #174EA6;\n",
              "    }\n",
              "\n",
              "    [theme=dark] .colab-df-convert {\n",
              "      background-color: #3B4455;\n",
              "      fill: #D2E3FC;\n",
              "    }\n",
              "\n",
              "    [theme=dark] .colab-df-convert:hover {\n",
              "      background-color: #434B5C;\n",
              "      box-shadow: 0px 1px 3px 1px rgba(0, 0, 0, 0.15);\n",
              "      filter: drop-shadow(0px 1px 2px rgba(0, 0, 0, 0.3));\n",
              "      fill: #FFFFFF;\n",
              "    }\n",
              "  </style>\n",
              "\n",
              "      <script>\n",
              "        const buttonEl =\n",
              "          document.querySelector('#df-ad0377db-efc4-45e6-86fd-21bbd0896a58 button.colab-df-convert');\n",
              "        buttonEl.style.display =\n",
              "          google.colab.kernel.accessAllowed ? 'block' : 'none';\n",
              "\n",
              "        async function convertToInteractive(key) {\n",
              "          const element = document.querySelector('#df-ad0377db-efc4-45e6-86fd-21bbd0896a58');\n",
              "          const dataTable =\n",
              "            await google.colab.kernel.invokeFunction('convertToInteractive',\n",
              "                                                     [key], {});\n",
              "          if (!dataTable) return;\n",
              "\n",
              "          const docLinkHtml = 'Like what you see? Visit the ' +\n",
              "            '<a target=\"_blank\" href=https://colab.research.google.com/notebooks/data_table.ipynb>data table notebook</a>'\n",
              "            + ' to learn more about interactive tables.';\n",
              "          element.innerHTML = '';\n",
              "          dataTable['output_type'] = 'display_data';\n",
              "          await google.colab.output.renderOutput(dataTable, element);\n",
              "          const docLink = document.createElement('div');\n",
              "          docLink.innerHTML = docLinkHtml;\n",
              "          element.appendChild(docLink);\n",
              "        }\n",
              "      </script>\n",
              "    </div>\n",
              "  </div>\n",
              "  "
            ],
            "text/plain": [
              "    crustose coralline articulated coralline encrusting red red seaweed  \\\n",
              "0                 16.7                  10.0            3.3        46.7   \n",
              "1                  6.7                  20.0            3.3        40.0   \n",
              "2                  6.7                   3.3            NaN        16.7   \n",
              "3                 20.0                  20.0            3.3        20.0   \n",
              "4                 30.0                   NaN            3.3        13.3   \n",
              "..                 ...                   ...            ...         ...   \n",
              "529                6.7                  20.0           10.0        20.0   \n",
              "530               10.0                  23.3            6.7        23.3   \n",
              "531               23.3                  30.0           13.3        16.7   \n",
              "532               20.0                   6.7            NaN        20.0   \n",
              "533               10.0                  30.0            NaN        36.7   \n",
              "\n",
              "    brown seaweed  none other brown seaweed sessile invertebrates  \\\n",
              "0             6.7  16.7                 NaN                   NaN   \n",
              "1             NaN  13.3                16.7                   NaN   \n",
              "2             NaN  53.3                 6.7                  13.3   \n",
              "3             6.7  10.0                20.0                   NaN   \n",
              "4             3.3  13.3                 NaN                  36.7   \n",
              "..            ...   ...                 ...                   ...   \n",
              "529           6.7  16.7                 6.7                  13.3   \n",
              "530           6.7  13.3                 3.3                  13.3   \n",
              "531           NaN  10.0                 NaN                   6.7   \n",
              "532           3.3  40.0                 NaN                  10.0   \n",
              "533           NaN  23.3                 NaN                   NaN   \n",
              "\n",
              "    mobile invertebrates green seaweed seagrasses  \n",
              "0                    NaN           NaN        NaN  \n",
              "1                    NaN           NaN        NaN  \n",
              "2                    NaN           NaN        NaN  \n",
              "3                    NaN           NaN        NaN  \n",
              "4                    NaN           NaN        NaN  \n",
              "..                   ...           ...        ...  \n",
              "529                  NaN           NaN        NaN  \n",
              "530                  NaN           NaN        NaN  \n",
              "531                  NaN           NaN        NaN  \n",
              "532                  NaN           NaN        NaN  \n",
              "533                  NaN           NaN        NaN  \n",
              "\n",
              "[534 rows x 11 columns]"
            ]
          },
          "execution_count": 15,
          "metadata": {},
          "output_type": "execute_result"
        }
      ],
      "source": [
        "_new_cov"
      ]
    },
    {
      "cell_type": "code",
      "execution_count": 16,
      "metadata": {
        "colab": {
          "base_uri": "https://localhost:8080/",
          "height": 394
        },
        "id": "NprKjf-ftiyo",
        "outputId": "3147d49b-5429-44ac-82b3-860ce89a620e"
      },
      "outputs": [
        {
          "data": {
            "text/html": [
              "\n",
              "  <div id=\"df-4f9edd25-eab3-446e-aba8-287d496fd1cb\">\n",
              "    <div class=\"colab-df-container\">\n",
              "      <div>\n",
              "<style scoped>\n",
              "    .dataframe tbody tr th:only-of-type {\n",
              "        vertical-align: middle;\n",
              "    }\n",
              "\n",
              "    .dataframe tbody tr th {\n",
              "        vertical-align: top;\n",
              "    }\n",
              "\n",
              "    .dataframe thead th {\n",
              "        text-align: right;\n",
              "    }\n",
              "</style>\n",
              "<table border=\"1\" class=\"dataframe\">\n",
              "  <thead>\n",
              "    <tr style=\"text-align: right;\">\n",
              "      <th></th>\n",
              "      <th>count</th>\n",
              "      <th>unique</th>\n",
              "      <th>top</th>\n",
              "      <th>freq</th>\n",
              "    </tr>\n",
              "  </thead>\n",
              "  <tbody>\n",
              "    <tr>\n",
              "      <th>crustose coralline</th>\n",
              "      <td>470</td>\n",
              "      <td>13</td>\n",
              "      <td>6.7</td>\n",
              "      <td>74</td>\n",
              "    </tr>\n",
              "    <tr>\n",
              "      <th>articulated coralline</th>\n",
              "      <td>459</td>\n",
              "      <td>14</td>\n",
              "      <td>13.3</td>\n",
              "      <td>76</td>\n",
              "    </tr>\n",
              "    <tr>\n",
              "      <th>encrusting red</th>\n",
              "      <td>263</td>\n",
              "      <td>9</td>\n",
              "      <td>3.3</td>\n",
              "      <td>113</td>\n",
              "    </tr>\n",
              "    <tr>\n",
              "      <th>red seaweed</th>\n",
              "      <td>511</td>\n",
              "      <td>17</td>\n",
              "      <td>20.0</td>\n",
              "      <td>62</td>\n",
              "    </tr>\n",
              "    <tr>\n",
              "      <th>brown seaweed</th>\n",
              "      <td>300</td>\n",
              "      <td>9</td>\n",
              "      <td>3.3</td>\n",
              "      <td>105</td>\n",
              "    </tr>\n",
              "    <tr>\n",
              "      <th>none</th>\n",
              "      <td>481</td>\n",
              "      <td>18</td>\n",
              "      <td>20.0</td>\n",
              "      <td>92</td>\n",
              "    </tr>\n",
              "    <tr>\n",
              "      <th>other brown seaweed</th>\n",
              "      <td>399</td>\n",
              "      <td>15</td>\n",
              "      <td>3.3</td>\n",
              "      <td>94</td>\n",
              "    </tr>\n",
              "    <tr>\n",
              "      <th>sessile invertebrates</th>\n",
              "      <td>273</td>\n",
              "      <td>9</td>\n",
              "      <td>3.3</td>\n",
              "      <td>93</td>\n",
              "    </tr>\n",
              "    <tr>\n",
              "      <th>mobile invertebrates</th>\n",
              "      <td>107</td>\n",
              "      <td>4</td>\n",
              "      <td>3.3</td>\n",
              "      <td>85</td>\n",
              "    </tr>\n",
              "    <tr>\n",
              "      <th>green seaweed</th>\n",
              "      <td>20</td>\n",
              "      <td>4</td>\n",
              "      <td>6.7</td>\n",
              "      <td>14</td>\n",
              "    </tr>\n",
              "    <tr>\n",
              "      <th>seagrasses</th>\n",
              "      <td>20</td>\n",
              "      <td>3</td>\n",
              "      <td>16.7</td>\n",
              "      <td>9</td>\n",
              "    </tr>\n",
              "  </tbody>\n",
              "</table>\n",
              "</div>\n",
              "      <button class=\"colab-df-convert\" onclick=\"convertToInteractive('df-4f9edd25-eab3-446e-aba8-287d496fd1cb')\"\n",
              "              title=\"Convert this dataframe to an interactive table.\"\n",
              "              style=\"display:none;\">\n",
              "        \n",
              "  <svg xmlns=\"http://www.w3.org/2000/svg\" height=\"24px\"viewBox=\"0 0 24 24\"\n",
              "       width=\"24px\">\n",
              "    <path d=\"M0 0h24v24H0V0z\" fill=\"none\"/>\n",
              "    <path d=\"M18.56 5.44l.94 2.06.94-2.06 2.06-.94-2.06-.94-.94-2.06-.94 2.06-2.06.94zm-11 1L8.5 8.5l.94-2.06 2.06-.94-2.06-.94L8.5 2.5l-.94 2.06-2.06.94zm10 10l.94 2.06.94-2.06 2.06-.94-2.06-.94-.94-2.06-.94 2.06-2.06.94z\"/><path d=\"M17.41 7.96l-1.37-1.37c-.4-.4-.92-.59-1.43-.59-.52 0-1.04.2-1.43.59L10.3 9.45l-7.72 7.72c-.78.78-.78 2.05 0 2.83L4 21.41c.39.39.9.59 1.41.59.51 0 1.02-.2 1.41-.59l7.78-7.78 2.81-2.81c.8-.78.8-2.07 0-2.86zM5.41 20L4 18.59l7.72-7.72 1.47 1.35L5.41 20z\"/>\n",
              "  </svg>\n",
              "      </button>\n",
              "      \n",
              "  <style>\n",
              "    .colab-df-container {\n",
              "      display:flex;\n",
              "      flex-wrap:wrap;\n",
              "      gap: 12px;\n",
              "    }\n",
              "\n",
              "    .colab-df-convert {\n",
              "      background-color: #E8F0FE;\n",
              "      border: none;\n",
              "      border-radius: 50%;\n",
              "      cursor: pointer;\n",
              "      display: none;\n",
              "      fill: #1967D2;\n",
              "      height: 32px;\n",
              "      padding: 0 0 0 0;\n",
              "      width: 32px;\n",
              "    }\n",
              "\n",
              "    .colab-df-convert:hover {\n",
              "      background-color: #E2EBFA;\n",
              "      box-shadow: 0px 1px 2px rgba(60, 64, 67, 0.3), 0px 1px 3px 1px rgba(60, 64, 67, 0.15);\n",
              "      fill: #174EA6;\n",
              "    }\n",
              "\n",
              "    [theme=dark] .colab-df-convert {\n",
              "      background-color: #3B4455;\n",
              "      fill: #D2E3FC;\n",
              "    }\n",
              "\n",
              "    [theme=dark] .colab-df-convert:hover {\n",
              "      background-color: #434B5C;\n",
              "      box-shadow: 0px 1px 3px 1px rgba(0, 0, 0, 0.15);\n",
              "      filter: drop-shadow(0px 1px 2px rgba(0, 0, 0, 0.3));\n",
              "      fill: #FFFFFF;\n",
              "    }\n",
              "  </style>\n",
              "\n",
              "      <script>\n",
              "        const buttonEl =\n",
              "          document.querySelector('#df-4f9edd25-eab3-446e-aba8-287d496fd1cb button.colab-df-convert');\n",
              "        buttonEl.style.display =\n",
              "          google.colab.kernel.accessAllowed ? 'block' : 'none';\n",
              "\n",
              "        async function convertToInteractive(key) {\n",
              "          const element = document.querySelector('#df-4f9edd25-eab3-446e-aba8-287d496fd1cb');\n",
              "          const dataTable =\n",
              "            await google.colab.kernel.invokeFunction('convertToInteractive',\n",
              "                                                     [key], {});\n",
              "          if (!dataTable) return;\n",
              "\n",
              "          const docLinkHtml = 'Like what you see? Visit the ' +\n",
              "            '<a target=\"_blank\" href=https://colab.research.google.com/notebooks/data_table.ipynb>data table notebook</a>'\n",
              "            + ' to learn more about interactive tables.';\n",
              "          element.innerHTML = '';\n",
              "          dataTable['output_type'] = 'display_data';\n",
              "          await google.colab.output.renderOutput(dataTable, element);\n",
              "          const docLink = document.createElement('div');\n",
              "          docLink.innerHTML = docLinkHtml;\n",
              "          element.appendChild(docLink);\n",
              "        }\n",
              "      </script>\n",
              "    </div>\n",
              "  </div>\n",
              "  "
            ],
            "text/plain": [
              "                      count unique   top freq\n",
              "crustose coralline      470     13   6.7   74\n",
              "articulated coralline   459     14  13.3   76\n",
              "encrusting red          263      9   3.3  113\n",
              "red seaweed             511     17  20.0   62\n",
              "brown seaweed           300      9   3.3  105\n",
              "none                    481     18  20.0   92\n",
              "other brown seaweed     399     15   3.3   94\n",
              "sessile invertebrates   273      9   3.3   93\n",
              "mobile invertebrates    107      4   3.3   85\n",
              "green seaweed            20      4   6.7   14\n",
              "seagrasses               20      3  16.7    9"
            ]
          },
          "execution_count": 16,
          "metadata": {},
          "output_type": "execute_result"
        }
      ],
      "source": [
        "_new_cov.describe().T"
      ]
    },
    {
      "cell_type": "markdown",
      "metadata": {
        "id": "UrUEGRHZt4bL"
      },
      "source": [
        "Something interesting we can find from this data is that `red seaweed` was present in the most number of records, closely followed by `crustose coralline` and `articulated coralline`."
      ]
    },
    {
      "cell_type": "markdown",
      "metadata": {
        "id": "_jPyZ02j6A5r"
      },
      "source": [
        "> Now let us clean our data to draw a pie chart of average composition for a cover record"
      ]
    },
    {
      "cell_type": "code",
      "execution_count": 17,
      "metadata": {
        "id": "AlE-uWF741ej"
      },
      "outputs": [],
      "source": [
        "# we will fit in the mean values of parameters in the last row of the dataframe\n",
        "_new_cov.loc[578] = _new_cov.astype(float).mean()"
      ]
    },
    {
      "cell_type": "code",
      "execution_count": 18,
      "metadata": {
        "id": "AgRpxp_i6cwU"
      },
      "outputs": [],
      "source": [
        "# we will now scale every column's mean to fit in between 100 to draw a pie chart\n",
        "sum = _new_cov.loc[578].sum()\n",
        "for i in _new_cov.columns:\n",
        "  _new_cov.loc[578,i]=_new_cov.loc[578,i]/sum*100"
      ]
    },
    {
      "cell_type": "code",
      "execution_count": 19,
      "metadata": {
        "colab": {
          "base_uri": "https://localhost:8080/"
        },
        "id": "AZbK5eZo781-",
        "outputId": "f04a9ed7-4719-463f-8a3f-7018f494a17b"
      },
      "outputs": [
        {
          "data": {
            "text/plain": [
              "crustose coralline       10.935423\n",
              "articulated coralline    12.562532\n",
              "encrusting red            5.350333\n",
              "red seaweed              15.636449\n",
              "brown seaweed             6.306536\n",
              "none                     15.167182\n",
              "other brown seaweed       9.726466\n",
              "sessile invertebrates     6.272252\n",
              "mobile invertebrates      2.860341\n",
              "green seaweed             5.365013\n",
              "seagrasses                9.817472\n",
              "Name: 578, dtype: object"
            ]
          },
          "execution_count": 19,
          "metadata": {},
          "output_type": "execute_result"
        }
      ],
      "source": [
        "_new_cov.loc[578] # the mean value of each column"
      ]
    },
    {
      "cell_type": "markdown",
      "metadata": {
        "id": "XooPje9w8Hkd"
      },
      "source": [
        "This looks good now. Let us draw a pie chart then."
      ]
    },
    {
      "cell_type": "code",
      "execution_count": 20,
      "metadata": {
        "colab": {
          "base_uri": "https://localhost:8080/",
          "height": 482
        },
        "id": "ZEHHVnpm8O1-",
        "outputId": "574e6fad-9ae3-4241-9406-8a07ba2f1309"
      },
      "outputs": [
        {
          "data": {
            "image/png": "[encoded data removed]",
            "text/plain": [
              "<Figure size 864x576 with 1 Axes>"
            ]
          },
          "metadata": {},
          "output_type": "display_data"
        }
      ],
      "source": [
        "_new_cov.loc[578].plot.pie(title=\"Mean Composition of cover records\", autopct=\"%2.2f%%\", explode=[0.03]*len(_new_cov.columns));"
      ]
    },
    {
      "cell_type": "markdown",
      "metadata": {
        "id": "Y1AJxf8g9pQh"
      },
      "source": [
        "We can see that most of the records had `red seaweed` as the `cover` with 15.32%, closely followed by `none` or no cover with 14.81%."
      ]
    },
    {
      "cell_type": "markdown",
      "metadata": {
        "id": "V7T6ThG8hcF0"
      },
      "source": [
        "Now let us once again look at the unique parameter values we have."
      ]
    },
    {
      "cell_type": "code",
      "execution_count": 21,
      "metadata": {
        "colab": {
          "base_uri": "https://localhost:8080/"
        },
        "id": "chvGuamD9orD",
        "outputId": "4005d31d-301d-4fda-9dd7-2026ea4c0f72"
      },
      "outputs": [
        {
          "data": {
            "text/plain": [
              "array(['Individual Density',\n",
              "       'Proportion coverage mean of biological entity specified elsewhere',\n",
              "       'Proportion coverage standard deviation of biological entity specified elsewhere',\n",
              "       'Proportion coverage standard error of biological entity specified elsewhere',\n",
              "       'cover', 'relief', 'substrate', 'visibility'], dtype=object)"
            ]
          },
          "execution_count": 21,
          "metadata": {},
          "output_type": "execute_result"
        }
      ],
      "source": [
        "data[\"measurementType\"].unique()"
      ]
    },
    {
      "cell_type": "markdown",
      "metadata": {
        "id": "TuPa_d45qN2x"
      },
      "source": [
        "### 3.  `relief` records composition analysis\n",
        "\n",
        "Now let us analyse the composition of `relief` records."
      ]
    },
    {
      "cell_type": "code",
      "execution_count": 22,
      "metadata": {
        "colab": {
          "base_uri": "https://localhost:8080/"
        },
        "id": "epxn1RGqhndW",
        "outputId": "ca600d8f-1e01-460c-8666-e08e23ff481c"
      },
      "outputs": [
        {
          "data": {
            "text/plain": [
              "40                       100.0% > 10cm - 1m\n",
              "418      90.0% > 10cm - 1m | 10.0% 0 - 10cm\n",
              "443       96.7% > 10cm - 1m | 3.3% 0 - 10cm\n",
              "455                      100.0% > 10cm - 1m\n",
              "527      96.7% > 10cm - 1m | 3.3% > 1m - 2m\n",
              "                        ...                \n",
              "33322                    100.0% > 10cm - 1m\n",
              "33330                    100.0% > 10cm - 1m\n",
              "33338                    100.0% > 10cm - 1m\n",
              "33369                    100.0% > 10cm - 1m\n",
              "33407                    100.0% > 10cm - 1m\n",
              "Name: measurementValue, Length: 534, dtype: object"
            ]
          },
          "execution_count": 22,
          "metadata": {},
          "output_type": "execute_result"
        }
      ],
      "source": [
        "data[data[\"measurementType\"]==\"relief\"][\"measurementValue\"]"
      ]
    },
    {
      "cell_type": "markdown",
      "metadata": {
        "id": "T7q83n5Tiypt"
      },
      "source": [
        "We can see that the `relief` values have a percentage value for a particular length range.\n",
        "\n",
        "Now we will analyse `relief` as we did for `cover` but in a different manner."
      ]
    },
    {
      "cell_type": "code",
      "execution_count": 23,
      "metadata": {
        "colab": {
          "base_uri": "https://localhost:8080/"
        },
        "id": "CTOYUnyIjTSM",
        "outputId": "d27bb439-88eb-42ef-cc69-2c2c80b835cd"
      },
      "outputs": [
        {
          "name": "stderr",
          "output_type": "stream",
          "text": [
            "/usr/local/lib/python3.7/dist-packages/pandas/util/_decorators.py:311: SettingWithCopyWarning: \n",
            "A value is trying to be set on a copy of a slice from a DataFrame\n",
            "\n",
            "See the caveats in the documentation: https://pandas.pydata.org/pandas-docs/stable/user_guide/indexing.html#returning-a-view-versus-a-copy\n",
            "  return func(*args, **kwargs)\n"
          ]
        }
      ],
      "source": [
        "_rel_data = data[data[\"measurementType\"]==\"relief\"]\n",
        "_rel_data.sort_values(by=\"eventDate\", inplace=True)"
      ]
    },
    {
      "cell_type": "code",
      "execution_count": 24,
      "metadata": {
        "id": "6rCCP4E5ja48"
      },
      "outputs": [],
      "source": [
        "# let us first create an empty dataframe, we will dress up our organised data there\n",
        "_rel_df = pd.DataFrame()\n",
        "\n",
        "# since each relief record is a string with data values seperated by \"|\" we will organise data into our newly created dataframe\n",
        "for i in _rel_data[\"measurementValue\"]:\n",
        "  _rel_df=_rel_df.append({x.strip().split(\"%\")[1].strip():x.strip().split(\"%\")[0] for x in i.split('|')}, ignore_index=True)"
      ]
    },
    {
      "cell_type": "code",
      "execution_count": 25,
      "metadata": {
        "colab": {
          "base_uri": "https://localhost:8080/",
          "height": 423
        },
        "id": "Zy7IZI3pmFg1",
        "outputId": "60c23f5c-9f4d-4e6e-8506-2a5d7fe50e66"
      },
      "outputs": [
        {
          "data": {
            "text/html": [
              "\n",
              "  <div id=\"df-da7f5f59-6108-4b16-8529-3d6dcacc9b88\">\n",
              "    <div class=\"colab-df-container\">\n",
              "      <div>\n",
              "<style scoped>\n",
              "    .dataframe tbody tr th:only-of-type {\n",
              "        vertical-align: middle;\n",
              "    }\n",
              "\n",
              "    .dataframe tbody tr th {\n",
              "        vertical-align: top;\n",
              "    }\n",
              "\n",
              "    .dataframe thead th {\n",
              "        text-align: right;\n",
              "    }\n",
              "</style>\n",
              "<table border=\"1\" class=\"dataframe\">\n",
              "  <thead>\n",
              "    <tr style=\"text-align: right;\">\n",
              "      <th></th>\n",
              "      <th>&gt; 10cm - 1m</th>\n",
              "      <th>0 - 10cm</th>\n",
              "      <th>&gt; 1m - 2m</th>\n",
              "      <th>&gt; 10c - 1</th>\n",
              "      <th>&gt; 2m</th>\n",
              "    </tr>\n",
              "  </thead>\n",
              "  <tbody>\n",
              "    <tr>\n",
              "      <th>0</th>\n",
              "      <td>83.3</td>\n",
              "      <td>16.7</td>\n",
              "      <td>NaN</td>\n",
              "      <td>NaN</td>\n",
              "      <td>NaN</td>\n",
              "    </tr>\n",
              "    <tr>\n",
              "      <th>1</th>\n",
              "      <td>76.7</td>\n",
              "      <td>23.3</td>\n",
              "      <td>NaN</td>\n",
              "      <td>NaN</td>\n",
              "      <td>NaN</td>\n",
              "    </tr>\n",
              "    <tr>\n",
              "      <th>2</th>\n",
              "      <td>76.7</td>\n",
              "      <td>23.3</td>\n",
              "      <td>NaN</td>\n",
              "      <td>NaN</td>\n",
              "      <td>NaN</td>\n",
              "    </tr>\n",
              "    <tr>\n",
              "      <th>3</th>\n",
              "      <td>100.0</td>\n",
              "      <td>NaN</td>\n",
              "      <td>NaN</td>\n",
              "      <td>NaN</td>\n",
              "      <td>NaN</td>\n",
              "    </tr>\n",
              "    <tr>\n",
              "      <th>4</th>\n",
              "      <td>86.7</td>\n",
              "      <td>NaN</td>\n",
              "      <td>13.3</td>\n",
              "      <td>NaN</td>\n",
              "      <td>NaN</td>\n",
              "    </tr>\n",
              "    <tr>\n",
              "      <th>...</th>\n",
              "      <td>...</td>\n",
              "      <td>...</td>\n",
              "      <td>...</td>\n",
              "      <td>...</td>\n",
              "      <td>...</td>\n",
              "    </tr>\n",
              "    <tr>\n",
              "      <th>529</th>\n",
              "      <td>96.7</td>\n",
              "      <td>NaN</td>\n",
              "      <td>3.3</td>\n",
              "      <td>NaN</td>\n",
              "      <td>NaN</td>\n",
              "    </tr>\n",
              "    <tr>\n",
              "      <th>530</th>\n",
              "      <td>96.7</td>\n",
              "      <td>NaN</td>\n",
              "      <td>3.3</td>\n",
              "      <td>NaN</td>\n",
              "      <td>NaN</td>\n",
              "    </tr>\n",
              "    <tr>\n",
              "      <th>531</th>\n",
              "      <td>96.7</td>\n",
              "      <td>NaN</td>\n",
              "      <td>3.3</td>\n",
              "      <td>NaN</td>\n",
              "      <td>NaN</td>\n",
              "    </tr>\n",
              "    <tr>\n",
              "      <th>532</th>\n",
              "      <td>96.7</td>\n",
              "      <td>NaN</td>\n",
              "      <td>3.3</td>\n",
              "      <td>NaN</td>\n",
              "      <td>NaN</td>\n",
              "    </tr>\n",
              "    <tr>\n",
              "      <th>533</th>\n",
              "      <td>96.7</td>\n",
              "      <td>NaN</td>\n",
              "      <td>3.3</td>\n",
              "      <td>NaN</td>\n",
              "      <td>NaN</td>\n",
              "    </tr>\n",
              "  </tbody>\n",
              "</table>\n",
              "<p>534 rows × 5 columns</p>\n",
              "</div>\n",
              "      <button class=\"colab-df-convert\" onclick=\"convertToInteractive('df-da7f5f59-6108-4b16-8529-3d6dcacc9b88')\"\n",
              "              title=\"Convert this dataframe to an interactive table.\"\n",
              "              style=\"display:none;\">\n",
              "        \n",
              "  <svg xmlns=\"http://www.w3.org/2000/svg\" height=\"24px\"viewBox=\"0 0 24 24\"\n",
              "       width=\"24px\">\n",
              "    <path d=\"M0 0h24v24H0V0z\" fill=\"none\"/>\n",
              "    <path d=\"M18.56 5.44l.94 2.06.94-2.06 2.06-.94-2.06-.94-.94-2.06-.94 2.06-2.06.94zm-11 1L8.5 8.5l.94-2.06 2.06-.94-2.06-.94L8.5 2.5l-.94 2.06-2.06.94zm10 10l.94 2.06.94-2.06 2.06-.94-2.06-.94-.94-2.06-.94 2.06-2.06.94z\"/><path d=\"M17.41 7.96l-1.37-1.37c-.4-.4-.92-.59-1.43-.59-.52 0-1.04.2-1.43.59L10.3 9.45l-7.72 7.72c-.78.78-.78 2.05 0 2.83L4 21.41c.39.39.9.59 1.41.59.51 0 1.02-.2 1.41-.59l7.78-7.78 2.81-2.81c.8-.78.8-2.07 0-2.86zM5.41 20L4 18.59l7.72-7.72 1.47 1.35L5.41 20z\"/>\n",
              "  </svg>\n",
              "      </button>\n",
              "      \n",
              "  <style>\n",
              "    .colab-df-container {\n",
              "      display:flex;\n",
              "      flex-wrap:wrap;\n",
              "      gap: 12px;\n",
              "    }\n",
              "\n",
              "    .colab-df-convert {\n",
              "      background-color: #E8F0FE;\n",
              "      border: none;\n",
              "      border-radius: 50%;\n",
              "      cursor: pointer;\n",
              "      display: none;\n",
              "      fill: #1967D2;\n",
              "      height: 32px;\n",
              "      padding: 0 0 0 0;\n",
              "      width: 32px;\n",
              "    }\n",
              "\n",
              "    .colab-df-convert:hover {\n",
              "      background-color: #E2EBFA;\n",
              "      box-shadow: 0px 1px 2px rgba(60, 64, 67, 0.3), 0px 1px 3px 1px rgba(60, 64, 67, 0.15);\n",
              "      fill: #174EA6;\n",
              "    }\n",
              "\n",
              "    [theme=dark] .colab-df-convert {\n",
              "      background-color: #3B4455;\n",
              "      fill: #D2E3FC;\n",
              "    }\n",
              "\n",
              "    [theme=dark] .colab-df-convert:hover {\n",
              "      background-color: #434B5C;\n",
              "      box-shadow: 0px 1px 3px 1px rgba(0, 0, 0, 0.15);\n",
              "      filter: drop-shadow(0px 1px 2px rgba(0, 0, 0, 0.3));\n",
              "      fill: #FFFFFF;\n",
              "    }\n",
              "  </style>\n",
              "\n",
              "      <script>\n",
              "        const buttonEl =\n",
              "          document.querySelector('#df-da7f5f59-6108-4b16-8529-3d6dcacc9b88 button.colab-df-convert');\n",
              "        buttonEl.style.display =\n",
              "          google.colab.kernel.accessAllowed ? 'block' : 'none';\n",
              "\n",
              "        async function convertToInteractive(key) {\n",
              "          const element = document.querySelector('#df-da7f5f59-6108-4b16-8529-3d6dcacc9b88');\n",
              "          const dataTable =\n",
              "            await google.colab.kernel.invokeFunction('convertToInteractive',\n",
              "                                                     [key], {});\n",
              "          if (!dataTable) return;\n",
              "\n",
              "          const docLinkHtml = 'Like what you see? Visit the ' +\n",
              "            '<a target=\"_blank\" href=https://colab.research.google.com/notebooks/data_table.ipynb>data table notebook</a>'\n",
              "            + ' to learn more about interactive tables.';\n",
              "          element.innerHTML = '';\n",
              "          dataTable['output_type'] = 'display_data';\n",
              "          await google.colab.output.renderOutput(dataTable, element);\n",
              "          const docLink = document.createElement('div');\n",
              "          docLink.innerHTML = docLinkHtml;\n",
              "          element.appendChild(docLink);\n",
              "        }\n",
              "      </script>\n",
              "    </div>\n",
              "  </div>\n",
              "  "
            ],
            "text/plain": [
              "    > 10cm - 1m 0 - 10cm > 1m - 2m > 10c - 1 > 2m\n",
              "0          83.3     16.7       NaN       NaN  NaN\n",
              "1          76.7     23.3       NaN       NaN  NaN\n",
              "2          76.7     23.3       NaN       NaN  NaN\n",
              "3         100.0      NaN       NaN       NaN  NaN\n",
              "4          86.7      NaN      13.3       NaN  NaN\n",
              "..          ...      ...       ...       ...  ...\n",
              "529        96.7      NaN       3.3       NaN  NaN\n",
              "530        96.7      NaN       3.3       NaN  NaN\n",
              "531        96.7      NaN       3.3       NaN  NaN\n",
              "532        96.7      NaN       3.3       NaN  NaN\n",
              "533        96.7      NaN       3.3       NaN  NaN\n",
              "\n",
              "[534 rows x 5 columns]"
            ]
          },
          "execution_count": 25,
          "metadata": {},
          "output_type": "execute_result"
        }
      ],
      "source": [
        "# let us look at the organised data\n",
        "_rel_df"
      ]
    },
    {
      "cell_type": "markdown",
      "metadata": {
        "id": "l_YQSboUnqO2"
      },
      "source": [
        "We have got some NaNs in the data, but NaNs here mean that the particular `relief` was not applicable for this record. Therefore, NaNs value are present when the particular `relief` was absent => 0.0%. We will need to replace NaNs with 0.0%."
      ]
    },
    {
      "cell_type": "code",
      "execution_count": 26,
      "metadata": {
        "id": "24XBib70nuxu"
      },
      "outputs": [],
      "source": [
        "_rel_df.fillna(0.0, inplace=True)"
      ]
    },
    {
      "cell_type": "code",
      "execution_count": 27,
      "metadata": {
        "colab": {
          "base_uri": "https://localhost:8080/",
          "height": 423
        },
        "id": "X46ZEmmrnzgU",
        "outputId": "803e4beb-2bc2-4697-c805-fcef1640698e"
      },
      "outputs": [
        {
          "data": {
            "text/html": [
              "\n",
              "  <div id=\"df-4078196c-582f-4970-97ac-6761ec5c80e3\">\n",
              "    <div class=\"colab-df-container\">\n",
              "      <div>\n",
              "<style scoped>\n",
              "    .dataframe tbody tr th:only-of-type {\n",
              "        vertical-align: middle;\n",
              "    }\n",
              "\n",
              "    .dataframe tbody tr th {\n",
              "        vertical-align: top;\n",
              "    }\n",
              "\n",
              "    .dataframe thead th {\n",
              "        text-align: right;\n",
              "    }\n",
              "</style>\n",
              "<table border=\"1\" class=\"dataframe\">\n",
              "  <thead>\n",
              "    <tr style=\"text-align: right;\">\n",
              "      <th></th>\n",
              "      <th>&gt; 10cm - 1m</th>\n",
              "      <th>0 - 10cm</th>\n",
              "      <th>&gt; 1m - 2m</th>\n",
              "      <th>&gt; 10c - 1</th>\n",
              "      <th>&gt; 2m</th>\n",
              "    </tr>\n",
              "  </thead>\n",
              "  <tbody>\n",
              "    <tr>\n",
              "      <th>0</th>\n",
              "      <td>83.3</td>\n",
              "      <td>16.7</td>\n",
              "      <td>0.0</td>\n",
              "      <td>0.0</td>\n",
              "      <td>0.0</td>\n",
              "    </tr>\n",
              "    <tr>\n",
              "      <th>1</th>\n",
              "      <td>76.7</td>\n",
              "      <td>23.3</td>\n",
              "      <td>0.0</td>\n",
              "      <td>0.0</td>\n",
              "      <td>0.0</td>\n",
              "    </tr>\n",
              "    <tr>\n",
              "      <th>2</th>\n",
              "      <td>76.7</td>\n",
              "      <td>23.3</td>\n",
              "      <td>0.0</td>\n",
              "      <td>0.0</td>\n",
              "      <td>0.0</td>\n",
              "    </tr>\n",
              "    <tr>\n",
              "      <th>3</th>\n",
              "      <td>100.0</td>\n",
              "      <td>0.0</td>\n",
              "      <td>0.0</td>\n",
              "      <td>0.0</td>\n",
              "      <td>0.0</td>\n",
              "    </tr>\n",
              "    <tr>\n",
              "      <th>4</th>\n",
              "      <td>86.7</td>\n",
              "      <td>0.0</td>\n",
              "      <td>13.3</td>\n",
              "      <td>0.0</td>\n",
              "      <td>0.0</td>\n",
              "    </tr>\n",
              "    <tr>\n",
              "      <th>...</th>\n",
              "      <td>...</td>\n",
              "      <td>...</td>\n",
              "      <td>...</td>\n",
              "      <td>...</td>\n",
              "      <td>...</td>\n",
              "    </tr>\n",
              "    <tr>\n",
              "      <th>529</th>\n",
              "      <td>96.7</td>\n",
              "      <td>0.0</td>\n",
              "      <td>3.3</td>\n",
              "      <td>0.0</td>\n",
              "      <td>0.0</td>\n",
              "    </tr>\n",
              "    <tr>\n",
              "      <th>530</th>\n",
              "      <td>96.7</td>\n",
              "      <td>0.0</td>\n",
              "      <td>3.3</td>\n",
              "      <td>0.0</td>\n",
              "      <td>0.0</td>\n",
              "    </tr>\n",
              "    <tr>\n",
              "      <th>531</th>\n",
              "      <td>96.7</td>\n",
              "      <td>0.0</td>\n",
              "      <td>3.3</td>\n",
              "      <td>0.0</td>\n",
              "      <td>0.0</td>\n",
              "    </tr>\n",
              "    <tr>\n",
              "      <th>532</th>\n",
              "      <td>96.7</td>\n",
              "      <td>0.0</td>\n",
              "      <td>3.3</td>\n",
              "      <td>0.0</td>\n",
              "      <td>0.0</td>\n",
              "    </tr>\n",
              "    <tr>\n",
              "      <th>533</th>\n",
              "      <td>96.7</td>\n",
              "      <td>0.0</td>\n",
              "      <td>3.3</td>\n",
              "      <td>0.0</td>\n",
              "      <td>0.0</td>\n",
              "    </tr>\n",
              "  </tbody>\n",
              "</table>\n",
              "<p>534 rows × 5 columns</p>\n",
              "</div>\n",
              "      <button class=\"colab-df-convert\" onclick=\"convertToInteractive('df-4078196c-582f-4970-97ac-6761ec5c80e3')\"\n",
              "              title=\"Convert this dataframe to an interactive table.\"\n",
              "              style=\"display:none;\">\n",
              "        \n",
              "  <svg xmlns=\"http://www.w3.org/2000/svg\" height=\"24px\"viewBox=\"0 0 24 24\"\n",
              "       width=\"24px\">\n",
              "    <path d=\"M0 0h24v24H0V0z\" fill=\"none\"/>\n",
              "    <path d=\"M18.56 5.44l.94 2.06.94-2.06 2.06-.94-2.06-.94-.94-2.06-.94 2.06-2.06.94zm-11 1L8.5 8.5l.94-2.06 2.06-.94-2.06-.94L8.5 2.5l-.94 2.06-2.06.94zm10 10l.94 2.06.94-2.06 2.06-.94-2.06-.94-.94-2.06-.94 2.06-2.06.94z\"/><path d=\"M17.41 7.96l-1.37-1.37c-.4-.4-.92-.59-1.43-.59-.52 0-1.04.2-1.43.59L10.3 9.45l-7.72 7.72c-.78.78-.78 2.05 0 2.83L4 21.41c.39.39.9.59 1.41.59.51 0 1.02-.2 1.41-.59l7.78-7.78 2.81-2.81c.8-.78.8-2.07 0-2.86zM5.41 20L4 18.59l7.72-7.72 1.47 1.35L5.41 20z\"/>\n",
              "  </svg>\n",
              "      </button>\n",
              "      \n",
              "  <style>\n",
              "    .colab-df-container {\n",
              "      display:flex;\n",
              "      flex-wrap:wrap;\n",
              "      gap: 12px;\n",
              "    }\n",
              "\n",
              "    .colab-df-convert {\n",
              "      background-color: #E8F0FE;\n",
              "      border: none;\n",
              "      border-radius: 50%;\n",
              "      cursor: pointer;\n",
              "      display: none;\n",
              "      fill: #1967D2;\n",
              "      height: 32px;\n",
              "      padding: 0 0 0 0;\n",
              "      width: 32px;\n",
              "    }\n",
              "\n",
              "    .colab-df-convert:hover {\n",
              "      background-color: #E2EBFA;\n",
              "      box-shadow: 0px 1px 2px rgba(60, 64, 67, 0.3), 0px 1px 3px 1px rgba(60, 64, 67, 0.15);\n",
              "      fill: #174EA6;\n",
              "    }\n",
              "\n",
              "    [theme=dark] .colab-df-convert {\n",
              "      background-color: #3B4455;\n",
              "      fill: #D2E3FC;\n",
              "    }\n",
              "\n",
              "    [theme=dark] .colab-df-convert:hover {\n",
              "      background-color: #434B5C;\n",
              "      box-shadow: 0px 1px 3px 1px rgba(0, 0, 0, 0.15);\n",
              "      filter: drop-shadow(0px 1px 2px rgba(0, 0, 0, 0.3));\n",
              "      fill: #FFFFFF;\n",
              "    }\n",
              "  </style>\n",
              "\n",
              "      <script>\n",
              "        const buttonEl =\n",
              "          document.querySelector('#df-4078196c-582f-4970-97ac-6761ec5c80e3 button.colab-df-convert');\n",
              "        buttonEl.style.display =\n",
              "          google.colab.kernel.accessAllowed ? 'block' : 'none';\n",
              "\n",
              "        async function convertToInteractive(key) {\n",
              "          const element = document.querySelector('#df-4078196c-582f-4970-97ac-6761ec5c80e3');\n",
              "          const dataTable =\n",
              "            await google.colab.kernel.invokeFunction('convertToInteractive',\n",
              "                                                     [key], {});\n",
              "          if (!dataTable) return;\n",
              "\n",
              "          const docLinkHtml = 'Like what you see? Visit the ' +\n",
              "            '<a target=\"_blank\" href=https://colab.research.google.com/notebooks/data_table.ipynb>data table notebook</a>'\n",
              "            + ' to learn more about interactive tables.';\n",
              "          element.innerHTML = '';\n",
              "          dataTable['output_type'] = 'display_data';\n",
              "          await google.colab.output.renderOutput(dataTable, element);\n",
              "          const docLink = document.createElement('div');\n",
              "          docLink.innerHTML = docLinkHtml;\n",
              "          element.appendChild(docLink);\n",
              "        }\n",
              "      </script>\n",
              "    </div>\n",
              "  </div>\n",
              "  "
            ],
            "text/plain": [
              "    > 10cm - 1m 0 - 10cm > 1m - 2m > 10c - 1 > 2m\n",
              "0          83.3     16.7       0.0       0.0  0.0\n",
              "1          76.7     23.3       0.0       0.0  0.0\n",
              "2          76.7     23.3       0.0       0.0  0.0\n",
              "3         100.0      0.0       0.0       0.0  0.0\n",
              "4          86.7      0.0      13.3       0.0  0.0\n",
              "..          ...      ...       ...       ...  ...\n",
              "529        96.7      0.0       3.3       0.0  0.0\n",
              "530        96.7      0.0       3.3       0.0  0.0\n",
              "531        96.7      0.0       3.3       0.0  0.0\n",
              "532        96.7      0.0       3.3       0.0  0.0\n",
              "533        96.7      0.0       3.3       0.0  0.0\n",
              "\n",
              "[534 rows x 5 columns]"
            ]
          },
          "execution_count": 27,
          "metadata": {},
          "output_type": "execute_result"
        }
      ],
      "source": [
        "_rel_df"
      ]
    },
    {
      "cell_type": "markdown",
      "metadata": {
        "id": "eImBaSLhog7Z"
      },
      "source": [
        "Looks good! Now let us plot an `areaplot` from this data."
      ]
    },
    {
      "cell_type": "code",
      "execution_count": 28,
      "metadata": {
        "colab": {
          "base_uri": "https://localhost:8080/",
          "height": 561
        },
        "id": "-1Uix8bCozVE",
        "outputId": "15882a16-2cd0-4c36-da48-96ee2bc3a764"
      },
      "outputs": [
        {
          "data": {
            "image/png": "[encoded data removed]",
            "text/plain": [
              "<Figure size 864x576 with 1 Axes>"
            ]
          },
          "metadata": {},
          "output_type": "display_data"
        }
      ],
      "source": [
        "_rel_df = _rel_df.astype(float)\n",
        "ax = _rel_df.plot.area()\n",
        "plt.xlabel(\"years\")\n",
        "plt.ylabel(\"percentage\")\n",
        "plt.xticks(np.arange(0,len(_rel_data[\"eventDate\"]), len(_rel_data[\"eventDate\"])/len(_rel_data[\"eventDate\"].unique())),_rel_data[\"eventDate\"].unique(), rotation=45)\n",
        "plt.title(\"composition of relief records\");"
      ]
    },
    {
      "cell_type": "markdown",
      "metadata": {
        "id": "wGRSng5IpekK"
      },
      "source": [
        "From this plot, we can conclude that:\n",
        "+ almost all observations have `> 10cm - 1m` length in the most proportion.\n",
        "+ initially around July-early Aug 2018 records of length `> 1m - 2m` and `0 - 10cm` did exist but have since either declined or appeared not often.\n",
        "+ we see an unexpected peak for `> 1m - 2m` around early december 2019, which might be record-specific spike."
      ]
    },
    {
      "cell_type": "markdown",
      "metadata": {
        "id": "TJjoMCEFtc0d"
      },
      "source": [
        "### 4. `substrate` composition in records\n",
        "\n",
        "Substrate is the material that rests at the bottom of a stream. Stream substrate can affect the life found within the stream habitat. We will first visualize the `substrate` records as we did for `relief` and then bring out a very interesting plot."
      ]
    },
    {
      "cell_type": "code",
      "execution_count": 29,
      "metadata": {
        "colab": {
          "base_uri": "https://localhost:8080/"
        },
        "id": "pPauTFVvtTVI",
        "outputId": "a842fb19-9ad2-4ad2-887f-580e0c45c7eb"
      },
      "outputs": [
        {
          "data": {
            "text/plain": [
              "41                            76.7% bedrock | 23.3% cobble\n",
              "419                             23.3% sand | 76.7% bedrock\n",
              "444      13.3% boulder | 3.3% cobble | 33.3% sand | 50....\n",
              "456                           16.7% cobble | 83.3% bedrock\n",
              "528      20.0% cobble | 63.3% bedrock | 13.3% boulder |...\n",
              "                               ...                        \n",
              "33323            76.7% bedrock | 13.3% cobble | 10.0% sand\n",
              "33331                         20.0% cobble | 80.0% bedrock\n",
              "33339          10.0% boulder | 6.7% cobble | 83.3% bedrock\n",
              "33370            6.7% boulder | 40.0% sand | 53.3% bedrock\n",
              "33408    3.3% boulder | 10.0% cobble | 16.7% sand | 70....\n",
              "Name: measurementValue, Length: 534, dtype: object"
            ]
          },
          "execution_count": 29,
          "metadata": {},
          "output_type": "execute_result"
        }
      ],
      "source": [
        "data[data[\"measurementType\"]==\"substrate\"][\"measurementValue\"]"
      ]
    },
    {
      "cell_type": "code",
      "execution_count": 30,
      "metadata": {
        "id": "Jm4CtEVguQrd"
      },
      "outputs": [],
      "source": [
        "_sub_data = data[data[\"measurementType\"]==\"substrate\"]\n",
        "_sub_data = _sub_data.sort_values(by=\"eventDate\")"
      ]
    },
    {
      "cell_type": "code",
      "execution_count": 31,
      "metadata": {
        "id": "v7D_QPE7uNz9"
      },
      "outputs": [],
      "source": [
        "# let us first create an empty dataframe, we will dress up our organised data there\n",
        "_sub_df = pd.DataFrame()\n",
        "\n",
        "# since each substrate record is a string with data values seperated by \"|\" we will organise data into our newly created dataframe\n",
        "for i in _sub_data[\"measurementValue\"]:\n",
        "  _sub_df=_sub_df.append({x.strip().split(\"%\")[1].strip():x.strip().split(\"%\")[0] for x in i.split('|')}, ignore_index=True)"
      ]
    },
    {
      "cell_type": "code",
      "execution_count": 32,
      "metadata": {
        "colab": {
          "base_uri": "https://localhost:8080/",
          "height": 423
        },
        "id": "flbZjoSDun5p",
        "outputId": "98acfd0c-7cb7-4fe3-d06a-538967ad1532"
      },
      "outputs": [
        {
          "data": {
            "text/html": [
              "\n",
              "  <div id=\"df-ea620dae-7109-40df-bd3b-573605c1b299\">\n",
              "    <div class=\"colab-df-container\">\n",
              "      <div>\n",
              "<style scoped>\n",
              "    .dataframe tbody tr th:only-of-type {\n",
              "        vertical-align: middle;\n",
              "    }\n",
              "\n",
              "    .dataframe tbody tr th {\n",
              "        vertical-align: top;\n",
              "    }\n",
              "\n",
              "    .dataframe thead th {\n",
              "        text-align: right;\n",
              "    }\n",
              "</style>\n",
              "<table border=\"1\" class=\"dataframe\">\n",
              "  <thead>\n",
              "    <tr style=\"text-align: right;\">\n",
              "      <th></th>\n",
              "      <th>cobble</th>\n",
              "      <th>bedrock</th>\n",
              "      <th>sand</th>\n",
              "      <th>boulder</th>\n",
              "      <th>other</th>\n",
              "    </tr>\n",
              "  </thead>\n",
              "  <tbody>\n",
              "    <tr>\n",
              "      <th>0</th>\n",
              "      <td>10.0</td>\n",
              "      <td>90.0</td>\n",
              "      <td>NaN</td>\n",
              "      <td>NaN</td>\n",
              "      <td>NaN</td>\n",
              "    </tr>\n",
              "    <tr>\n",
              "      <th>1</th>\n",
              "      <td>NaN</td>\n",
              "      <td>70.0</td>\n",
              "      <td>30.0</td>\n",
              "      <td>NaN</td>\n",
              "      <td>NaN</td>\n",
              "    </tr>\n",
              "    <tr>\n",
              "      <th>2</th>\n",
              "      <td>NaN</td>\n",
              "      <td>70.0</td>\n",
              "      <td>30.0</td>\n",
              "      <td>NaN</td>\n",
              "      <td>NaN</td>\n",
              "    </tr>\n",
              "    <tr>\n",
              "      <th>3</th>\n",
              "      <td>NaN</td>\n",
              "      <td>70.0</td>\n",
              "      <td>10.0</td>\n",
              "      <td>20.0</td>\n",
              "      <td>NaN</td>\n",
              "    </tr>\n",
              "    <tr>\n",
              "      <th>4</th>\n",
              "      <td>13.3</td>\n",
              "      <td>76.7</td>\n",
              "      <td>3.3</td>\n",
              "      <td>6.7</td>\n",
              "      <td>NaN</td>\n",
              "    </tr>\n",
              "    <tr>\n",
              "      <th>...</th>\n",
              "      <td>...</td>\n",
              "      <td>...</td>\n",
              "      <td>...</td>\n",
              "      <td>...</td>\n",
              "      <td>...</td>\n",
              "    </tr>\n",
              "    <tr>\n",
              "      <th>529</th>\n",
              "      <td>36.7</td>\n",
              "      <td>36.7</td>\n",
              "      <td>NaN</td>\n",
              "      <td>26.7</td>\n",
              "      <td>NaN</td>\n",
              "    </tr>\n",
              "    <tr>\n",
              "      <th>530</th>\n",
              "      <td>36.7</td>\n",
              "      <td>36.7</td>\n",
              "      <td>NaN</td>\n",
              "      <td>26.7</td>\n",
              "      <td>NaN</td>\n",
              "    </tr>\n",
              "    <tr>\n",
              "      <th>531</th>\n",
              "      <td>36.7</td>\n",
              "      <td>36.7</td>\n",
              "      <td>NaN</td>\n",
              "      <td>26.7</td>\n",
              "      <td>NaN</td>\n",
              "    </tr>\n",
              "    <tr>\n",
              "      <th>532</th>\n",
              "      <td>36.7</td>\n",
              "      <td>36.7</td>\n",
              "      <td>NaN</td>\n",
              "      <td>26.7</td>\n",
              "      <td>NaN</td>\n",
              "    </tr>\n",
              "    <tr>\n",
              "      <th>533</th>\n",
              "      <td>36.7</td>\n",
              "      <td>36.7</td>\n",
              "      <td>NaN</td>\n",
              "      <td>26.7</td>\n",
              "      <td>NaN</td>\n",
              "    </tr>\n",
              "  </tbody>\n",
              "</table>\n",
              "<p>534 rows × 5 columns</p>\n",
              "</div>\n",
              "      <button class=\"colab-df-convert\" onclick=\"convertToInteractive('df-ea620dae-7109-40df-bd3b-573605c1b299')\"\n",
              "              title=\"Convert this dataframe to an interactive table.\"\n",
              "              style=\"display:none;\">\n",
              "        \n",
              "  <svg xmlns=\"http://www.w3.org/2000/svg\" height=\"24px\"viewBox=\"0 0 24 24\"\n",
              "       width=\"24px\">\n",
              "    <path d=\"M0 0h24v24H0V0z\" fill=\"none\"/>\n",
              "    <path d=\"M18.56 5.44l.94 2.06.94-2.06 2.06-.94-2.06-.94-.94-2.06-.94 2.06-2.06.94zm-11 1L8.5 8.5l.94-2.06 2.06-.94-2.06-.94L8.5 2.5l-.94 2.06-2.06.94zm10 10l.94 2.06.94-2.06 2.06-.94-2.06-.94-.94-2.06-.94 2.06-2.06.94z\"/><path d=\"M17.41 7.96l-1.37-1.37c-.4-.4-.92-.59-1.43-.59-.52 0-1.04.2-1.43.59L10.3 9.45l-7.72 7.72c-.78.78-.78 2.05 0 2.83L4 21.41c.39.39.9.59 1.41.59.51 0 1.02-.2 1.41-.59l7.78-7.78 2.81-2.81c.8-.78.8-2.07 0-2.86zM5.41 20L4 18.59l7.72-7.72 1.47 1.35L5.41 20z\"/>\n",
              "  </svg>\n",
              "      </button>\n",
              "      \n",
              "  <style>\n",
              "    .colab-df-container {\n",
              "      display:flex;\n",
              "      flex-wrap:wrap;\n",
              "      gap: 12px;\n",
              "    }\n",
              "\n",
              "    .colab-df-convert {\n",
              "      background-color: #E8F0FE;\n",
              "      border: none;\n",
              "      border-radius: 50%;\n",
              "      cursor: pointer;\n",
              "      display: none;\n",
              "      fill: #1967D2;\n",
              "      height: 32px;\n",
              "      padding: 0 0 0 0;\n",
              "      width: 32px;\n",
              "    }\n",
              "\n",
              "    .colab-df-convert:hover {\n",
              "      background-color: #E2EBFA;\n",
              "      box-shadow: 0px 1px 2px rgba(60, 64, 67, 0.3), 0px 1px 3px 1px rgba(60, 64, 67, 0.15);\n",
              "      fill: #174EA6;\n",
              "    }\n",
              "\n",
              "    [theme=dark] .colab-df-convert {\n",
              "      background-color: #3B4455;\n",
              "      fill: #D2E3FC;\n",
              "    }\n",
              "\n",
              "    [theme=dark] .colab-df-convert:hover {\n",
              "      background-color: #434B5C;\n",
              "      box-shadow: 0px 1px 3px 1px rgba(0, 0, 0, 0.15);\n",
              "      filter: drop-shadow(0px 1px 2px rgba(0, 0, 0, 0.3));\n",
              "      fill: #FFFFFF;\n",
              "    }\n",
              "  </style>\n",
              "\n",
              "      <script>\n",
              "        const buttonEl =\n",
              "          document.querySelector('#df-ea620dae-7109-40df-bd3b-573605c1b299 button.colab-df-convert');\n",
              "        buttonEl.style.display =\n",
              "          google.colab.kernel.accessAllowed ? 'block' : 'none';\n",
              "\n",
              "        async function convertToInteractive(key) {\n",
              "          const element = document.querySelector('#df-ea620dae-7109-40df-bd3b-573605c1b299');\n",
              "          const dataTable =\n",
              "            await google.colab.kernel.invokeFunction('convertToInteractive',\n",
              "                                                     [key], {});\n",
              "          if (!dataTable) return;\n",
              "\n",
              "          const docLinkHtml = 'Like what you see? Visit the ' +\n",
              "            '<a target=\"_blank\" href=https://colab.research.google.com/notebooks/data_table.ipynb>data table notebook</a>'\n",
              "            + ' to learn more about interactive tables.';\n",
              "          element.innerHTML = '';\n",
              "          dataTable['output_type'] = 'display_data';\n",
              "          await google.colab.output.renderOutput(dataTable, element);\n",
              "          const docLink = document.createElement('div');\n",
              "          docLink.innerHTML = docLinkHtml;\n",
              "          element.appendChild(docLink);\n",
              "        }\n",
              "      </script>\n",
              "    </div>\n",
              "  </div>\n",
              "  "
            ],
            "text/plain": [
              "    cobble bedrock  sand boulder other\n",
              "0     10.0    90.0   NaN     NaN   NaN\n",
              "1      NaN    70.0  30.0     NaN   NaN\n",
              "2      NaN    70.0  30.0     NaN   NaN\n",
              "3      NaN    70.0  10.0    20.0   NaN\n",
              "4     13.3    76.7   3.3     6.7   NaN\n",
              "..     ...     ...   ...     ...   ...\n",
              "529   36.7    36.7   NaN    26.7   NaN\n",
              "530   36.7    36.7   NaN    26.7   NaN\n",
              "531   36.7    36.7   NaN    26.7   NaN\n",
              "532   36.7    36.7   NaN    26.7   NaN\n",
              "533   36.7    36.7   NaN    26.7   NaN\n",
              "\n",
              "[534 rows x 5 columns]"
            ]
          },
          "execution_count": 32,
          "metadata": {},
          "output_type": "execute_result"
        }
      ],
      "source": [
        "_sub_df"
      ]
    },
    {
      "cell_type": "markdown",
      "metadata": {
        "id": "-ZbCTet1ukLN"
      },
      "source": [
        "Note that we have got so many NaNs. NaNs mean that the particular kind of substrate is missing so essentially it is 0.0%. So, we will replace all NaNs with 0.0."
      ]
    },
    {
      "cell_type": "code",
      "execution_count": 33,
      "metadata": {
        "id": "IvXiz65cu5LB"
      },
      "outputs": [],
      "source": [
        "_sub_df.fillna(0.0, inplace=True)"
      ]
    },
    {
      "cell_type": "markdown",
      "metadata": {
        "id": "J6rlrHUfvCR8"
      },
      "source": [
        "Now let us again draw an area plot."
      ]
    },
    {
      "cell_type": "code",
      "execution_count": 34,
      "metadata": {
        "colab": {
          "base_uri": "https://localhost:8080/",
          "height": 561
        },
        "id": "Rxsj8OTZvAI8",
        "outputId": "ae45ecfc-2786-40c5-a86c-ab0d08462574"
      },
      "outputs": [
        {
          "data": {
            "image/png": "[encoded data removed]",
            "text/plain": [
              "<Figure size 864x576 with 1 Axes>"
            ]
          },
          "metadata": {},
          "output_type": "display_data"
        }
      ],
      "source": [
        "_sub_df = _sub_df.astype(float)\n",
        "_sub_df.plot.area()\n",
        "plt.xlabel(\"years\")\n",
        "plt.ylabel(\"percentage\")\n",
        "plt.xticks(np.arange(0,len(_sub_data[\"eventDate\"]), len(_sub_data[\"eventDate\"])/len(_sub_data[\"eventDate\"].unique())),_sub_data[\"eventDate\"].unique(), rotation=45)\n",
        "plt.title(\"substrate composition (percentage)\");"
      ]
    },
    {
      "cell_type": "markdown",
      "metadata": {
        "id": "vK1Qu0t4vgu8"
      },
      "source": [
        "There is a significant amount of variance in this distribution.\n",
        "\n",
        "From this plot we can see that most of the substrate is composed of bedrock but\n",
        "+ the proportion of cobble over time has remained almost constant. Wherever there has been lesser proportion, it has been offset by the occasional spikes.\n",
        "+ proportion of bedrock, even though the highest, is not fixed and oscillates a lot.\n",
        "+ it will be difficult to say whether the mean percetage of boulder has decreased over time due to a high variance."
      ]
    },
    {
      "cell_type": "markdown",
      "metadata": {
        "id": "9XY3cRrLvsC4"
      },
      "source": [
        "Since substrate composition is quite varied, it will be a nice idea to plot a relation between `cover` and `substrate` since substrate strongly affects the aquatic life."
      ]
    },
    {
      "cell_type": "markdown",
      "metadata": {
        "id": "ej0_etfrcxa0"
      },
      "source": [
        "### 5. Does `substrate` affect `cover`?\n",
        "\n",
        "We will do some work around for this particular analysis and later plot a correlation heatmap."
      ]
    },
    {
      "cell_type": "code",
      "execution_count": 35,
      "metadata": {
        "id": "AwOxJShtwYHp"
      },
      "outputs": [],
      "source": [
        "_si_data = data[data[\"measurementType\"]==\"substrate\"]"
      ]
    },
    {
      "cell_type": "code",
      "execution_count": 36,
      "metadata": {
        "id": "SrUyaooQvrDX"
      },
      "outputs": [],
      "source": [
        "# let us first create an empty dataframe, we will dress up our organised data there\n",
        "_si_df = pd.DataFrame()\n",
        "\n",
        "# since each substrate record is a string with data values seperated by \"|\" we will organise data into our newly created dataframe.\n",
        "# we will also add the corresponding record's cover parameter if its\n",
        "for i in _si_data.iterrows():\n",
        "  _dict = {x.strip().split(\"%\")[1].strip():x.strip().split(\"%\")[0] for x in i[1][\"measurementValue\"].split('|')}\n",
        "  _dict.update({x.strip().split(\"%\")[1].strip():x.strip().split(\"%\")[0] for x in data[data[\"id\"] == i[1][\"id\"]][data[data[\"id\"] == i[1][\"id\"]][\"measurementType\"]==\"cover\"][\"measurementValue\"].values[0].split(\"|\")})\n",
        "  _si_df=_si_df.append(_dict, ignore_index=True)"
      ]
    },
    {
      "cell_type": "code",
      "execution_count": 37,
      "metadata": {
        "colab": {
          "base_uri": "https://localhost:8080/",
          "height": 485
        },
        "id": "az6-HYTXzu37",
        "outputId": "9cbd5e40-5f9f-4009-8f36-3b8627c596d0"
      },
      "outputs": [
        {
          "data": {
            "text/html": [
              "\n",
              "  <div id=\"df-929c1fbd-25bc-4a0f-94a6-980a4e255a98\">\n",
              "    <div class=\"colab-df-container\">\n",
              "      <div>\n",
              "<style scoped>\n",
              "    .dataframe tbody tr th:only-of-type {\n",
              "        vertical-align: middle;\n",
              "    }\n",
              "\n",
              "    .dataframe tbody tr th {\n",
              "        vertical-align: top;\n",
              "    }\n",
              "\n",
              "    .dataframe thead th {\n",
              "        text-align: right;\n",
              "    }\n",
              "</style>\n",
              "<table border=\"1\" class=\"dataframe\">\n",
              "  <thead>\n",
              "    <tr style=\"text-align: right;\">\n",
              "      <th></th>\n",
              "      <th>bedrock</th>\n",
              "      <th>cobble</th>\n",
              "      <th>crustose coralline</th>\n",
              "      <th>articulated coralline</th>\n",
              "      <th>encrusting red</th>\n",
              "      <th>red seaweed</th>\n",
              "      <th>brown seaweed</th>\n",
              "      <th>none</th>\n",
              "      <th>other brown seaweed</th>\n",
              "      <th>sand</th>\n",
              "      <th>boulder</th>\n",
              "      <th>sessile invertebrates</th>\n",
              "      <th>mobile invertebrates</th>\n",
              "      <th>green seaweed</th>\n",
              "      <th>seagrasses</th>\n",
              "      <th>other</th>\n",
              "    </tr>\n",
              "  </thead>\n",
              "  <tbody>\n",
              "    <tr>\n",
              "      <th>0</th>\n",
              "      <td>76.7</td>\n",
              "      <td>23.3</td>\n",
              "      <td>16.7</td>\n",
              "      <td>10.0</td>\n",
              "      <td>3.3</td>\n",
              "      <td>46.7</td>\n",
              "      <td>6.7</td>\n",
              "      <td>16.7</td>\n",
              "      <td>0.0</td>\n",
              "      <td>0.0</td>\n",
              "      <td>0.0</td>\n",
              "      <td>0.0</td>\n",
              "      <td>0.0</td>\n",
              "      <td>0.0</td>\n",
              "      <td>0.0</td>\n",
              "      <td>0.0</td>\n",
              "    </tr>\n",
              "    <tr>\n",
              "      <th>1</th>\n",
              "      <td>76.7</td>\n",
              "      <td>0.0</td>\n",
              "      <td>6.7</td>\n",
              "      <td>20.0</td>\n",
              "      <td>3.3</td>\n",
              "      <td>40.0</td>\n",
              "      <td>0.0</td>\n",
              "      <td>13.3</td>\n",
              "      <td>16.7</td>\n",
              "      <td>23.3</td>\n",
              "      <td>0.0</td>\n",
              "      <td>0.0</td>\n",
              "      <td>0.0</td>\n",
              "      <td>0.0</td>\n",
              "      <td>0.0</td>\n",
              "      <td>0.0</td>\n",
              "    </tr>\n",
              "    <tr>\n",
              "      <th>2</th>\n",
              "      <td>50.0</td>\n",
              "      <td>3.3</td>\n",
              "      <td>6.7</td>\n",
              "      <td>3.3</td>\n",
              "      <td>0.0</td>\n",
              "      <td>16.7</td>\n",
              "      <td>0.0</td>\n",
              "      <td>53.3</td>\n",
              "      <td>6.7</td>\n",
              "      <td>33.3</td>\n",
              "      <td>13.3</td>\n",
              "      <td>13.3</td>\n",
              "      <td>0.0</td>\n",
              "      <td>0.0</td>\n",
              "      <td>0.0</td>\n",
              "      <td>0.0</td>\n",
              "    </tr>\n",
              "    <tr>\n",
              "      <th>3</th>\n",
              "      <td>83.3</td>\n",
              "      <td>16.7</td>\n",
              "      <td>20.0</td>\n",
              "      <td>20.0</td>\n",
              "      <td>3.3</td>\n",
              "      <td>20.0</td>\n",
              "      <td>6.7</td>\n",
              "      <td>10.0</td>\n",
              "      <td>20.0</td>\n",
              "      <td>0.0</td>\n",
              "      <td>0.0</td>\n",
              "      <td>0.0</td>\n",
              "      <td>0.0</td>\n",
              "      <td>0.0</td>\n",
              "      <td>0.0</td>\n",
              "      <td>0.0</td>\n",
              "    </tr>\n",
              "    <tr>\n",
              "      <th>4</th>\n",
              "      <td>63.3</td>\n",
              "      <td>20.0</td>\n",
              "      <td>30.0</td>\n",
              "      <td>0.0</td>\n",
              "      <td>3.3</td>\n",
              "      <td>13.3</td>\n",
              "      <td>3.3</td>\n",
              "      <td>13.3</td>\n",
              "      <td>0.0</td>\n",
              "      <td>3.3</td>\n",
              "      <td>13.3</td>\n",
              "      <td>36.7</td>\n",
              "      <td>0.0</td>\n",
              "      <td>0.0</td>\n",
              "      <td>0.0</td>\n",
              "      <td>0.0</td>\n",
              "    </tr>\n",
              "    <tr>\n",
              "      <th>...</th>\n",
              "      <td>...</td>\n",
              "      <td>...</td>\n",
              "      <td>...</td>\n",
              "      <td>...</td>\n",
              "      <td>...</td>\n",
              "      <td>...</td>\n",
              "      <td>...</td>\n",
              "      <td>...</td>\n",
              "      <td>...</td>\n",
              "      <td>...</td>\n",
              "      <td>...</td>\n",
              "      <td>...</td>\n",
              "      <td>...</td>\n",
              "      <td>...</td>\n",
              "      <td>...</td>\n",
              "      <td>...</td>\n",
              "    </tr>\n",
              "    <tr>\n",
              "      <th>529</th>\n",
              "      <td>76.7</td>\n",
              "      <td>13.3</td>\n",
              "      <td>6.7</td>\n",
              "      <td>20.0</td>\n",
              "      <td>10.0</td>\n",
              "      <td>20.0</td>\n",
              "      <td>6.7</td>\n",
              "      <td>16.7</td>\n",
              "      <td>6.7</td>\n",
              "      <td>10.0</td>\n",
              "      <td>0.0</td>\n",
              "      <td>13.3</td>\n",
              "      <td>0.0</td>\n",
              "      <td>0.0</td>\n",
              "      <td>0.0</td>\n",
              "      <td>0.0</td>\n",
              "    </tr>\n",
              "    <tr>\n",
              "      <th>530</th>\n",
              "      <td>80.0</td>\n",
              "      <td>20.0</td>\n",
              "      <td>10.0</td>\n",
              "      <td>23.3</td>\n",
              "      <td>6.7</td>\n",
              "      <td>23.3</td>\n",
              "      <td>6.7</td>\n",
              "      <td>13.3</td>\n",
              "      <td>3.3</td>\n",
              "      <td>0.0</td>\n",
              "      <td>0.0</td>\n",
              "      <td>13.3</td>\n",
              "      <td>0.0</td>\n",
              "      <td>0.0</td>\n",
              "      <td>0.0</td>\n",
              "      <td>0.0</td>\n",
              "    </tr>\n",
              "    <tr>\n",
              "      <th>531</th>\n",
              "      <td>83.3</td>\n",
              "      <td>6.7</td>\n",
              "      <td>23.3</td>\n",
              "      <td>30.0</td>\n",
              "      <td>13.3</td>\n",
              "      <td>16.7</td>\n",
              "      <td>0.0</td>\n",
              "      <td>10.0</td>\n",
              "      <td>0.0</td>\n",
              "      <td>0.0</td>\n",
              "      <td>10.0</td>\n",
              "      <td>6.7</td>\n",
              "      <td>0.0</td>\n",
              "      <td>0.0</td>\n",
              "      <td>0.0</td>\n",
              "      <td>0.0</td>\n",
              "    </tr>\n",
              "    <tr>\n",
              "      <th>532</th>\n",
              "      <td>53.3</td>\n",
              "      <td>0.0</td>\n",
              "      <td>20.0</td>\n",
              "      <td>6.7</td>\n",
              "      <td>0.0</td>\n",
              "      <td>20.0</td>\n",
              "      <td>3.3</td>\n",
              "      <td>40.0</td>\n",
              "      <td>0.0</td>\n",
              "      <td>40.0</td>\n",
              "      <td>6.7</td>\n",
              "      <td>10.0</td>\n",
              "      <td>0.0</td>\n",
              "      <td>0.0</td>\n",
              "      <td>0.0</td>\n",
              "      <td>0.0</td>\n",
              "    </tr>\n",
              "    <tr>\n",
              "      <th>533</th>\n",
              "      <td>70.0</td>\n",
              "      <td>10.0</td>\n",
              "      <td>10.0</td>\n",
              "      <td>30.0</td>\n",
              "      <td>0.0</td>\n",
              "      <td>36.7</td>\n",
              "      <td>0.0</td>\n",
              "      <td>23.3</td>\n",
              "      <td>0.0</td>\n",
              "      <td>16.7</td>\n",
              "      <td>3.3</td>\n",
              "      <td>0.0</td>\n",
              "      <td>0.0</td>\n",
              "      <td>0.0</td>\n",
              "      <td>0.0</td>\n",
              "      <td>0.0</td>\n",
              "    </tr>\n",
              "  </tbody>\n",
              "</table>\n",
              "<p>534 rows × 16 columns</p>\n",
              "</div>\n",
              "      <button class=\"colab-df-convert\" onclick=\"convertToInteractive('df-929c1fbd-25bc-4a0f-94a6-980a4e255a98')\"\n",
              "              title=\"Convert this dataframe to an interactive table.\"\n",
              "              style=\"display:none;\">\n",
              "        \n",
              "  <svg xmlns=\"http://www.w3.org/2000/svg\" height=\"24px\"viewBox=\"0 0 24 24\"\n",
              "       width=\"24px\">\n",
              "    <path d=\"M0 0h24v24H0V0z\" fill=\"none\"/>\n",
              "    <path d=\"M18.56 5.44l.94 2.06.94-2.06 2.06-.94-2.06-.94-.94-2.06-.94 2.06-2.06.94zm-11 1L8.5 8.5l.94-2.06 2.06-.94-2.06-.94L8.5 2.5l-.94 2.06-2.06.94zm10 10l.94 2.06.94-2.06 2.06-.94-2.06-.94-.94-2.06-.94 2.06-2.06.94z\"/><path d=\"M17.41 7.96l-1.37-1.37c-.4-.4-.92-.59-1.43-.59-.52 0-1.04.2-1.43.59L10.3 9.45l-7.72 7.72c-.78.78-.78 2.05 0 2.83L4 21.41c.39.39.9.59 1.41.59.51 0 1.02-.2 1.41-.59l7.78-7.78 2.81-2.81c.8-.78.8-2.07 0-2.86zM5.41 20L4 18.59l7.72-7.72 1.47 1.35L5.41 20z\"/>\n",
              "  </svg>\n",
              "      </button>\n",
              "      \n",
              "  <style>\n",
              "    .colab-df-container {\n",
              "      display:flex;\n",
              "      flex-wrap:wrap;\n",
              "      gap: 12px;\n",
              "    }\n",
              "\n",
              "    .colab-df-convert {\n",
              "      background-color: #E8F0FE;\n",
              "      border: none;\n",
              "      border-radius: 50%;\n",
              "      cursor: pointer;\n",
              "      display: none;\n",
              "      fill: #1967D2;\n",
              "      height: 32px;\n",
              "      padding: 0 0 0 0;\n",
              "      width: 32px;\n",
              "    }\n",
              "\n",
              "    .colab-df-convert:hover {\n",
              "      background-color: #E2EBFA;\n",
              "      box-shadow: 0px 1px 2px rgba(60, 64, 67, 0.3), 0px 1px 3px 1px rgba(60, 64, 67, 0.15);\n",
              "      fill: #174EA6;\n",
              "    }\n",
              "\n",
              "    [theme=dark] .colab-df-convert {\n",
              "      background-color: #3B4455;\n",
              "      fill: #D2E3FC;\n",
              "    }\n",
              "\n",
              "    [theme=dark] .colab-df-convert:hover {\n",
              "      background-color: #434B5C;\n",
              "      box-shadow: 0px 1px 3px 1px rgba(0, 0, 0, 0.15);\n",
              "      filter: drop-shadow(0px 1px 2px rgba(0, 0, 0, 0.3));\n",
              "      fill: #FFFFFF;\n",
              "    }\n",
              "  </style>\n",
              "\n",
              "      <script>\n",
              "        const buttonEl =\n",
              "          document.querySelector('#df-929c1fbd-25bc-4a0f-94a6-980a4e255a98 button.colab-df-convert');\n",
              "        buttonEl.style.display =\n",
              "          google.colab.kernel.accessAllowed ? 'block' : 'none';\n",
              "\n",
              "        async function convertToInteractive(key) {\n",
              "          const element = document.querySelector('#df-929c1fbd-25bc-4a0f-94a6-980a4e255a98');\n",
              "          const dataTable =\n",
              "            await google.colab.kernel.invokeFunction('convertToInteractive',\n",
              "                                                     [key], {});\n",
              "          if (!dataTable) return;\n",
              "\n",
              "          const docLinkHtml = 'Like what you see? Visit the ' +\n",
              "            '<a target=\"_blank\" href=https://colab.research.google.com/notebooks/data_table.ipynb>data table notebook</a>'\n",
              "            + ' to learn more about interactive tables.';\n",
              "          element.innerHTML = '';\n",
              "          dataTable['output_type'] = 'display_data';\n",
              "          await google.colab.output.renderOutput(dataTable, element);\n",
              "          const docLink = document.createElement('div');\n",
              "          docLink.innerHTML = docLinkHtml;\n",
              "          element.appendChild(docLink);\n",
              "        }\n",
              "      </script>\n",
              "    </div>\n",
              "  </div>\n",
              "  "
            ],
            "text/plain": [
              "     bedrock  cobble  crustose coralline  articulated coralline  \\\n",
              "0       76.7    23.3                16.7                   10.0   \n",
              "1       76.7     0.0                 6.7                   20.0   \n",
              "2       50.0     3.3                 6.7                    3.3   \n",
              "3       83.3    16.7                20.0                   20.0   \n",
              "4       63.3    20.0                30.0                    0.0   \n",
              "..       ...     ...                 ...                    ...   \n",
              "529     76.7    13.3                 6.7                   20.0   \n",
              "530     80.0    20.0                10.0                   23.3   \n",
              "531     83.3     6.7                23.3                   30.0   \n",
              "532     53.3     0.0                20.0                    6.7   \n",
              "533     70.0    10.0                10.0                   30.0   \n",
              "\n",
              "     encrusting red  red seaweed  brown seaweed  none  other brown seaweed  \\\n",
              "0               3.3         46.7            6.7  16.7                  0.0   \n",
              "1               3.3         40.0            0.0  13.3                 16.7   \n",
              "2               0.0         16.7            0.0  53.3                  6.7   \n",
              "3               3.3         20.0            6.7  10.0                 20.0   \n",
              "4               3.3         13.3            3.3  13.3                  0.0   \n",
              "..              ...          ...            ...   ...                  ...   \n",
              "529            10.0         20.0            6.7  16.7                  6.7   \n",
              "530             6.7         23.3            6.7  13.3                  3.3   \n",
              "531            13.3         16.7            0.0  10.0                  0.0   \n",
              "532             0.0         20.0            3.3  40.0                  0.0   \n",
              "533             0.0         36.7            0.0  23.3                  0.0   \n",
              "\n",
              "     sand  boulder  sessile invertebrates  mobile invertebrates  \\\n",
              "0     0.0      0.0                    0.0                   0.0   \n",
              "1    23.3      0.0                    0.0                   0.0   \n",
              "2    33.3     13.3                   13.3                   0.0   \n",
              "3     0.0      0.0                    0.0                   0.0   \n",
              "4     3.3     13.3                   36.7                   0.0   \n",
              "..    ...      ...                    ...                   ...   \n",
              "529  10.0      0.0                   13.3                   0.0   \n",
              "530   0.0      0.0                   13.3                   0.0   \n",
              "531   0.0     10.0                    6.7                   0.0   \n",
              "532  40.0      6.7                   10.0                   0.0   \n",
              "533  16.7      3.3                    0.0                   0.0   \n",
              "\n",
              "     green seaweed  seagrasses  other  \n",
              "0              0.0         0.0    0.0  \n",
              "1              0.0         0.0    0.0  \n",
              "2              0.0         0.0    0.0  \n",
              "3              0.0         0.0    0.0  \n",
              "4              0.0         0.0    0.0  \n",
              "..             ...         ...    ...  \n",
              "529            0.0         0.0    0.0  \n",
              "530            0.0         0.0    0.0  \n",
              "531            0.0         0.0    0.0  \n",
              "532            0.0         0.0    0.0  \n",
              "533            0.0         0.0    0.0  \n",
              "\n",
              "[534 rows x 16 columns]"
            ]
          },
          "execution_count": 37,
          "metadata": {},
          "output_type": "execute_result"
        }
      ],
      "source": [
        "# now we will replace all NaNs with 0% and cast every value to float type\n",
        "_si_df.fillna(0.0, inplace=True)\n",
        "_si_df = _si_df.astype(float)\n",
        "_si_df"
      ]
    },
    {
      "cell_type": "markdown",
      "metadata": {
        "id": "45N9L2lBcQah"
      },
      "source": [
        "Now this looks good. We have done most of the hardwork and the time has come to do the most interesting part of this analysis. Fasten your seatbelts!\n",
        "\n",
        "We are going to plot a correlation plot between `substrate` parameters and `cover` values to check whether `substrate` indeed affects `cover` or not."
      ]
    },
    {
      "cell_type": "code",
      "execution_count": 38,
      "metadata": {
        "colab": {
          "base_uri": "https://localhost:8080/",
          "height": 629
        },
        "id": "wHWDE7EOcbsq",
        "outputId": "a07c4374-24d6-4391-c1ef-db59c5cb5826"
      },
      "outputs": [
        {
          "data": {
            "image/png": "[encoded data removed]",
            "text/plain": [
              "<Figure size 864x576 with 2 Axes>"
            ]
          },
          "metadata": {},
          "output_type": "display_data"
        }
      ],
      "source": [
        "# let's get the correlation matrix first\n",
        "corr = _si_df.corr()\n",
        "\n",
        "# now we will drop the repeated columns from both axis\n",
        "corr.drop([\"other brown seaweed\", \"crustose coralline\",\"articulated coralline\",\"brown seaweed\",\"encrusting red\",\"red seaweed\",\"sessile invertebrates\",\"mobile invertebrates\",\"green seaweed\",\"seagrasses\",\"none\"], axis=0, inplace=True)\n",
        "corr.drop([\"bedrock\",\"cobble\",\"sand\",\"boulder\"], axis=1, inplace=True)\n",
        "\n",
        "# now let us draw the correlation heatmap\n",
        "sns.heatmap(corr)\n",
        "plt.title(\"Correlation heatmap between `cover` and `substrate`\")\n",
        "plt.xlabel('cover values')\n",
        "plt.ylabel('substrate values');"
      ]
    },
    {
      "cell_type": "markdown",
      "metadata": {
        "id": "_IJ9E1v1exse"
      },
      "source": [
        "From this correlation plot we can make out that:\n",
        "+ `sand` substrate and `none` cover are highly correlated, no cover was mostly found when `sand` substrate was significant\n",
        "+ `bedrock` substrate and `other brown seaweed` are highly negatively correlated, which means when `bedrock` was signficant `other brown seaweed` was hardly found.\n",
        "+ similarly, `sand` and `crustose coralline` are also significantly negatively correlated."
      ]
    }
  ],
  "metadata": {
    "colab": {
      "authorship_tag": "ABX9TyNJZ8xjC/iCky8d6oSjc/Ob",
      "collapsed_sections": [],
      "include_colab_link": true,
      "name": "MeasurementOrFact_Analysis.ipynb",
      "provenance": []
    },
    "kernelspec": {
      "display_name": "Python 3.8.10 64-bit",
      "language": "python",
      "name": "python3"
    },
    "language_info": {
      "name": "python",
      "version": "3.8.10"
    },
    "vscode": {
      "interpreter": {
        "hash": "916dbcbb3f70747c44a77c7bcd40155683ae19c65e1c03b4aa3499c5328201f1"
      }
    }
  },
  "nbformat": 4,
  "nbformat_minor": 0
}
