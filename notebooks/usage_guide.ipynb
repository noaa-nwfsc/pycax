{
  "cells": [
    {
      "cell_type": "markdown",
      "metadata": {
        "colab_type": "text",
        "id": "view-in-github"
      },
      "source": [
        "[![Open In Colab](https://colab.research.google.com/assets/colab-badge.svg)](https://colab.research.google.com/github/nwfsc-math-bio/pycax/blob/main/notebooks/usage_guide.ipynb)"
      ]
    },
    {
      "cell_type": "markdown",
      "metadata": {
        "id": "5TYkZC1w_mN7"
      },
      "source": [
        "# pycax Example Usage\n",
        "pycax parent repo: [github.com/nwfsc-math-bio/pycax](https://github.com/nwfsc-math-bio/pycax). This Notebook contains examples of modules inside pycax package. pycax is the Python client for the CAX API."
      ]
    },
    {
      "cell_type": "markdown",
      "metadata": {
        "id": "XyP2dHU5BBrb"
      },
      "source": [
        "## Installing pycax"
      ]
    },
    {
      "cell_type": "code",
      "execution_count": null,
      "metadata": {
        "id": "o2UA2PTMBFlq"
      },
      "outputs": [],
      "source": [
        "try:\n",
        "  import pycax\n",
        "except:\n",
        "  !pip install -q git+https://github.com/nwfsc-math-bio/pycax.git"
      ]
    },
    {
      "cell_type": "code",
      "execution_count": null,
      "metadata": {},
      "outputs": [],
      "source": [
        "!pip install -q git+https://github.com/nwfsc-math-bio/pycax.git"
      ]
    },
    {
      "cell_type": "markdown",
      "metadata": {},
      "source": [
        "## datasets module\n",
        "\n",
        "List the available tables"
      ]
    },
    {
      "cell_type": "code",
      "execution_count": 5,
      "metadata": {},
      "outputs": [],
      "source": [
        "import pandas as pd\n",
        "import pycax\n",
        "res = pycax.datasets.getdf()"
      ]
    },
    {
      "cell_type": "code",
      "execution_count": 8,
      "metadata": {},
      "outputs": [
        {
          "data": {
            "text/html": [
              "<div>\n",
              "<style scoped>\n",
              "    .dataframe tbody tr th:only-of-type {\n",
              "        vertical-align: middle;\n",
              "    }\n",
              "\n",
              "    .dataframe tbody tr th {\n",
              "        vertical-align: top;\n",
              "    }\n",
              "\n",
              "    .dataframe thead th {\n",
              "        text-align: right;\n",
              "    }\n",
              "</style>\n",
              "<table border=\"1\" class=\"dataframe\">\n",
              "  <thead>\n",
              "    <tr style=\"text-align: right;\">\n",
              "      <th></th>\n",
              "      <th>name</th>\n",
              "      <th>id</th>\n",
              "    </tr>\n",
              "  </thead>\n",
              "  <tbody>\n",
              "    <tr>\n",
              "      <th>0</th>\n",
              "      <td>SuperPopulations</td>\n",
              "      <td>009A08FE-6479-44FC-9B6F-01C55E2C8BA3</td>\n",
              "    </tr>\n",
              "    <tr>\n",
              "      <th>1</th>\n",
              "      <td>XPortCA_PNI</td>\n",
              "      <td>0474CE96-789B-4E16-8FD5-05C431E5034A</td>\n",
              "    </tr>\n",
              "    <tr>\n",
              "      <th>2</th>\n",
              "      <td>EscData4GIS</td>\n",
              "      <td>0603946B-84FF-450D-8F3E-C2513517126D</td>\n",
              "    </tr>\n",
              "    <tr>\n",
              "      <th>3</th>\n",
              "      <td>XPortCA_PresmoltAbundance_01</td>\n",
              "      <td>086448AE-4F1F-4FE1-B794-6CC4FB0C451F</td>\n",
              "    </tr>\n",
              "    <tr>\n",
              "      <th>4</th>\n",
              "      <td>Reference</td>\n",
              "      <td>1FB86FDA-2DC0-4FCD-9B7F-E37C0C57114F</td>\n",
              "    </tr>\n",
              "  </tbody>\n",
              "</table>\n",
              "</div>"
            ],
            "text/plain": [
              "                           name                                    id\n",
              "0              SuperPopulations  009A08FE-6479-44FC-9B6F-01C55E2C8BA3\n",
              "1                   XPortCA_PNI  0474CE96-789B-4E16-8FD5-05C431E5034A\n",
              "2                   EscData4GIS  0603946B-84FF-450D-8F3E-C2513517126D\n",
              "3  XPortCA_PresmoltAbundance_01  086448AE-4F1F-4FE1-B794-6CC4FB0C451F\n",
              "4                     Reference  1FB86FDA-2DC0-4FCD-9B7F-E37C0C57114F"
            ]
          },
          "execution_count": 8,
          "metadata": {},
          "output_type": "execute_result"
        }
      ],
      "source": [
        "res[['name', 'id']].head()"
      ]
    },
    {
      "cell_type": "markdown",
      "metadata": {},
      "source": [
        "## tables module\n",
        "\n",
        "Get a table using table name."
      ]
    },
    {
      "cell_type": "code",
      "execution_count": 8,
      "metadata": {},
      "outputs": [
        {
          "data": {
            "text/html": [
              "<div>\n",
              "<style scoped>\n",
              "    .dataframe tbody tr th:only-of-type {\n",
              "        vertical-align: middle;\n",
              "    }\n",
              "\n",
              "    .dataframe tbody tr th {\n",
              "        vertical-align: top;\n",
              "    }\n",
              "\n",
              "    .dataframe thead th {\n",
              "        text-align: right;\n",
              "    }\n",
              "</style>\n",
              "<table border=\"1\" class=\"dataframe\">\n",
              "  <thead>\n",
              "    <tr style=\"text-align: right;\">\n",
              "      <th></th>\n",
              "      <th>ascode</th>\n",
              "      <th>countpermile</th>\n",
              "      <th>repeatspawners</th>\n",
              "      <th>asnid</th>\n",
              "      <th>agencyid</th>\n",
              "      <th>countcidisttype</th>\n",
              "      <th>countciuplim</th>\n",
              "      <th>compilerrecordid</th>\n",
              "      <th>begindate</th>\n",
              "      <th>id</th>\n",
              "      <th>...</th>\n",
              "      <th>calcmethid</th>\n",
              "      <th>countvalue</th>\n",
              "      <th>trendid</th>\n",
              "      <th>timessurveyed</th>\n",
              "      <th>asmethod</th>\n",
              "      <th>assource</th>\n",
              "      <th>countcilowlim</th>\n",
              "      <th>milessurveyed</th>\n",
              "      <th>countcilevel</th>\n",
              "      <th>nullflag</th>\n",
              "    </tr>\n",
              "  </thead>\n",
              "  <tbody>\n",
              "    <tr>\n",
              "      <th>0</th>\n",
              "      <td>98</td>\n",
              "      <td></td>\n",
              "      <td></td>\n",
              "      <td>98</td>\n",
              "      <td>15</td>\n",
              "      <td></td>\n",
              "      <td></td>\n",
              "      <td></td>\n",
              "      <td>November, 01 1979 00:00:00</td>\n",
              "      <td>00000A70-075A-4AE1-857D-42BC1048939C</td>\n",
              "      <td>...</td>\n",
              "      <td>314</td>\n",
              "      <td>1024.0</td>\n",
              "      <td>54227</td>\n",
              "      <td></td>\n",
              "      <td>98</td>\n",
              "      <td></td>\n",
              "      <td></td>\n",
              "      <td></td>\n",
              "      <td></td>\n",
              "      <td>No</td>\n",
              "    </tr>\n",
              "    <tr>\n",
              "      <th>1</th>\n",
              "      <td>98</td>\n",
              "      <td>0.0</td>\n",
              "      <td></td>\n",
              "      <td>98</td>\n",
              "      <td>10</td>\n",
              "      <td></td>\n",
              "      <td></td>\n",
              "      <td></td>\n",
              "      <td>September, 03 2002 00:00:00</td>\n",
              "      <td>0000219F-A662-4A16-8F46-ED171C56990A</td>\n",
              "      <td>...</td>\n",
              "      <td>304</td>\n",
              "      <td>0.0</td>\n",
              "      <td>44227</td>\n",
              "      <td>1</td>\n",
              "      <td>98</td>\n",
              "      <td></td>\n",
              "      <td></td>\n",
              "      <td>2.982007</td>\n",
              "      <td></td>\n",
              "      <td>No</td>\n",
              "    </tr>\n",
              "    <tr>\n",
              "      <th>2</th>\n",
              "      <td>98</td>\n",
              "      <td></td>\n",
              "      <td></td>\n",
              "      <td>98</td>\n",
              "      <td>15</td>\n",
              "      <td></td>\n",
              "      <td></td>\n",
              "      <td></td>\n",
              "      <td>March, 01 1973 00:00:00</td>\n",
              "      <td>0000578E-E906-41CA-A778-7EC7A8C06DDA</td>\n",
              "      <td>...</td>\n",
              "      <td>98</td>\n",
              "      <td></td>\n",
              "      <td>53571</td>\n",
              "      <td></td>\n",
              "      <td>98</td>\n",
              "      <td></td>\n",
              "      <td></td>\n",
              "      <td></td>\n",
              "      <td></td>\n",
              "      <td>Yes</td>\n",
              "    </tr>\n",
              "  </tbody>\n",
              "</table>\n",
              "<p>3 rows × 29 columns</p>\n",
              "</div>"
            ],
            "text/plain": [
              "   ascode countpermile repeatspawners  asnid  agencyid countcidisttype  \\\n",
              "0      98                                 98        15                   \n",
              "1      98          0.0                    98        10                   \n",
              "2      98                                 98        15                   \n",
              "\n",
              "  countciuplim compilerrecordid                    begindate  \\\n",
              "0                                 November, 01 1979 00:00:00   \n",
              "1                                September, 03 2002 00:00:00   \n",
              "2                                    March, 01 1973 00:00:00   \n",
              "\n",
              "                                     id  ... calcmethid  countvalue trendid  \\\n",
              "0  00000A70-075A-4AE1-857D-42BC1048939C  ...        314      1024.0   54227   \n",
              "1  0000219F-A662-4A16-8F46-ED171C56990A  ...        304         0.0   44227   \n",
              "2  0000578E-E906-41CA-A778-7EC7A8C06DDA  ...         98               53571   \n",
              "\n",
              "  timessurveyed asmethod assource  countcilowlim  milessurveyed countcilevel  \\\n",
              "0                     98                                                       \n",
              "1             1       98                               2.982007                \n",
              "2                     98                                                       \n",
              "\n",
              "   nullflag  \n",
              "0        No  \n",
              "1        No  \n",
              "2       Yes  \n",
              "\n",
              "[3 rows x 29 columns]"
            ]
          },
          "execution_count": 8,
          "metadata": {},
          "output_type": "execute_result"
        }
      ],
      "source": [
        "res = pycax.tables.getdf('EscData', qargs= {'limit': 3})\n",
        "res"
      ]
    }
  ],
  "metadata": {
    "colab": {
      "collapsed_sections": [],
      "include_colab_link": true,
      "name": "pyobis Examples Notebook.ipynb",
      "provenance": []
    },
    "interpreter": {
      "hash": "b0fa6594d8f4cbf19f97940f81e996739fb7646882a419484c72d19e05852a7e"
    },
    "kernelspec": {
      "display_name": "Python 3.9.12 64-bit",
      "language": "python",
      "name": "python3"
    },
    "language_info": {
      "codemirror_mode": {
        "name": "ipython",
        "version": 3
      },
      "file_extension": ".py",
      "mimetype": "text/x-python",
      "name": "python",
      "nbconvert_exporter": "python",
      "pygments_lexer": "ipython3",
      "version": "3.11.2"
    },
    "vscode": {
      "interpreter": {
        "hash": "916dbcbb3f70747c44a77c7bcd40155683ae19c65e1c03b4aa3499c5328201f1"
      }
    }
  },
  "nbformat": 4,
  "nbformat_minor": 0
}
